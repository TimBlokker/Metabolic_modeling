{
 "metadata": {
  "language_info": {
   "codemirror_mode": {
    "name": "ipython",
    "version": 3
   },
   "file_extension": ".py",
   "mimetype": "text/x-python",
   "name": "python",
   "nbconvert_exporter": "python",
   "pygments_lexer": "ipython3",
   "version": "3.8.3-final"
  },
  "orig_nbformat": 2,
  "kernelspec": {
   "name": "python3",
   "display_name": "Python 3"
  }
 },
 "nbformat": 4,
 "nbformat_minor": 2,
 "cells": [
  {
   "source": [
    "---\n",
    "## Reinforced Clostridial Medium (RCM)\n",
    "http://www.oxoid.com/UK/blue/prod_detail/prod_detail.asp?pr=CM0149&org=53&c=UK&lang=EN\n",
    "\n",
    "* Yeast Extract -> [lots of stuff in it, unsure of what's garbage](https://www.chemicalbook.com/ChemicalProductProperty_EN_CB9440339.htm#:~:text=Yeast%20extract%20has%20a%20protein,aromatic%20compounds%20and%20other%20components.)\n",
    "    * Glutathione: gthrd (reduced version)\n",
    "    * 18 AA's: see above\n",
    "    * Dextran: glc__D (it's made of glucose)\n",
    "    * Mannan: mannan\n",
    "    * Trehalose: tre\n",
    "    * B-vitamins: (Clemence mentioned vitamins being important so I'm putting them all in)\n",
    "        * 1. Thiamin -> thm\n",
    "        * 2. Riboflavin -> ribflv\n",
    "        * 3. Niacin -> trp__L (made of tryptophan)\n",
    "        * 5. Pantothenic Acid -> pnto__R\n",
    "        * 6. Pyridoxine -> pydxn\n",
    "        * 7. Biotin -> btn\n",
    "        * 9. Folic Acid -> ... can't find anything\n",
    "        * 12. Cobalamin -> b12 (or cbl1)\n",
    "    * Biotin\n",
    "* Peptone -> Sticking with the above logic, probably a source of all AAs\n",
    "* Glucose -> Assuming D_Glucose: glc__D\n",
    "* Soluble Starch -> starch1200\n",
    "* Sodium Chloride -> na1, cl\n",
    "* Sodium Acetate -> Assuming breaking down into sodium and acetate: ac, na1\n",
    "* Cysteine Hydrochloride -> cys_L, cl, h (could also be cys_D? cys_L is more widely used)\n",
    "* Agar: Agarose (70%) and Agaropectin (30%) [according to Wiki](https://en.wikipedia.org/wiki/Agar)\n",
    "    * Agarose: D-galactose & 3,6-anhydro-L-galactopyranose\n",
    "        * D-galactose: gal\n",
    "        * 3,6-anhydro-L-galactopyranose: [similar structure & compositon to beta-D-allose](https://pubchem.ncbi.nlm.nih.gov/#query=CID67020466%20structure&tab=similarity)\n",
    "            * D-Allose: all__D\n",
    "    * Agaropectin: D-galactose, L-galactose, pyruvate, sulfate\n",
    "        * D-galactose: gal\n",
    "        * L-galactose: gal__L\n",
    "        * Pyruvate: pyr\n",
    "        * Sulfate: so4"
   ],
   "cell_type": "markdown",
   "metadata": {}
  },
  {
   "cell_type": "code",
   "execution_count": 1,
   "metadata": {},
   "outputs": [],
   "source": [
    "#import packages\n",
    "from libchebipy import ChebiEntity\n",
    "import libchebipy\n",
    "import pubchempy as pcp\n",
    "import io\n",
    "import requests\n",
    "import json\n",
    "import cobra\n",
    "import functions\n",
    "from functions import *"
   ]
  },
  {
   "cell_type": "code",
   "execution_count": 2,
   "metadata": {},
   "outputs": [
    {
     "output_type": "stream",
     "name": "stdout",
     "text": [
      "Metabolites :  833\nReactions :  1030\nGenes :  602\nCompartments :  {'c': '', 'e': ''}\nObjective function : \n Maximize\n1.0*Biomass_FP - 1.0*Biomass_FP_reverse_ee33b \n\n"
     ]
    }
   ],
   "source": [
    "model=cobra.io.load_matlab_model('Data/iFpraus_v_1_0.mat')\n",
    "info(model)"
   ]
  },
  {
   "source": [
    "| Component              | Concentration (g/L) |\n",
    "|------------------------|---------------------|\n",
    "| Yeast Extract          | 13.0                |\n",
    "| Peptone                | 10.0                |\n",
    "| Glucose                | 5.0                 |\n",
    "| Soluble Starch         | 1.0                 |\n",
    "| Sodium Chloride        | 5.0                 |\n",
    "| Sodium Acetate         | 3.0                 |\n",
    "| Cysteine Hydrochloride | 0.5                 |\n",
    "| Agar                   | 0.5                 |"
   ],
   "cell_type": "markdown",
   "metadata": {}
  },
  {
   "cell_type": "code",
   "execution_count": 22,
   "metadata": {},
   "outputs": [
    {
     "output_type": "execute_result",
     "data": {
      "text/plain": [
       "          metab        growth\n",
       "64    glyc3p(e)  5.518982e+00\n",
       "119       pi(e)  5.518982e+00\n",
       "110      nac(e)  7.879200e-13\n",
       "141    trp_L(e)  6.209833e-15\n",
       "87         k(e)  3.821436e-15\n",
       "41   cobalt2(e)  3.598136e-15\n",
       "43       cu2(e)  3.598136e-15\n",
       "50       fol(e)  1.340104e-15\n",
       "131    ser_L(e) -2.866077e-15\n",
       "39        cl(e) -2.943929e-15\n",
       "29       btn(e) -7.165192e-15\n",
       "32       ca2(e) -1.528574e-14\n",
       "121   pnto_R(e) -8.216087e-14\n",
       "132      so4(e) -8.598231e-14\n",
       "126     pydx(e) -1.571566e-13\n",
       "106      mg2(e) -1.714438e-13"
      ],
      "text/html": "<div>\n<style scoped>\n    .dataframe tbody tr th:only-of-type {\n        vertical-align: middle;\n    }\n\n    .dataframe tbody tr th {\n        vertical-align: top;\n    }\n\n    .dataframe thead th {\n        text-align: right;\n    }\n</style>\n<table border=\"1\" class=\"dataframe\">\n  <thead>\n    <tr style=\"text-align: right;\">\n      <th></th>\n      <th>metab</th>\n      <th>growth</th>\n    </tr>\n  </thead>\n  <tbody>\n    <tr>\n      <th>64</th>\n      <td>glyc3p(e)</td>\n      <td>5.518982e+00</td>\n    </tr>\n    <tr>\n      <th>119</th>\n      <td>pi(e)</td>\n      <td>5.518982e+00</td>\n    </tr>\n    <tr>\n      <th>110</th>\n      <td>nac(e)</td>\n      <td>7.879200e-13</td>\n    </tr>\n    <tr>\n      <th>141</th>\n      <td>trp_L(e)</td>\n      <td>6.209833e-15</td>\n    </tr>\n    <tr>\n      <th>87</th>\n      <td>k(e)</td>\n      <td>3.821436e-15</td>\n    </tr>\n    <tr>\n      <th>41</th>\n      <td>cobalt2(e)</td>\n      <td>3.598136e-15</td>\n    </tr>\n    <tr>\n      <th>43</th>\n      <td>cu2(e)</td>\n      <td>3.598136e-15</td>\n    </tr>\n    <tr>\n      <th>50</th>\n      <td>fol(e)</td>\n      <td>1.340104e-15</td>\n    </tr>\n    <tr>\n      <th>131</th>\n      <td>ser_L(e)</td>\n      <td>-2.866077e-15</td>\n    </tr>\n    <tr>\n      <th>39</th>\n      <td>cl(e)</td>\n      <td>-2.943929e-15</td>\n    </tr>\n    <tr>\n      <th>29</th>\n      <td>btn(e)</td>\n      <td>-7.165192e-15</td>\n    </tr>\n    <tr>\n      <th>32</th>\n      <td>ca2(e)</td>\n      <td>-1.528574e-14</td>\n    </tr>\n    <tr>\n      <th>121</th>\n      <td>pnto_R(e)</td>\n      <td>-8.216087e-14</td>\n    </tr>\n    <tr>\n      <th>132</th>\n      <td>so4(e)</td>\n      <td>-8.598231e-14</td>\n    </tr>\n    <tr>\n      <th>126</th>\n      <td>pydx(e)</td>\n      <td>-1.571566e-13</td>\n    </tr>\n    <tr>\n      <th>106</th>\n      <td>mg2(e)</td>\n      <td>-1.714438e-13</td>\n    </tr>\n  </tbody>\n</table>\n</div>"
     },
     "metadata": {},
     "execution_count": 22
    }
   ],
   "source": [
    "# Get medium from model reactions\n",
    "root_model = model.copy()\n",
    "current_medium = [metab.lstrip('EX_') for metab in list(root_model.medium.keys())]\n",
    "\n",
    "# Check which metabolites control growth by removing one at a time and seeing the results\n",
    "def growth_stoppers(model, metabolites):\n",
    "    results = {}\n",
    "    for metabolite in metabolites:\n",
    "        metabolites.remove(metabolite.lstrip('EX_'))\n",
    "        test_model = medium(model, metabolites)\n",
    "        results[metabolite.lstrip('EX_')] = test_model.slim_optimize()\n",
    "        metabolites = [metab.lstrip(\"EX_\") for metab in metabolites]\n",
    "        metabolites.append(metabolite.lstrip('EX_'))\n",
    "\n",
    "    import pandas as pd\n",
    "    results_df = pd.DataFrame(results.items(), columns=[\"metab\",\"growth\"]).sort_values('growth', ascending=False)\n",
    "\n",
    "    return results_df\n",
    "\n",
    "growth_check_df = growth_stoppers(root_model, current_medium)\n",
    "\n",
    "# Filtering the dataframe to find the metabolites that hinder growth the most\n",
    "# (If growth is less than the mean, then it's considered to be enough to consider not removing it from the theoretical medium)\n",
    "# Don't take these out of the medium if you can help it:\n",
    "mandatory = growth_check_df[growth_check_df['growth'] < growth_check_df['growth'].mean()]\n",
    "mandatory"
   ]
  },
  {
   "cell_type": "code",
   "execution_count": 23,
   "metadata": {},
   "outputs": [],
   "source": [
    "### Remove metabolites from the medium that can't be justified\n",
    "# This part is where the metabolites for each component of the media are removeed\n",
    "# This is entirely subjective and should be based on some kind of prior knowledge\n",
    "# (Please don't delete lines, simply comment them out <3)\n",
    "\n",
    "# current_medium.remove('EX_3mop(e)')\n",
    "current_medium.remove('EX_4abz(e)')\n",
    "current_medium.remove('EX_5oxpro(e)')\n",
    "# current_medium.remove('EX_Lcyst(e)')\n",
    "# current_medium.remove('EX_Lcystin(e)')\n",
    "# current_medium.remove('EX_ac(e)')\n",
    "# current_medium.remove('EX_acasp(e)')\n",
    "# current_medium.remove('EX_acgal(e)')\n",
    "current_medium.remove('EX_acgalglcur(e)')\n",
    "# current_medium.remove('EX_acgam(e)')\n",
    "# current_medium.remove('EX_acglu(e)')\n",
    "# current_medium.remove('EX_acnam(e)')\n",
    "# current_medium.remove('EX_ade(e)')\n",
    "current_medium.remove('EX_adocbl(e)')\n",
    "# current_medium.remove('EX_ala_D(e)')\n",
    "# current_medium.remove('EX_ala_L(e)')\n",
    "# current_medium.remove('EX_alaala(e)')\n",
    "# current_medium.remove('EX_alaasp(e)')\n",
    "# current_medium.remove('EX_alagln(e)')\n",
    "# current_medium.remove('EX_alaglu(e)')\n",
    "# current_medium.remove('EX_alagly(e)')\n",
    "# current_medium.remove('EX_alahis(e)')\n",
    "# current_medium.remove('EX_alaleu(e)')\n",
    "# current_medium.remove('EX_alathr(e)')\n",
    "current_medium.remove('EX_arab_L(e)')\n",
    "# current_medium.remove('EX_arg_L(e)')\n",
    "# current_medium.remove('EX_asn_L(e)')\n",
    "current_medium.remove('EX_aso3(e)')\n",
    "current_medium.remove('EX_aso4(e)')\n",
    "# current_medium.remove('EX_asp_L(e)')\n",
    "# current_medium.remove('EX_btn(e)')\n",
    "current_medium.remove('EX_but(e)')\n",
    "current_medium.remove('EX_butso3(e)')\n",
    "# current_medium.remove('EX_ca2(e)')\n",
    "current_medium.remove('EX_cbl1(e)')\n",
    "current_medium.remove('EX_cbl2(e)')\n",
    "current_medium.remove('EX_cd2(e)')\n",
    "current_medium.remove('EX_cellb(e)')\n",
    "# current_medium.remove('EX_cgly(e)')\n",
    "current_medium.remove('EX_cit(e)')\n",
    "# current_medium.remove('EX_cl(e)')\n",
    "current_medium.remove('EX_co2(e)')\n",
    "# current_medium.remove('EX_cobalt2(e)') ###\n",
    "# current_medium.remove('EX_cps_fp(e)') ###\n",
    "# current_medium.remove('EX_cu2(e)')\n",
    "# current_medium.remove('EX_cys_L(e)')\n",
    "current_medium.remove('EX_dhor_S(e)')\n",
    "current_medium.remove('EX_ethso3(e)')\n",
    "current_medium.remove('EX_fe2(e)')\n",
    "# current_medium.remove('EX_fe3(e)')\n",
    "current_medium.remove('EX_fe3dcit(e)')\n",
    "# current_medium.remove('EX_fol(e)')\n",
    "current_medium.remove('EX_for(e)')\n",
    "current_medium.remove('EX_fru(e)')\n",
    "current_medium.remove('EX_fum(e)')\n",
    "current_medium.remove('EX_gal(e)')\n",
    "current_medium.remove('EX_galur(e)')\n",
    "# current_medium.remove('EX_gam(e)')\n",
    "# current_medium.remove('EX_glc(e)')\n",
    "# current_medium.remove('EX_glcur(e)')\n",
    "# current_medium.remove('EX_gln_L(e)')\n",
    "# current_medium.remove('EX_glu_L(e)')\n",
    "# current_medium.remove('EX_gly(e)')\n",
    "# current_medium.remove('EX_glyasn(e)')\n",
    "# current_medium.remove('EX_glyasp(e)')\n",
    "# current_medium.remove('EX_glyc3p(e)') ###\n",
    "current_medium.remove('EX_glyc_R(e)')\n",
    "# current_medium.remove('EX_glygln(e)')\n",
    "# current_medium.remove('EX_glyglu(e)')\n",
    "# current_medium.remove('EX_glygly(e)')\n",
    "# current_medium.remove('EX_glyleu(e)')\n",
    "# current_medium.remove('EX_glymet(e)')\n",
    "# current_medium.remove('EX_glyphe(e)')\n",
    "# current_medium.remove('EX_glypro(e)')\n",
    "# current_medium.remove('EX_glytyr(e)')\n",
    "current_medium.remove('EX_gthox(e)')\n",
    "current_medium.remove('EX_gthrd(e)')\n",
    "# current_medium.remove('EX_gua(e)')\n",
    "# current_medium.remove('EX_h(e)')\n",
    "# current_medium.remove('EX_h2o(e)')\n",
    "current_medium.remove('EX_h2s(e)')\n",
    "current_medium.remove('EX_hg2(e)')\n",
    "current_medium.remove('EX_his_L(e)')\n",
    "current_medium.remove('EX_hxan(e)')\n",
    "current_medium.remove('EX_ile_L(e)')\n",
    "current_medium.remove('EX_ins(e)')\n",
    "current_medium.remove('EX_inulin(e)')\n",
    "current_medium.remove('EX_isetac(e)')\n",
    "# current_medium.remove('EX_k(e)')\n",
    "current_medium.remove('EX_kesto(e)')\n",
    "current_medium.remove('EX_kestopt(e)')\n",
    "current_medium.remove('EX_kestottr(e)')\n",
    "current_medium.remove('EX_lac_D(e)')\n",
    "current_medium.remove('EX_lcts(e)')\n",
    "# current_medium.remove('EX_leu_L(e)')\n",
    "# current_medium.remove('EX_leugly(e)')\n",
    "# current_medium.remove('EX_leuleu(e)')\n",
    "# current_medium.remove('EX_lys_L(e)')\n",
    "current_medium.remove('EX_mal_L(e)')\n",
    "current_medium.remove('EX_malt(e)')\n",
    "current_medium.remove('EX_man(e)')\n",
    "current_medium.remove('EX_meoh(e)')\n",
    "# current_medium.remove('EX_met_D(e)')\n",
    "# current_medium.remove('EX_met_L(e)')\n",
    "# current_medium.remove('EX_metala(e)')\n",
    "# current_medium.remove('EX_metsox_R_L(e)')\n",
    "# current_medium.remove('EX_metsox_S_L(e)')\n",
    "# current_medium.remove('EX_mg2(e)')\n",
    "current_medium.remove('EX_mobd(e)')\n",
    "current_medium.remove('EX_mso3(e)')\n",
    "# current_medium.remove('EX_na1(e)')\n",
    "# current_medium.remove('EX_nac(e)') ###\n",
    "current_medium.remove('EX_ncam(e)')\n",
    "# current_medium.remove('EX_nh4(e)')\n",
    "current_medium.remove('EX_o2(e)')\n",
    "current_medium.remove('EX_orn(e)')\n",
    "current_medium.remove('EX_orot(e)')\n",
    "# current_medium.remove('EX_pb(e)')\n",
    "# current_medium.remove('EX_pect(e)') ###\n",
    "# current_medium.remove('EX_phe_L(e)')\n",
    "# current_medium.remove('EX_pi(e)')\n",
    "current_medium.remove('EX_plac(e)')\n",
    "# current_medium.remove('EX_pnto_R(e)')\n",
    "# current_medium.remove('EX_pro_L(e)')\n",
    "# current_medium.remove('EX_progly(e)')\n",
    "current_medium.remove('EX_ptrc(e)')\n",
    "# current_medium.remove('EX_pydam(e)')\n",
    "# current_medium.remove('EX_pydx(e)') ###\n",
    "# current_medium.remove('EX_pydxn(e)')\n",
    "# current_medium.remove('EX_rbflvrd(e)')\n",
    "# current_medium.remove('EX_ribflv(e)')\n",
    "current_medium.remove('EX_seln(e)')\n",
    "# current_medium.remove('EX_ser_L(e)')\n",
    "# current_medium.remove('EX_so4(e)') ###\n",
    "current_medium.remove('EX_spmd(e)')\n",
    "# current_medium.remove('EX_strch1(e)')\n",
    "current_medium.remove('EX_succ(e)')\n",
    "current_medium.remove('EX_sulfac(e)')\n",
    "# current_medium.remove('EX_taur(e)')\n",
    "# current_medium.remove('EX_thm(e)')\n",
    "# current_medium.remove('EX_thr_L(e)')\n",
    "current_medium.remove('EX_thymd(e)')\n",
    "# current_medium.remove('EX_trp_L(e)')\n",
    "# current_medium.remove('EX_tyr_L(e)')\n",
    "current_medium.remove('EX_ura(e)')\n",
    "current_medium.remove('EX_urate(e)')\n",
    "current_medium.remove('EX_urea(e)')\n",
    "# current_medium.remove('EX_val_L(e)')\n",
    "current_medium.remove('EX_xan(e)')"
   ]
  },
  {
   "cell_type": "code",
   "execution_count": 24,
   "metadata": {},
   "outputs": [
    {
     "output_type": "execute_result",
     "data": {
      "text/plain": [
       "                       query     BiGG_ID       hit mol_weight\n",
       "0                L-cysteate     Lcyst(e)  23619007     168.15\n",
       "1                 L-Cystine   Lcystin(e)     67678      240.3\n",
       "2                   Acetate        ac(e)       175      59.04\n",
       "3      N-acetyl-L-aspartate     acasp(e)     65065     175.14\n",
       "4  N-Acetyl-D-galactosamine     acgal(e)     35717     221.21"
      ],
      "text/html": "<div>\n<style scoped>\n    .dataframe tbody tr th:only-of-type {\n        vertical-align: middle;\n    }\n\n    .dataframe tbody tr th {\n        vertical-align: top;\n    }\n\n    .dataframe thead th {\n        text-align: right;\n    }\n</style>\n<table border=\"1\" class=\"dataframe\">\n  <thead>\n    <tr style=\"text-align: right;\">\n      <th></th>\n      <th>query</th>\n      <th>BiGG_ID</th>\n      <th>hit</th>\n      <th>mol_weight</th>\n    </tr>\n  </thead>\n  <tbody>\n    <tr>\n      <th>0</th>\n      <td>L-cysteate</td>\n      <td>Lcyst(e)</td>\n      <td>23619007</td>\n      <td>168.15</td>\n    </tr>\n    <tr>\n      <th>1</th>\n      <td>L-Cystine</td>\n      <td>Lcystin(e)</td>\n      <td>67678</td>\n      <td>240.3</td>\n    </tr>\n    <tr>\n      <th>2</th>\n      <td>Acetate</td>\n      <td>ac(e)</td>\n      <td>175</td>\n      <td>59.04</td>\n    </tr>\n    <tr>\n      <th>3</th>\n      <td>N-acetyl-L-aspartate</td>\n      <td>acasp(e)</td>\n      <td>65065</td>\n      <td>175.14</td>\n    </tr>\n    <tr>\n      <th>4</th>\n      <td>N-Acetyl-D-galactosamine</td>\n      <td>acgal(e)</td>\n      <td>35717</td>\n      <td>221.21</td>\n    </tr>\n  </tbody>\n</table>\n</div>"
     },
     "metadata": {},
     "execution_count": 24
    }
   ],
   "source": [
    "# Get molar masses from pubchem\n",
    "# This function takes some time to run, but it gets all of the molar masses for the metabolites in the media\n",
    "# The result is a dataframe that we'll use to manipulate concentrations and eventually calculate flux lower bounds, but for now we\n",
    "# need to deal with all of the molar masses that couldn't be found\n",
    "weights = get_molecular_weights(root_model, current_medium)\n",
    "weights.head()\n"
   ]
  },
  {
   "cell_type": "code",
   "execution_count": 25,
   "metadata": {},
   "outputs": [
    {
     "output_type": "execute_result",
     "data": {
      "text/plain": [
       "                                                query    BiGG_ID hit mol_weight\n",
       "27  Capsular polysaccharide (F. prausnitzii, putat...  cps_fp(e)  NA         NA\n",
       "43                  exchange reaction for glycylglyci  glygly(e)  NA         NA\n",
       "46             exchange reaction for glycylphenylalai  glyphe(e)  NA         NA\n",
       "54                  exchange reaction for leucylglyci  leugly(e)  NA         NA\n",
       "67                      exchange reaction for pectins    pect(e)  NA         NA\n",
       "80  starch, structure 1 (1,6-{7[1,4-Glc], 4[1,4-Gl...  strch1(e)  NA         NA"
      ],
      "text/html": "<div>\n<style scoped>\n    .dataframe tbody tr th:only-of-type {\n        vertical-align: middle;\n    }\n\n    .dataframe tbody tr th {\n        vertical-align: top;\n    }\n\n    .dataframe thead th {\n        text-align: right;\n    }\n</style>\n<table border=\"1\" class=\"dataframe\">\n  <thead>\n    <tr style=\"text-align: right;\">\n      <th></th>\n      <th>query</th>\n      <th>BiGG_ID</th>\n      <th>hit</th>\n      <th>mol_weight</th>\n    </tr>\n  </thead>\n  <tbody>\n    <tr>\n      <th>27</th>\n      <td>Capsular polysaccharide (F. prausnitzii, putat...</td>\n      <td>cps_fp(e)</td>\n      <td>NA</td>\n      <td>NA</td>\n    </tr>\n    <tr>\n      <th>43</th>\n      <td>exchange reaction for glycylglyci</td>\n      <td>glygly(e)</td>\n      <td>NA</td>\n      <td>NA</td>\n    </tr>\n    <tr>\n      <th>46</th>\n      <td>exchange reaction for glycylphenylalai</td>\n      <td>glyphe(e)</td>\n      <td>NA</td>\n      <td>NA</td>\n    </tr>\n    <tr>\n      <th>54</th>\n      <td>exchange reaction for leucylglyci</td>\n      <td>leugly(e)</td>\n      <td>NA</td>\n      <td>NA</td>\n    </tr>\n    <tr>\n      <th>67</th>\n      <td>exchange reaction for pectins</td>\n      <td>pect(e)</td>\n      <td>NA</td>\n      <td>NA</td>\n    </tr>\n    <tr>\n      <th>80</th>\n      <td>starch, structure 1 (1,6-{7[1,4-Glc], 4[1,4-Gl...</td>\n      <td>strch1(e)</td>\n      <td>NA</td>\n      <td>NA</td>\n    </tr>\n  </tbody>\n</table>\n</div>"
     },
     "metadata": {},
     "execution_count": 25
    }
   ],
   "source": [
    "# Still missing molar masses:\n",
    "weights[weights['mol_weight'] == 'NA']"
   ]
  },
  {
   "cell_type": "code",
   "execution_count": 26,
   "metadata": {},
   "outputs": [
    {
     "output_type": "execute_result",
     "data": {
      "text/plain": [
       "Empty DataFrame\n",
       "Columns: [query, BiGG_ID, hit, mol_weight]\n",
       "Index: []"
      ],
      "text/html": "<div>\n<style scoped>\n    .dataframe tbody tr th:only-of-type {\n        vertical-align: middle;\n    }\n\n    .dataframe tbody tr th {\n        vertical-align: top;\n    }\n\n    .dataframe thead th {\n        text-align: right;\n    }\n</style>\n<table border=\"1\" class=\"dataframe\">\n  <thead>\n    <tr style=\"text-align: right;\">\n      <th></th>\n      <th>query</th>\n      <th>BiGG_ID</th>\n      <th>hit</th>\n      <th>mol_weight</th>\n    </tr>\n  </thead>\n  <tbody>\n  </tbody>\n</table>\n</div>"
     },
     "metadata": {},
     "execution_count": 26
    }
   ],
   "source": [
    "### MANUALLY fill these in\n",
    "# I just did this by adding together the molar mass of each of the metabolites in the exchange reaction\n",
    "weights.loc[weights['BiGG_ID'] == 'glygly(e)', 'mol_weight'] = 75.07*2\n",
    "weights.loc[weights['BiGG_ID'] == 'glyphe(e)', 'mol_weight'] = 75.07+165.19\n",
    "weights.loc[weights['BiGG_ID'] == 'leugly(e)', 'mol_weight'] = 75.07+131.17\n",
    "weights.loc[weights['BiGG_ID'] == 'pect(e)', 'mol_weight'] = 194.14\n",
    "weights.loc[weights['BiGG_ID'] == 'strch1(e)', 'mol_weight'] = 359.33\n",
    "weights.loc[weights['BiGG_ID'] == 'cps_fp(e)', 'mol_weight'] = 1000\n",
    "\n",
    "# There should be nothing left; everything now has a molar mass\n",
    "weights[weights['mol_weight'] == 'NA']"
   ]
  },
  {
   "cell_type": "code",
   "execution_count": 27,
   "metadata": {},
   "outputs": [],
   "source": [
    "# Here, we set up the dataframes for some of the main components of the media: peptones and yeast extracts\n",
    "# For traces, each entry is named EXACTLY after a BiGG metabolite, so the concentration can be added to this metabolite exclusively\n",
    "# \n",
    "# For amino acids (AAs), each entry is named after a substring corresponding to an AA(asp, arg, leu, etc.). \n",
    "# This is because we have no way of telling how much of each form of AA and how to differentiate their proportion in the media \n",
    "# (ie. how much L-cysteate do we have compared to L-cysteine? We really don't know)\n",
    "# There is a function that does this for us, and is described in more detail in the cells below\n",
    "#\n",
    "# These tables are based on the oxoid data:\n",
    "# http://www.oxoid.com/UK/blue/prod_detail/prod_detail.asp?pr=LP0037&c=UK&lang=EN&minfo=Y\n",
    "# All values are in ppm\n",
    "traces_list = [{'BiGG_ID':'ca2(e)', \"conc_ppm_Bact_Peptone_L37\": 635, \"conc_ppm_Proteose_Peptone_L85\": 200, \"conc_ppm_soya_peptone_L44\": 225, \"conc_ppm_yeast_extract\": 155+164000},\n",
    "{'BiGG_ID':'mg2(e)', \"conc_ppm_Bact_Peptone_L37\": 265, \"conc_ppm_Proteose_Peptone_L85\": 340, \"conc_ppm_soya_peptone_L44\": 1530, \"conc_ppm_yeast_extract\": 205+14400},\n",
    "{'BiGG_ID':'fe3(e)', \"conc_ppm_Bact_Peptone_L37\": 22, \"conc_ppm_Proteose_Peptone_L85\": 42, \"conc_ppm_soya_peptone_L44\": 90, \"conc_ppm_yeast_extract\": 52+700},\n",
    "{'BiGG_ID':'cu2(e)', \"conc_ppm_Bact_Peptone_L37\": 1, \"conc_ppm_Proteose_Peptone_L85\": 10, \"conc_ppm_soya_peptone_L44\": 2, \"conc_ppm_yeast_extract\": 2+800},\n",
    "{'BiGG_ID':'pb(e)', \"conc_ppm_Bact_Peptone_L37\": 0.4, \"conc_ppm_Proteose_Peptone_L85\": 0.1, \"conc_ppm_soya_peptone_L44\": 0.3, \"conc_ppm_yeast_extract\": 0.7},\n",
    "{'BiGG_ID':'mn2(e)', \"conc_ppm_Bact_Peptone_L37\": 3.4, \"conc_ppm_Proteose_Peptone_L85\": 0.5, \"conc_ppm_soya_peptone_L44\": 1.0, \"conc_ppm_yeast_extract\": 1.3},\n",
    "{'BiGG_ID':'zn2(e)', \"conc_ppm_Bact_Peptone_L37\": 9.2, \"conc_ppm_Proteose_Peptone_L85\": 16, \"conc_ppm_soya_peptone_L44\": 12, \"conc_ppm_yeast_extract\": 94},\n",
    "{'BiGG_ID':'cobalt2(e)', \"conc_ppm_Bact_Peptone_L37\": 0.1, \"conc_ppm_Proteose_Peptone_L85\": 0.2, \"conc_ppm_soya_peptone_L44\": 0.2, \"conc_ppm_yeast_extract\": 3.1},\n",
    "{'BiGG_ID':'cl(e)', \"conc_ppm_Bact_Peptone_L37\": 10000, \"conc_ppm_Proteose_Peptone_L85\": 80000, \"conc_ppm_soya_peptone_L44\": 4000, \"conc_ppm_yeast_extract\": 3000},\n",
    "{'BiGG_ID':'k(e)', \"conc_ppm_Bact_Peptone_L37\": 36000, \"conc_ppm_Proteose_Peptone_L85\": 14000, \"conc_ppm_soya_peptone_L44\": 33000, \"conc_ppm_yeast_extract\": 73000},\n",
    "{'BiGG_ID':'na1(e)', \"conc_ppm_Bact_Peptone_L37\": 10000, \"conc_ppm_Proteose_Peptone_L85\": 80000, \"conc_ppm_soya_peptone_L44\": 4000, \"conc_ppm_yeast_extract\": 3000}]\n",
    "\n",
    "\n",
    "aa_list = [{'BiGG_ID':'ala', \"conc_ppm_Bact_Peptone_L37\": 39200 , \"conc_ppm_Proteose_Peptone_L85\": 38100, \"conc_ppm_soya_peptone_L44\": 28700, \"conc_ppm_yeast_extract\": 9100},\n",
    "{'BiGG_ID':'arg', \"conc_ppm_Bact_Peptone_L37\": 49900, \"conc_ppm_Proteose_Peptone_L85\": 58000, \"conc_ppm_soya_peptone_L44\": 46400, \"conc_ppm_yeast_extract\": 33100},\n",
    "{'BiGG_ID':'asp', \"conc_ppm_Bact_Peptone_L37\": 60600, \"conc_ppm_Proteose_Peptone_L85\": 58500, \"conc_ppm_soya_peptone_L44\": 70600, \"conc_ppm_yeast_extract\": 70700}, \n",
    "{'BiGG_ID':'cys', \"conc_ppm_Bact_Peptone_L37\": 16600, \"conc_ppm_Proteose_Peptone_L85\": 1500, \"conc_ppm_soya_peptone_L44\": 5300, \"conc_ppm_yeast_extract\": 7600},\n",
    "{'BiGG_ID':'glu', \"conc_ppm_Bact_Peptone_L37\": 99300, \"conc_ppm_Proteose_Peptone_L85\": 137800, \"conc_ppm_soya_peptone_L44\": 147100, \"conc_ppm_yeast_extract\": 134900},\n",
    "{'BiGG_ID':'gly', \"conc_ppm_Bact_Peptone_L37\": 77100 , \"conc_ppm_Proteose_Peptone_L85\": 44500, \"conc_ppm_soya_peptone_L44\": 28300, \"conc_ppm_yeast_extract\": 59500},\n",
    "{'BiGG_ID':'ile', \"conc_ppm_Bact_Peptone_L37\": 38100, \"conc_ppm_Proteose_Peptone_L85\": 45800, \"conc_ppm_soya_peptone_L44\": 25100, \"conc_ppm_yeast_extract\": 48100},\n",
    "{'BiGG_ID':'leu', \"conc_ppm_Bact_Peptone_L37\": 37900, \"conc_ppm_Proteose_Peptone_L85\": 60100, \"conc_ppm_soya_peptone_L44\": 43100, \"conc_ppm_yeast_extract\": 60400},\n",
    "{'BiGG_ID':'lys', \"conc_ppm_Bact_Peptone_L37\": 43800, \"conc_ppm_Proteose_Peptone_L85\": 46100, \"conc_ppm_soya_peptone_L44\": 37700, \"conc_ppm_yeast_extract\": 54000},\n",
    "{'BiGG_ID':'met', \"conc_ppm_Bact_Peptone_L37\": 15800, \"conc_ppm_Proteose_Peptone_L85\": 10800, \"conc_ppm_soya_peptone_L44\": 6200, \"conc_ppm_yeast_extract\": 8000},\n",
    "{'BiGG_ID':'phe', \"conc_ppm_Bact_Peptone_L37\": 26000, \"conc_ppm_Proteose_Peptone_L85\": 46600, \"conc_ppm_soya_peptone_L44\": 3800, \"conc_ppm_yeast_extract\": 37800},\n",
    "{'BiGG_ID':'pro', \"conc_ppm_Bact_Peptone_L37\": 58300, \"conc_ppm_Proteose_Peptone_L85\": 59900, \"conc_ppm_soya_peptone_L44\": 34000, \"conc_ppm_yeast_extract\": 8800},\n",
    "{'BiGG_ID':'ser', \"conc_ppm_Bact_Peptone_L37\": 28100, \"conc_ppm_Proteose_Peptone_L85\": 21800, \"conc_ppm_soya_peptone_L44\": 6700, \"conc_ppm_yeast_extract\": 34200},\n",
    "{'BiGG_ID':'thr', \"conc_ppm_Bact_Peptone_L37\": 12500, \"conc_ppm_Proteose_Peptone_L85\": 27500, \"conc_ppm_soya_peptone_L44\": 16800, \"conc_ppm_yeast_extract\": 27300},\n",
    "{'BiGG_ID':'trp', \"conc_ppm_Bact_Peptone_L37\": 6600, \"conc_ppm_Proteose_Peptone_L85\": 7500, \"conc_ppm_soya_peptone_L44\": 6400, \"conc_ppm_yeast_extract\": 8500},\n",
    "{'BiGG_ID':'tyr', \"conc_ppm_Bact_Peptone_L37\": 3900, \"conc_ppm_Proteose_Peptone_L85\": 17700, \"conc_ppm_soya_peptone_L44\": 20900, \"conc_ppm_yeast_extract\": 49500},\n",
    "{'BiGG_ID':'val', \"conc_ppm_Bact_Peptone_L37\": 33300, \"conc_ppm_Proteose_Peptone_L85\": 41100, \"conc_ppm_soya_peptone_L44\": 36500, \"conc_ppm_yeast_extract\": 10000}]\n",
    "\n",
    "#https://www.sigmaaldrich.com/catalog/product/sial/07533?lang=de&region=DE \n",
    "#Vitamins mg/100 g product conversion factor to ppm 1/10000\n",
    "#Vitamin B6 consists of 3 components see also wikipedia and vitamin B3 2 components https://en.wikipedia.org/wiki/B_vitamins \n",
    "vitamins_list=[\n",
    "{'BiGG_ID':'thm(e)', \"conc_ppm_Bact_Peptone_L37\": 36/10000, \"conc_ppm_Proteose_Peptone_L85\": 36/10000, \"conc_ppm_soya_peptone_L44\": 36/10000, \"conc_ppm_yeast_extract\": 36/10000},\n",
    "{'BiGG_ID':'ribflv(e)', \"conc_ppm_Bact_Peptone_L37\": 13/2/10000, \"conc_ppm_Proteose_Peptone_L85\": 13/2/10000, \"conc_ppm_soya_peptone_L44\": 13/2/10000, \"conc_ppm_yeast_extract\": 13/2/10000}, \n",
    "{'BiGG_ID':'rbflvrd(e)', \"conc_ppm_Bact_Peptone_L37\":13/2/10000, \"conc_ppm_Proteose_Peptone_L85\": 13/2/10000, \"conc_ppm_soya_peptone_L44\":13/2/10000, \"conc_ppm_yeast_extract\": 13/2/10000},\n",
    "{'BiGG_ID':'nac(e)', \"conc_ppm_Bact_Peptone_L37\": 650/2/10000, \"conc_ppm_Proteose_Peptone_L85\": 650/2/10000, \"conc_ppm_soya_peptone_L44\": 650/2/10000, \"conc_ppm_yeast_extract\": 650/2/10000},\n",
    "{'BiGG_ID':'ncam(e)', \"conc_ppm_Bact_Peptone_L37\": 650/2/10000 , \"conc_ppm_Proteose_Peptone_L85\": 650/2/10000, \"conc_ppm_soya_peptone_L44\": 650/2/10000, \"conc_ppm_yeast_extract\":650/2/10000},\n",
    "{'BiGG_ID':'pydam(e)', \"conc_ppm_Bact_Peptone_L37\": 3.9/3/10000, \"conc_ppm_Proteose_Peptone_L85\": 3.9/3/10000, \"conc_ppm_soya_peptone_L44\": 3.9/3/10000, \"conc_ppm_yeast_extract\": 3.9/3/10000},\n",
    "{'BiGG_ID':'pydx(e)', \"conc_ppm_Bact_Peptone_L37\": 3.9/3/10000+7/10000, \"conc_ppm_Proteose_Peptone_L85\": 3.9/3/10000+7/10000, \"conc_ppm_soya_peptone_L44\": 3.9/3/10000+7/10000, \"conc_ppm_yeast_extract\": 3.9/3/10000+7/10000},\n",
    "{'BiGG_ID':'pydxn(e)', \"conc_ppm_Bact_Peptone_L37\": 3.9/3/10000, \"conc_ppm_Proteose_Peptone_L85\": 3.9/3/10000, \"conc_ppm_soya_peptone_L44\": 3.9/3/10000, \"conc_ppm_yeast_extract\": 3.9/3/10000},\n",
    "{'BiGG_ID':'fol(e)', \"conc_ppm_Bact_Peptone_L37\": 2.8/10000, \"conc_ppm_Proteose_Peptone_L85\": 2.8/10000, \"conc_ppm_soya_peptone_L44\": 2.8/10000, \"conc_ppm_yeast_extract\": 2.8/10000},\n",
    "{'BiGG_ID':'pnto_R(e)', \"conc_ppm_Bact_Peptone_L37\": 11.2/10000 , \"conc_ppm_Proteose_Peptone_L85\": 11.2/10000, \"conc_ppm_soya_peptone_L44\": 11.2/10000, \"conc_ppm_yeast_extract\": 11.2/10000},\n",
    "{'BiGG_ID':'btn(e)', \"conc_ppm_Bact_Peptone_L37\": 2/10000, \"conc_ppm_Proteose_Peptone_L85\": 2/10000, \"conc_ppm_soya_peptone_L44\": 2/10000, \"conc_ppm_yeast_extract\": 2/10000}]\n",
    "\n",
    "medium_trace = pd.DataFrame(traces_list+vitamins_list)\n",
    "medium_aa = pd.DataFrame(aa_list)"
   ]
  },
  {
   "cell_type": "code",
   "execution_count": 28,
   "metadata": {},
   "outputs": [
    {
     "output_type": "execute_result",
     "data": {
      "text/plain": [
       "                  query     BiGG_ID        hit mol_weight  conc_ppm_Bact_Peptone_L37  conc_ppm_Proteose_Peptone_L85  conc_ppm_soya_peptone_L44  conc_ppm_yeast_extract\n",
       "22              Biotin       btn(e)     171548     244.31                    0.00020                        0.00020                    0.00020                 0.00020\n",
       "23             Calcium       ca2(e)    5460341      40.08                  635.00000                      200.00000                  225.00000            164155.00000\n",
       "25            Chloride        cl(e)        312      35.45                10000.00000                    80000.00000                 4000.00000              3000.00000\n",
       "26                Co2+   cobalt2(e)     104729    58.9332                    0.10000                        0.20000                    0.20000                 3.10000\n",
       "28                Cu2+       cu2(e)      27099      63.55                    1.00000                       10.00000                    2.00000               802.00000\n",
       "30                Fe3+       fe3(e)      29936      55.84                   22.00000                       42.00000                   90.00000               752.00000\n",
       "31              Folate       fol(e)  135398658      441.4                    0.00028                        0.00028                    0.00028                 0.00028\n",
       "52                  K+         k(e)        813     39.098                36000.00000                    14000.00000                33000.00000             73000.00000\n",
       "62                  Mg       mg2(e)    5462224     24.305                  265.00000                      340.00000                 1530.00000             14605.00000\n",
       "63              Sodium       na1(e)    5360545    22.9898                10000.00000                    80000.00000                 4000.00000              3000.00000\n",
       "64          Nicotinate       nac(e)        937      122.1                    0.03250                        0.03250                    0.03250                 0.03250\n",
       "66                Lead        pb(e)    5352425        207                    0.40000                        0.10000                    0.30000                 0.70000\n",
       "70    (R)-Pantothenate    pnto_R(e)       6613     219.23                    0.00112                        0.00112                    0.00112                 0.00112\n",
       "73        Pyridoxamine     pydam(e)       1052     168.19                    0.00013                        0.00013                    0.00013                 0.00013\n",
       "74           Pyridoxal      pydx(e)       1050     167.16                    0.00083                        0.00083                    0.00083                 0.00083\n",
       "75          Pyridoxine     pydxn(e)       1054     169.18                    0.00013                        0.00013                    0.00013                 0.00013\n",
       "76  Reduced riboflavin   rbflvrd(e)   14080393      378.4                    0.00065                        0.00065                    0.00065                 0.00065\n",
       "77          Riboflavin    ribflv(e)     493570      376.4                    0.00065                        0.00065                    0.00065                 0.00065\n",
       "82             Thiamin       thm(e)       1130     265.36                    0.00360                        0.00360                    0.00360                 0.00360"
      ],
      "text/html": "<div>\n<style scoped>\n    .dataframe tbody tr th:only-of-type {\n        vertical-align: middle;\n    }\n\n    .dataframe tbody tr th {\n        vertical-align: top;\n    }\n\n    .dataframe thead th {\n        text-align: right;\n    }\n</style>\n<table border=\"1\" class=\"dataframe\">\n  <thead>\n    <tr style=\"text-align: right;\">\n      <th></th>\n      <th>query</th>\n      <th>BiGG_ID</th>\n      <th>hit</th>\n      <th>mol_weight</th>\n      <th>conc_ppm_Bact_Peptone_L37</th>\n      <th>conc_ppm_Proteose_Peptone_L85</th>\n      <th>conc_ppm_soya_peptone_L44</th>\n      <th>conc_ppm_yeast_extract</th>\n    </tr>\n  </thead>\n  <tbody>\n    <tr>\n      <th>22</th>\n      <td>Biotin</td>\n      <td>btn(e)</td>\n      <td>171548</td>\n      <td>244.31</td>\n      <td>0.00020</td>\n      <td>0.00020</td>\n      <td>0.00020</td>\n      <td>0.00020</td>\n    </tr>\n    <tr>\n      <th>23</th>\n      <td>Calcium</td>\n      <td>ca2(e)</td>\n      <td>5460341</td>\n      <td>40.08</td>\n      <td>635.00000</td>\n      <td>200.00000</td>\n      <td>225.00000</td>\n      <td>164155.00000</td>\n    </tr>\n    <tr>\n      <th>25</th>\n      <td>Chloride</td>\n      <td>cl(e)</td>\n      <td>312</td>\n      <td>35.45</td>\n      <td>10000.00000</td>\n      <td>80000.00000</td>\n      <td>4000.00000</td>\n      <td>3000.00000</td>\n    </tr>\n    <tr>\n      <th>26</th>\n      <td>Co2+</td>\n      <td>cobalt2(e)</td>\n      <td>104729</td>\n      <td>58.9332</td>\n      <td>0.10000</td>\n      <td>0.20000</td>\n      <td>0.20000</td>\n      <td>3.10000</td>\n    </tr>\n    <tr>\n      <th>28</th>\n      <td>Cu2+</td>\n      <td>cu2(e)</td>\n      <td>27099</td>\n      <td>63.55</td>\n      <td>1.00000</td>\n      <td>10.00000</td>\n      <td>2.00000</td>\n      <td>802.00000</td>\n    </tr>\n    <tr>\n      <th>30</th>\n      <td>Fe3+</td>\n      <td>fe3(e)</td>\n      <td>29936</td>\n      <td>55.84</td>\n      <td>22.00000</td>\n      <td>42.00000</td>\n      <td>90.00000</td>\n      <td>752.00000</td>\n    </tr>\n    <tr>\n      <th>31</th>\n      <td>Folate</td>\n      <td>fol(e)</td>\n      <td>135398658</td>\n      <td>441.4</td>\n      <td>0.00028</td>\n      <td>0.00028</td>\n      <td>0.00028</td>\n      <td>0.00028</td>\n    </tr>\n    <tr>\n      <th>52</th>\n      <td>K+</td>\n      <td>k(e)</td>\n      <td>813</td>\n      <td>39.098</td>\n      <td>36000.00000</td>\n      <td>14000.00000</td>\n      <td>33000.00000</td>\n      <td>73000.00000</td>\n    </tr>\n    <tr>\n      <th>62</th>\n      <td>Mg</td>\n      <td>mg2(e)</td>\n      <td>5462224</td>\n      <td>24.305</td>\n      <td>265.00000</td>\n      <td>340.00000</td>\n      <td>1530.00000</td>\n      <td>14605.00000</td>\n    </tr>\n    <tr>\n      <th>63</th>\n      <td>Sodium</td>\n      <td>na1(e)</td>\n      <td>5360545</td>\n      <td>22.9898</td>\n      <td>10000.00000</td>\n      <td>80000.00000</td>\n      <td>4000.00000</td>\n      <td>3000.00000</td>\n    </tr>\n    <tr>\n      <th>64</th>\n      <td>Nicotinate</td>\n      <td>nac(e)</td>\n      <td>937</td>\n      <td>122.1</td>\n      <td>0.03250</td>\n      <td>0.03250</td>\n      <td>0.03250</td>\n      <td>0.03250</td>\n    </tr>\n    <tr>\n      <th>66</th>\n      <td>Lead</td>\n      <td>pb(e)</td>\n      <td>5352425</td>\n      <td>207</td>\n      <td>0.40000</td>\n      <td>0.10000</td>\n      <td>0.30000</td>\n      <td>0.70000</td>\n    </tr>\n    <tr>\n      <th>70</th>\n      <td>(R)-Pantothenate</td>\n      <td>pnto_R(e)</td>\n      <td>6613</td>\n      <td>219.23</td>\n      <td>0.00112</td>\n      <td>0.00112</td>\n      <td>0.00112</td>\n      <td>0.00112</td>\n    </tr>\n    <tr>\n      <th>73</th>\n      <td>Pyridoxamine</td>\n      <td>pydam(e)</td>\n      <td>1052</td>\n      <td>168.19</td>\n      <td>0.00013</td>\n      <td>0.00013</td>\n      <td>0.00013</td>\n      <td>0.00013</td>\n    </tr>\n    <tr>\n      <th>74</th>\n      <td>Pyridoxal</td>\n      <td>pydx(e)</td>\n      <td>1050</td>\n      <td>167.16</td>\n      <td>0.00083</td>\n      <td>0.00083</td>\n      <td>0.00083</td>\n      <td>0.00083</td>\n    </tr>\n    <tr>\n      <th>75</th>\n      <td>Pyridoxine</td>\n      <td>pydxn(e)</td>\n      <td>1054</td>\n      <td>169.18</td>\n      <td>0.00013</td>\n      <td>0.00013</td>\n      <td>0.00013</td>\n      <td>0.00013</td>\n    </tr>\n    <tr>\n      <th>76</th>\n      <td>Reduced riboflavin</td>\n      <td>rbflvrd(e)</td>\n      <td>14080393</td>\n      <td>378.4</td>\n      <td>0.00065</td>\n      <td>0.00065</td>\n      <td>0.00065</td>\n      <td>0.00065</td>\n    </tr>\n    <tr>\n      <th>77</th>\n      <td>Riboflavin</td>\n      <td>ribflv(e)</td>\n      <td>493570</td>\n      <td>376.4</td>\n      <td>0.00065</td>\n      <td>0.00065</td>\n      <td>0.00065</td>\n      <td>0.00065</td>\n    </tr>\n    <tr>\n      <th>82</th>\n      <td>Thiamin</td>\n      <td>thm(e)</td>\n      <td>1130</td>\n      <td>265.36</td>\n      <td>0.00360</td>\n      <td>0.00360</td>\n      <td>0.00360</td>\n      <td>0.00360</td>\n    </tr>\n  </tbody>\n</table>\n</div>"
     },
     "metadata": {},
     "execution_count": 28
    }
   ],
   "source": [
    "# This cell does a dataframe merge (essentially a SQL left join)\n",
    "# It combines the columns from the dataframe that contains each of the metabolites in the medium defined earlier and\n",
    "# the columns for each of the metabolite concentrations in each of the oxoid media ingredients\n",
    "# Note: this only deals with the \"traces\" df; the amino acids will be dealt with in the next operation\n",
    "weights_and_traces = weights.merge(medium_trace, how=\"left\", on=\"BiGG_ID\")\n",
    "weights_and_traces[weights_and_traces['conc_ppm_Bact_Peptone_L37'] > 0]"
   ]
  },
  {
   "cell_type": "code",
   "execution_count": 29,
   "metadata": {
    "tags": []
   },
   "outputs": [
    {
     "output_type": "execute_result",
     "data": {
      "text/plain": [
       "                       query     BiGG_ID       hit  mol_weight  conc_ppm_Bact_Peptone_L37  conc_ppm_Proteose_Peptone_L85  conc_ppm_soya_peptone_L44  conc_ppm_yeast_extract\n",
       "0                L-cysteate     Lcyst(e)  23619007      168.15                5533.333333                          500.0                1766.666667             2533.333333\n",
       "1                 L-Cystine   Lcystin(e)     67678      240.30                5533.333333                          500.0                1766.666667             2533.333333\n",
       "2                   Acetate        ac(e)       175       59.04                   0.000000                            0.0                   0.000000                0.000000\n",
       "3      N-acetyl-L-aspartate     acasp(e)     65065      175.14               15150.000000                        14625.0               17650.000000            17675.000000\n",
       "4  N-Acetyl-D-galactosamine     acgal(e)     35717      221.21                   0.000000                            0.0                   0.000000                0.000000"
      ],
      "text/html": "<div>\n<style scoped>\n    .dataframe tbody tr th:only-of-type {\n        vertical-align: middle;\n    }\n\n    .dataframe tbody tr th {\n        vertical-align: top;\n    }\n\n    .dataframe thead th {\n        text-align: right;\n    }\n</style>\n<table border=\"1\" class=\"dataframe\">\n  <thead>\n    <tr style=\"text-align: right;\">\n      <th></th>\n      <th>query</th>\n      <th>BiGG_ID</th>\n      <th>hit</th>\n      <th>mol_weight</th>\n      <th>conc_ppm_Bact_Peptone_L37</th>\n      <th>conc_ppm_Proteose_Peptone_L85</th>\n      <th>conc_ppm_soya_peptone_L44</th>\n      <th>conc_ppm_yeast_extract</th>\n    </tr>\n  </thead>\n  <tbody>\n    <tr>\n      <th>0</th>\n      <td>L-cysteate</td>\n      <td>Lcyst(e)</td>\n      <td>23619007</td>\n      <td>168.15</td>\n      <td>5533.333333</td>\n      <td>500.0</td>\n      <td>1766.666667</td>\n      <td>2533.333333</td>\n    </tr>\n    <tr>\n      <th>1</th>\n      <td>L-Cystine</td>\n      <td>Lcystin(e)</td>\n      <td>67678</td>\n      <td>240.30</td>\n      <td>5533.333333</td>\n      <td>500.0</td>\n      <td>1766.666667</td>\n      <td>2533.333333</td>\n    </tr>\n    <tr>\n      <th>2</th>\n      <td>Acetate</td>\n      <td>ac(e)</td>\n      <td>175</td>\n      <td>59.04</td>\n      <td>0.000000</td>\n      <td>0.0</td>\n      <td>0.000000</td>\n      <td>0.000000</td>\n    </tr>\n    <tr>\n      <th>3</th>\n      <td>N-acetyl-L-aspartate</td>\n      <td>acasp(e)</td>\n      <td>65065</td>\n      <td>175.14</td>\n      <td>15150.000000</td>\n      <td>14625.0</td>\n      <td>17650.000000</td>\n      <td>17675.000000</td>\n    </tr>\n    <tr>\n      <th>4</th>\n      <td>N-Acetyl-D-galactosamine</td>\n      <td>acgal(e)</td>\n      <td>35717</td>\n      <td>221.21</td>\n      <td>0.000000</td>\n      <td>0.0</td>\n      <td>0.000000</td>\n      <td>0.000000</td>\n    </tr>\n  </tbody>\n</table>\n</div>"
     },
     "metadata": {},
     "execution_count": 29
    }
   ],
   "source": [
    "# Returning to the problem outlined above when we were declaring the dictionaries full of ppm data above:\n",
    "# How much L-cysteate do we have compared to L-cysteine?\n",
    "# The solution to this is to take every metabolite containing this substring and assign it to an equal proportion of the given concentration in the media.\n",
    "# \n",
    "# (ie. If the technical data says that there is 16600 ppm of cysteine in bacterial peptone, and we assume that our media contains L-cysteine and L-cysteate that # contain the \"cys\" substring, they will each get an equal portion of that 16600ppm: 8300ppm each. \n",
    "# This scales independent of the number of \"cys\" variants we assume to be in the media.\n",
    "# So if there are 4 metabolites containing the \"cys\" substring, they will each be given 4150ppm from the 16600ppm, and so on.)\n",
    "#\n",
    "# The function \"split_concentration_proportions()\" does this for us. It's in the file \"functions.py\" and has some insight \n",
    "# into what the input and return values should be.\n",
    "weights_full = split_concentration_proportions(weights_and_traces, medium_aa)\n",
    "weights_full.head()"
   ]
  },
  {
   "source": [
    "It's easier to have this table here for now, for the cell below\n",
    "\n",
    "| Component              | Concentration (g/L) |\n",
    "|------------------------|---------------------|\n",
    "| Yeast Extract          | 13.0                |\n",
    "| Peptone                | 10.0                |\n",
    "| Glucose                | 5.0                 |\n",
    "| Soluble Starch         | 1.0                 |\n",
    "| Sodium Chloride        | 5.0                 |\n",
    "| Sodium Acetate         | 3.0                 |\n",
    "| Cysteine Hydrochloride | 0.5                 |\n",
    "| Agar                   | 0.5                 |"
   ],
   "cell_type": "markdown",
   "metadata": {}
  },
  {
   "cell_type": "code",
   "execution_count": 30,
   "metadata": {},
   "outputs": [],
   "source": [
    "# Assign proportions based on mmcb medium concentrations:\n",
    "# This is pretty subjective and makes a lot of assumptions about dissociation reactions of these medium components\n",
    "# (ie. what happens to Cysteine-HCL in the medium? The model doesn't use Cysteine-HCL in any reaction, but it's added intentionally, so it must be a source\n",
    "# of some variant of cysteine)\n",
    "\n",
    "# Assign proportions based on rcm medium concentrations:\n",
    "peptone_columns = {\"conc_ppm_Bact_Peptone_L37\": 10000, \"conc_ppm_Proteose_Peptone_L85\": 0, \"conc_ppm_soya_peptone_L44\": 0, \"conc_ppm_yeast_extract\": 13000}\n",
    "update = {'glc': 5000, 'cys': 500, '^ac': 3000}\n",
    "supplements = {'na1(e)': 4000, 'cl(e)':2500, 'ac(e)':1500, 'strch1(e)': 1000}\n",
    "\n",
    "# Scale by peptone columns ~~~\n",
    "# peptone_columns: each of the components from the Oxoid table. For example, there are 6.5g/L of bacterial peptone in the media, which we've input as 6500 (ppm). \n",
    "# We'll use this to scale each of the corresponding columns to this g/L proportion:\n",
    "total_concentration = sum([sum(i.values()) for i in [peptone_columns, update, supplements]])\n",
    "for i in peptone_columns.keys():\n",
    "    scale_value = peptone_columns[i]/total_concentration\n",
    "    weights_full[i] = weights_full[i]*scale_value*100\n",
    "\n",
    "# Update ambiguous supplement metabolites ~~~\n",
    "# For the rest of the medium components, their concentrations will be added to a new column in the dataframe called \"supplements\"\n",
    "# Using the \"update\" dictionary, we'll search for the key (ie. 'trp', 'cys') that is present in our defined media\n",
    "# Collecting all of the metabolites corresponding to these substrings, each individual metabolite will be given an extra amount in the \"supplements\" column\n",
    "#\n",
    "# (Similar to before: if L-cysteine and L-cysteate are the two metabolites corresponding to the \"cys\" substring and there's a 400ppm source of \"cys\", each \n",
    "# metabolite will be assigned 200 (ppm) in the \"supplements\" column)\n",
    "weights_full['supplements'] = 0\n",
    "for i in update.keys():\n",
    "    aa_list = weights_full.loc[weights_full[\"BiGG_ID\"].str.contains(i), \"BiGG_ID\"]\n",
    "    aa_count = len(aa_list)\n",
    "    proportion = update[i]/aa_count\n",
    "    for aa in aa_list:\n",
    "        weights_full.loc[weights_full[\"BiGG_ID\"] == aa, \"supplements\"] = proportion\n",
    "\n",
    "# Add supplements ~~~\n",
    "# Finally, directly add the concentrations of metabolites to the \"supplements\" column \n",
    "for i in supplements.keys():\n",
    "    weights_full.loc[weights_full[\"BiGG_ID\"] == i, \"supplements\"] = supplements[i]"
   ]
  },
  {
   "cell_type": "code",
   "execution_count": 31,
   "metadata": {},
   "outputs": [
    {
     "output_type": "execute_result",
     "data": {
      "text/plain": [
       "                                                query    BiGG_ID        hit  mol_weight  conc_ppm_Bact_Peptone_L37  conc_ppm_Proteose_Peptone_L85  conc_ppm_soya_peptone_L44  conc_ppm_yeast_extract  supplements\n",
       "8                                            Adenine      ade(e)        190     135.130                        0.0                            0.0                        0.0                     0.0          0.0\n",
       "20                                      L-Asparagine    asn_L(e)       6267     132.120                        0.0                            0.0                        0.0                     0.0          0.0\n",
       "27  Capsular polysaccharide (F. prausnitzii, putat...  cps_fp(e)         NA    1000.000                        0.0                            0.0                        0.0                     0.0          0.0\n",
       "32                                     D-Glucosamine      gam(e)     439213     179.170                        0.0                            0.0                        0.0                     0.0          0.0\n",
       "35                                       L-Glutamine    gln_L(e)       5961     146.140                        0.0                            0.0                        0.0                     0.0          0.0\n",
       "49                                           Guanine      gua(e)  135398634     151.130                        0.0                            0.0                        0.0                     0.0          0.0\n",
       "50                                                H+        h(e)       1038       1.008                        0.0                            0.0                        0.0                     0.0          0.0\n",
       "51                                               H2O      h2o(e)        962      18.015                        0.0                            0.0                        0.0                     0.0          0.0\n",
       "65                                           Ammonia      nh4(e)        222      17.031                        0.0                            0.0                        0.0                     0.0          0.0\n",
       "67                      exchange reaction for pectins    pect(e)         NA     194.140                        0.0                            0.0                        0.0                     0.0          0.0\n",
       "69                                         Phosphate       pi(e)       1061      94.971                        0.0                            0.0                        0.0                     0.0          0.0\n",
       "79                                           Sulfate      so4(e)       1117      96.070                        0.0                            0.0                        0.0                     0.0          0.0\n",
       "81                                           Taurine     taur(e)       1123     125.150                        0.0                            0.0                        0.0                     0.0          0.0\n",
       "87                                          D-Xylose    xyl_D(e)     135191     150.130                        0.0                            0.0                        0.0                     0.0          0.0"
      ],
      "text/html": "<div>\n<style scoped>\n    .dataframe tbody tr th:only-of-type {\n        vertical-align: middle;\n    }\n\n    .dataframe tbody tr th {\n        vertical-align: top;\n    }\n\n    .dataframe thead th {\n        text-align: right;\n    }\n</style>\n<table border=\"1\" class=\"dataframe\">\n  <thead>\n    <tr style=\"text-align: right;\">\n      <th></th>\n      <th>query</th>\n      <th>BiGG_ID</th>\n      <th>hit</th>\n      <th>mol_weight</th>\n      <th>conc_ppm_Bact_Peptone_L37</th>\n      <th>conc_ppm_Proteose_Peptone_L85</th>\n      <th>conc_ppm_soya_peptone_L44</th>\n      <th>conc_ppm_yeast_extract</th>\n      <th>supplements</th>\n    </tr>\n  </thead>\n  <tbody>\n    <tr>\n      <th>8</th>\n      <td>Adenine</td>\n      <td>ade(e)</td>\n      <td>190</td>\n      <td>135.130</td>\n      <td>0.0</td>\n      <td>0.0</td>\n      <td>0.0</td>\n      <td>0.0</td>\n      <td>0.0</td>\n    </tr>\n    <tr>\n      <th>20</th>\n      <td>L-Asparagine</td>\n      <td>asn_L(e)</td>\n      <td>6267</td>\n      <td>132.120</td>\n      <td>0.0</td>\n      <td>0.0</td>\n      <td>0.0</td>\n      <td>0.0</td>\n      <td>0.0</td>\n    </tr>\n    <tr>\n      <th>27</th>\n      <td>Capsular polysaccharide (F. prausnitzii, putat...</td>\n      <td>cps_fp(e)</td>\n      <td>NA</td>\n      <td>1000.000</td>\n      <td>0.0</td>\n      <td>0.0</td>\n      <td>0.0</td>\n      <td>0.0</td>\n      <td>0.0</td>\n    </tr>\n    <tr>\n      <th>32</th>\n      <td>D-Glucosamine</td>\n      <td>gam(e)</td>\n      <td>439213</td>\n      <td>179.170</td>\n      <td>0.0</td>\n      <td>0.0</td>\n      <td>0.0</td>\n      <td>0.0</td>\n      <td>0.0</td>\n    </tr>\n    <tr>\n      <th>35</th>\n      <td>L-Glutamine</td>\n      <td>gln_L(e)</td>\n      <td>5961</td>\n      <td>146.140</td>\n      <td>0.0</td>\n      <td>0.0</td>\n      <td>0.0</td>\n      <td>0.0</td>\n      <td>0.0</td>\n    </tr>\n    <tr>\n      <th>49</th>\n      <td>Guanine</td>\n      <td>gua(e)</td>\n      <td>135398634</td>\n      <td>151.130</td>\n      <td>0.0</td>\n      <td>0.0</td>\n      <td>0.0</td>\n      <td>0.0</td>\n      <td>0.0</td>\n    </tr>\n    <tr>\n      <th>50</th>\n      <td>H+</td>\n      <td>h(e)</td>\n      <td>1038</td>\n      <td>1.008</td>\n      <td>0.0</td>\n      <td>0.0</td>\n      <td>0.0</td>\n      <td>0.0</td>\n      <td>0.0</td>\n    </tr>\n    <tr>\n      <th>51</th>\n      <td>H2O</td>\n      <td>h2o(e)</td>\n      <td>962</td>\n      <td>18.015</td>\n      <td>0.0</td>\n      <td>0.0</td>\n      <td>0.0</td>\n      <td>0.0</td>\n      <td>0.0</td>\n    </tr>\n    <tr>\n      <th>65</th>\n      <td>Ammonia</td>\n      <td>nh4(e)</td>\n      <td>222</td>\n      <td>17.031</td>\n      <td>0.0</td>\n      <td>0.0</td>\n      <td>0.0</td>\n      <td>0.0</td>\n      <td>0.0</td>\n    </tr>\n    <tr>\n      <th>67</th>\n      <td>exchange reaction for pectins</td>\n      <td>pect(e)</td>\n      <td>NA</td>\n      <td>194.140</td>\n      <td>0.0</td>\n      <td>0.0</td>\n      <td>0.0</td>\n      <td>0.0</td>\n      <td>0.0</td>\n    </tr>\n    <tr>\n      <th>69</th>\n      <td>Phosphate</td>\n      <td>pi(e)</td>\n      <td>1061</td>\n      <td>94.971</td>\n      <td>0.0</td>\n      <td>0.0</td>\n      <td>0.0</td>\n      <td>0.0</td>\n      <td>0.0</td>\n    </tr>\n    <tr>\n      <th>79</th>\n      <td>Sulfate</td>\n      <td>so4(e)</td>\n      <td>1117</td>\n      <td>96.070</td>\n      <td>0.0</td>\n      <td>0.0</td>\n      <td>0.0</td>\n      <td>0.0</td>\n      <td>0.0</td>\n    </tr>\n    <tr>\n      <th>81</th>\n      <td>Taurine</td>\n      <td>taur(e)</td>\n      <td>1123</td>\n      <td>125.150</td>\n      <td>0.0</td>\n      <td>0.0</td>\n      <td>0.0</td>\n      <td>0.0</td>\n      <td>0.0</td>\n    </tr>\n    <tr>\n      <th>87</th>\n      <td>D-Xylose</td>\n      <td>xyl_D(e)</td>\n      <td>135191</td>\n      <td>150.130</td>\n      <td>0.0</td>\n      <td>0.0</td>\n      <td>0.0</td>\n      <td>0.0</td>\n      <td>0.0</td>\n    </tr>\n  </tbody>\n</table>\n</div>"
     },
     "metadata": {},
     "execution_count": 31
    }
   ],
   "source": [
    "weights_full[weights_full.iloc[:,4:9].sum(axis=1) == 0]"
   ]
  },
  {
   "cell_type": "code",
   "execution_count": 32,
   "metadata": {},
   "outputs": [
    {
     "output_type": "stream",
     "name": "stdout",
     "text": [
      "14\n"
     ]
    },
    {
     "output_type": "display_data",
     "data": {
      "text/plain": "                                                query    BiGG_ID        hit  mol_weight  conc_ppm_Bact_Peptone_L37  conc_ppm_Proteose_Peptone_L85  conc_ppm_soya_peptone_L44  conc_ppm_yeast_extract  supplements\n8                                            Adenine      ade(e)        190     135.130                        0.0                            0.0                        0.0                     0.0          0.0\n20                                      L-Asparagine    asn_L(e)       6267     132.120                        0.0                            0.0                        0.0                     0.0          0.0\n27  Capsular polysaccharide (F. prausnitzii, putat...  cps_fp(e)         NA    1000.000                        0.0                            0.0                        0.0                     0.0          0.0\n32                                     D-Glucosamine      gam(e)     439213     179.170                        0.0                            0.0                        0.0                     0.0          0.0\n35                                       L-Glutamine    gln_L(e)       5961     146.140                        0.0                            0.0                        0.0                     0.0          0.0\n49                                           Guanine      gua(e)  135398634     151.130                        0.0                            0.0                        0.0                     0.0          0.0\n50                                                H+        h(e)       1038       1.008                        0.0                            0.0                        0.0                     0.0          0.0\n51                                               H2O      h2o(e)        962      18.015                        0.0                            0.0                        0.0                     0.0          0.0\n65                                           Ammonia      nh4(e)        222      17.031                        0.0                            0.0                        0.0                     0.0          0.0\n67                      exchange reaction for pectins    pect(e)         NA     194.140                        0.0                            0.0                        0.0                     0.0          0.0\n69                                         Phosphate       pi(e)       1061      94.971                        0.0                            0.0                        0.0                     0.0          0.0\n79                                           Sulfate      so4(e)       1117      96.070                        0.0                            0.0                        0.0                     0.0          0.0\n81                                           Taurine     taur(e)       1123     125.150                        0.0                            0.0                        0.0                     0.0          0.0\n87                                          D-Xylose    xyl_D(e)     135191     150.130                        0.0                            0.0                        0.0                     0.0          0.0",
      "text/html": "<div>\n<style scoped>\n    .dataframe tbody tr th:only-of-type {\n        vertical-align: middle;\n    }\n\n    .dataframe tbody tr th {\n        vertical-align: top;\n    }\n\n    .dataframe thead th {\n        text-align: right;\n    }\n</style>\n<table border=\"1\" class=\"dataframe\">\n  <thead>\n    <tr style=\"text-align: right;\">\n      <th></th>\n      <th>query</th>\n      <th>BiGG_ID</th>\n      <th>hit</th>\n      <th>mol_weight</th>\n      <th>conc_ppm_Bact_Peptone_L37</th>\n      <th>conc_ppm_Proteose_Peptone_L85</th>\n      <th>conc_ppm_soya_peptone_L44</th>\n      <th>conc_ppm_yeast_extract</th>\n      <th>supplements</th>\n    </tr>\n  </thead>\n  <tbody>\n    <tr>\n      <th>8</th>\n      <td>Adenine</td>\n      <td>ade(e)</td>\n      <td>190</td>\n      <td>135.130</td>\n      <td>0.0</td>\n      <td>0.0</td>\n      <td>0.0</td>\n      <td>0.0</td>\n      <td>0.0</td>\n    </tr>\n    <tr>\n      <th>20</th>\n      <td>L-Asparagine</td>\n      <td>asn_L(e)</td>\n      <td>6267</td>\n      <td>132.120</td>\n      <td>0.0</td>\n      <td>0.0</td>\n      <td>0.0</td>\n      <td>0.0</td>\n      <td>0.0</td>\n    </tr>\n    <tr>\n      <th>27</th>\n      <td>Capsular polysaccharide (F. prausnitzii, putat...</td>\n      <td>cps_fp(e)</td>\n      <td>NA</td>\n      <td>1000.000</td>\n      <td>0.0</td>\n      <td>0.0</td>\n      <td>0.0</td>\n      <td>0.0</td>\n      <td>0.0</td>\n    </tr>\n    <tr>\n      <th>32</th>\n      <td>D-Glucosamine</td>\n      <td>gam(e)</td>\n      <td>439213</td>\n      <td>179.170</td>\n      <td>0.0</td>\n      <td>0.0</td>\n      <td>0.0</td>\n      <td>0.0</td>\n      <td>0.0</td>\n    </tr>\n    <tr>\n      <th>35</th>\n      <td>L-Glutamine</td>\n      <td>gln_L(e)</td>\n      <td>5961</td>\n      <td>146.140</td>\n      <td>0.0</td>\n      <td>0.0</td>\n      <td>0.0</td>\n      <td>0.0</td>\n      <td>0.0</td>\n    </tr>\n    <tr>\n      <th>49</th>\n      <td>Guanine</td>\n      <td>gua(e)</td>\n      <td>135398634</td>\n      <td>151.130</td>\n      <td>0.0</td>\n      <td>0.0</td>\n      <td>0.0</td>\n      <td>0.0</td>\n      <td>0.0</td>\n    </tr>\n    <tr>\n      <th>50</th>\n      <td>H+</td>\n      <td>h(e)</td>\n      <td>1038</td>\n      <td>1.008</td>\n      <td>0.0</td>\n      <td>0.0</td>\n      <td>0.0</td>\n      <td>0.0</td>\n      <td>0.0</td>\n    </tr>\n    <tr>\n      <th>51</th>\n      <td>H2O</td>\n      <td>h2o(e)</td>\n      <td>962</td>\n      <td>18.015</td>\n      <td>0.0</td>\n      <td>0.0</td>\n      <td>0.0</td>\n      <td>0.0</td>\n      <td>0.0</td>\n    </tr>\n    <tr>\n      <th>65</th>\n      <td>Ammonia</td>\n      <td>nh4(e)</td>\n      <td>222</td>\n      <td>17.031</td>\n      <td>0.0</td>\n      <td>0.0</td>\n      <td>0.0</td>\n      <td>0.0</td>\n      <td>0.0</td>\n    </tr>\n    <tr>\n      <th>67</th>\n      <td>exchange reaction for pectins</td>\n      <td>pect(e)</td>\n      <td>NA</td>\n      <td>194.140</td>\n      <td>0.0</td>\n      <td>0.0</td>\n      <td>0.0</td>\n      <td>0.0</td>\n      <td>0.0</td>\n    </tr>\n    <tr>\n      <th>69</th>\n      <td>Phosphate</td>\n      <td>pi(e)</td>\n      <td>1061</td>\n      <td>94.971</td>\n      <td>0.0</td>\n      <td>0.0</td>\n      <td>0.0</td>\n      <td>0.0</td>\n      <td>0.0</td>\n    </tr>\n    <tr>\n      <th>79</th>\n      <td>Sulfate</td>\n      <td>so4(e)</td>\n      <td>1117</td>\n      <td>96.070</td>\n      <td>0.0</td>\n      <td>0.0</td>\n      <td>0.0</td>\n      <td>0.0</td>\n      <td>0.0</td>\n    </tr>\n    <tr>\n      <th>81</th>\n      <td>Taurine</td>\n      <td>taur(e)</td>\n      <td>1123</td>\n      <td>125.150</td>\n      <td>0.0</td>\n      <td>0.0</td>\n      <td>0.0</td>\n      <td>0.0</td>\n      <td>0.0</td>\n    </tr>\n    <tr>\n      <th>87</th>\n      <td>D-Xylose</td>\n      <td>xyl_D(e)</td>\n      <td>135191</td>\n      <td>150.130</td>\n      <td>0.0</td>\n      <td>0.0</td>\n      <td>0.0</td>\n      <td>0.0</td>\n      <td>0.0</td>\n    </tr>\n  </tbody>\n</table>\n</div>"
     },
     "metadata": {}
    }
   ],
   "source": [
    "# There are still some 0's left in the medium, meaning that there are still some metabolites used in the reaction that don't have a concentration defined in\n",
    "# the medium from the literature (that I've been able to figure out) so this is where I've taken the mean value for each of the concentration columns\n",
    "# and used that to fill in any 0's in that column\n",
    "# This is a huge, baseless assumption; I think we might be better off manually determining which metabolites that have a concentration are similar to metabolites # that don't have a concentration.\n",
    "\n",
    "# Note: I don't think this would be a huge problem normally, but there are some metabolites here that are necessary for growth \n",
    "# according to the \"mandatory\" metabolites from earlier\n",
    "print(len(weights_full[weights_full.iloc[:,4:10].sum(axis=1) == 0]))\n",
    "display(weights_full[weights_full.iloc[:,4:10].sum(axis=1) == 0])\n",
    "\n",
    "undef_list = weights_full.loc[weights_full.iloc[:,4:10].sum(axis=1) == 0, \"BiGG_ID\"]\n",
    "fill_value = {}\n",
    "# Mean averaging for each of the columns:\n",
    "for media in weights_full.columns[4:]:\n",
    "    fill_value[media] = weights_full[media].mean()\n",
    "\n",
    "for met in undef_list:\n",
    "    for media in fill_value.keys():\n",
    "        weights_full.loc[weights_full['BiGG_ID'] == met, media] = fill_value[media]"
   ]
  },
  {
   "cell_type": "code",
   "execution_count": 34,
   "metadata": {},
   "outputs": [
    {
     "output_type": "execute_result",
     "data": {
      "text/plain": [
       "                       query     BiGG_ID       hit  mol_weight  conc_ppm_Bact_Peptone_L37  conc_ppm_Proteose_Peptone_L85  conc_ppm_soya_peptone_L44  conc_ppm_yeast_extract  supplements         g/L   mmol/mL\n",
       "0                L-cysteate     Lcyst(e)  23619007      168.15              136625.514403                            0.0                        0.0            81316.872428   166.666667  218.109053  1.297110\n",
       "1                 L-Cystine   Lcystin(e)     67678      240.30              136625.514403                            0.0                        0.0            81316.872428   166.666667  218.109053  0.907653\n",
       "2                   Acetate        ac(e)       175       59.04                   0.000000                            0.0                        0.0                0.000000  1500.000000    1.500000  0.025407\n",
       "3      N-acetyl-L-aspartate     acasp(e)     65065      175.14              374074.074074                            0.0                        0.0           567345.679012   500.000000  941.919753  5.378096\n",
       "4  N-Acetyl-D-galactosamine     acgal(e)     35717      221.21                   0.000000                            0.0                        0.0                0.000000   500.000000    0.500000  0.002260"
      ],
      "text/html": "<div>\n<style scoped>\n    .dataframe tbody tr th:only-of-type {\n        vertical-align: middle;\n    }\n\n    .dataframe tbody tr th {\n        vertical-align: top;\n    }\n\n    .dataframe thead th {\n        text-align: right;\n    }\n</style>\n<table border=\"1\" class=\"dataframe\">\n  <thead>\n    <tr style=\"text-align: right;\">\n      <th></th>\n      <th>query</th>\n      <th>BiGG_ID</th>\n      <th>hit</th>\n      <th>mol_weight</th>\n      <th>conc_ppm_Bact_Peptone_L37</th>\n      <th>conc_ppm_Proteose_Peptone_L85</th>\n      <th>conc_ppm_soya_peptone_L44</th>\n      <th>conc_ppm_yeast_extract</th>\n      <th>supplements</th>\n      <th>g/L</th>\n      <th>mmol/mL</th>\n    </tr>\n  </thead>\n  <tbody>\n    <tr>\n      <th>0</th>\n      <td>L-cysteate</td>\n      <td>Lcyst(e)</td>\n      <td>23619007</td>\n      <td>168.15</td>\n      <td>136625.514403</td>\n      <td>0.0</td>\n      <td>0.0</td>\n      <td>81316.872428</td>\n      <td>166.666667</td>\n      <td>218.109053</td>\n      <td>1.297110</td>\n    </tr>\n    <tr>\n      <th>1</th>\n      <td>L-Cystine</td>\n      <td>Lcystin(e)</td>\n      <td>67678</td>\n      <td>240.30</td>\n      <td>136625.514403</td>\n      <td>0.0</td>\n      <td>0.0</td>\n      <td>81316.872428</td>\n      <td>166.666667</td>\n      <td>218.109053</td>\n      <td>0.907653</td>\n    </tr>\n    <tr>\n      <th>2</th>\n      <td>Acetate</td>\n      <td>ac(e)</td>\n      <td>175</td>\n      <td>59.04</td>\n      <td>0.000000</td>\n      <td>0.0</td>\n      <td>0.0</td>\n      <td>0.000000</td>\n      <td>1500.000000</td>\n      <td>1.500000</td>\n      <td>0.025407</td>\n    </tr>\n    <tr>\n      <th>3</th>\n      <td>N-acetyl-L-aspartate</td>\n      <td>acasp(e)</td>\n      <td>65065</td>\n      <td>175.14</td>\n      <td>374074.074074</td>\n      <td>0.0</td>\n      <td>0.0</td>\n      <td>567345.679012</td>\n      <td>500.000000</td>\n      <td>941.919753</td>\n      <td>5.378096</td>\n    </tr>\n    <tr>\n      <th>4</th>\n      <td>N-Acetyl-D-galactosamine</td>\n      <td>acgal(e)</td>\n      <td>35717</td>\n      <td>221.21</td>\n      <td>0.000000</td>\n      <td>0.0</td>\n      <td>0.0</td>\n      <td>0.000000</td>\n      <td>500.000000</td>\n      <td>0.500000</td>\n      <td>0.002260</td>\n    </tr>\n  </tbody>\n</table>\n</div>"
     },
     "metadata": {},
     "execution_count": 34
    }
   ],
   "source": [
    "# Making calculations to eventually get to flux:\n",
    "weights_full['g/L'] = weights_full.iloc[:,4:9].sum(axis=1)/1000 # ppm/1000 = g/L (roughly)\n",
    "weights_full['mmol/mL'] = weights_full['g/L']/weights_full['mol_weight'] # (g/L)/(molar mass) = mol/L == mmol/mL\n",
    "weights_full.head()"
   ]
  },
  {
   "cell_type": "code",
   "execution_count": null,
   "metadata": {},
   "outputs": [],
   "source": []
  },
  {
   "cell_type": "code",
   "execution_count": 51,
   "metadata": {},
   "outputs": [],
   "source": [
    "# Cells per mL of medium: cells_per_ml = 1640992\n",
    "# file: FP_14.xlsx, sheet: Determination of Cell Count, excel cell: P4\n",
    "# updated: FP_14.xlsx, Determination of Cell Count, excell cell: P11\n",
    "cells_per_ml = 1001930111\n",
    "\n",
    "time = 80\n",
    "# gDw: based on EColi gDw\n",
    "# https://www.ncbi.nlm.nih.gov/pmc/articles/PMC106103/\n",
    "# 1172 fg EColi ~= 1172E-15 g\n",
    "gdw_per_cell = 1172E-15\n",
    "\n",
    "# Calculating flux per metabolite in the medium based on the reference equation (flux = mmol/gDw)\n",
    "weights_full['flux'] = weights_full['mmol/mL']/(cells_per_ml * gdw_per_cell * time)\n"
   ]
  },
  {
   "cell_type": "code",
   "execution_count": 52,
   "metadata": {},
   "outputs": [
    {
     "output_type": "stream",
     "name": "stdout",
     "text": [
      "RCM\n"
     ]
    },
    {
     "output_type": "execute_result",
     "data": {
      "text/plain": [
       "<Solution 0.000 at 0x7f96774dee80>"
      ],
      "text/html": "<strong><em>Optimal</em> solution with objective value 0.000</strong><br><div>\n<style scoped>\n    .dataframe tbody tr th:only-of-type {\n        vertical-align: middle;\n    }\n\n    .dataframe tbody tr th {\n        vertical-align: top;\n    }\n\n    .dataframe thead th {\n        text-align: right;\n    }\n</style>\n<table border=\"1\" class=\"dataframe\">\n  <thead>\n    <tr style=\"text-align: right;\">\n      <th></th>\n      <th>fluxes</th>\n      <th>reduced_costs</th>\n    </tr>\n  </thead>\n  <tbody>\n    <tr>\n      <th>26DAPLLATi</th>\n      <td>183.301426</td>\n      <td>0.0</td>\n    </tr>\n    <tr>\n      <th>3HAD100</th>\n      <td>0.000024</td>\n      <td>0.0</td>\n    </tr>\n    <tr>\n      <th>3HAD120</th>\n      <td>0.000014</td>\n      <td>0.0</td>\n    </tr>\n    <tr>\n      <th>3HAD121</th>\n      <td>0.000010</td>\n      <td>0.0</td>\n    </tr>\n    <tr>\n      <th>3HAD140</th>\n      <td>0.000013</td>\n      <td>0.0</td>\n    </tr>\n    <tr>\n      <th>...</th>\n      <td>...</td>\n      <td>...</td>\n    </tr>\n    <tr>\n      <th>XYLt2</th>\n      <td>0.000000</td>\n      <td>0.0</td>\n    </tr>\n    <tr>\n      <th>YUMPS</th>\n      <td>0.000000</td>\n      <td>0.0</td>\n    </tr>\n    <tr>\n      <th>r0502</th>\n      <td>0.000000</td>\n      <td>0.0</td>\n    </tr>\n    <tr>\n      <th>r0839</th>\n      <td>-0.000005</td>\n      <td>-0.0</td>\n    </tr>\n    <tr>\n      <th>sink_hpyr</th>\n      <td>0.000000</td>\n      <td>0.0</td>\n    </tr>\n  </tbody>\n</table>\n<p>1030 rows × 2 columns</p>\n</div>"
     },
     "metadata": {},
     "execution_count": 52
    }
   ],
   "source": [
    "# FINALLY\n",
    "# Use the \"flux\" column from the \"weights_full\" df to set the lower bound for each of the metabolites in the model \n",
    "print(\"RCM\")\n",
    "for met in root_model.exchanges:\n",
    "    if 'ac' not in met.id or '_o2(e)' in met.id:\n",
    "        root_model.reactions.get_by_id(met.id).lower_bound = -0.001\n",
    "    else:\n",
    "        root_model.reactions.get_by_id(met.id).lower_bound = 0\n",
    "\n",
    "for id in [\"EX_\"+metab for metab in list(weights_full['BiGG_ID'])]:\n",
    "    root_model.reactions.get_by_id(id).upper_bound = 1000\n",
    "    root_model.reactions.get_by_id(id).lower_bound = weights_full.loc[weights_full[\"BiGG_ID\"] == id.lstrip(\"EX_\"), \"flux\"].values[0]*-1\n",
    "root_model.objective = {root_model.reactions.get_by_id('Biomass_FP'): 1}\n",
    "root_model.optimize()"
   ]
  },
  {
   "cell_type": "code",
   "execution_count": 53,
   "metadata": {},
   "outputs": [
    {
     "output_type": "execute_result",
     "data": {
      "text/plain": [
       "2.273367238649745e-05"
      ]
     },
     "metadata": {},
     "execution_count": 53
    }
   ],
   "source": [
    "root_model.slim_optimize()"
   ]
  },
  {
   "cell_type": "code",
   "execution_count": null,
   "metadata": {},
   "outputs": [],
   "source": []
  },
  {
   "cell_type": "code",
   "execution_count": 18,
   "metadata": {},
   "outputs": [
    {
     "output_type": "execute_result",
     "data": {
      "text/plain": [
       "<Reaction EX_ac(e) at 0x7f8fda42cf40>"
      ],
      "text/html": "\n        <table>\n            <tr>\n                <td><strong>Reaction identifier</strong></td><td>EX_ac(e)</td>\n            </tr><tr>\n                <td><strong>Name</strong></td><td>Acetate exchange</td>\n            </tr><tr>\n                <td><strong>Memory address</strong></td>\n                <td>0x07f8fda42cf40</td>\n            </tr><tr>\n                <td><strong>Stoichiometry</strong></td>\n                <td>\n                    <p style='text-align:right'>ac[e] --></p>\n                    <p style='text-align:right'>Acetate --></p>\n                </td>\n            </tr><tr>\n                <td><strong>GPR</strong></td><td></td>\n            </tr><tr>\n                <td><strong>Lower bound</strong></td><td>0</td>\n            </tr><tr>\n                <td><strong>Upper bound</strong></td><td>1000.0</td>\n            </tr>\n        </table>\n        "
     },
     "metadata": {},
     "execution_count": 18
    }
   ],
   "source": [
    "root_model.reactions.get_by_id('EX_ac(e)')"
   ]
  },
  {
   "cell_type": "code",
   "execution_count": 19,
   "metadata": {},
   "outputs": [],
   "source": [
    "weights_full[['BiGG_ID','flux']].to_csv('rcm.csv')"
   ]
  },
  {
   "cell_type": "code",
   "execution_count": 20,
   "metadata": {},
   "outputs": [],
   "source": [
    "root_model.summary().to_frame().to_csv('rcm_model_summary.csv')"
   ]
  },
  {
   "cell_type": "code",
   "execution_count": 21,
   "metadata": {},
   "outputs": [
    {
     "output_type": "execute_result",
     "data": {
      "text/plain": [
       "                                                query        BiGG_ID       flux          metab        growth\n",
       "0                                         L-cysteate        Lcyst(e)   0.159560       Lcyst(e)  1.103796e+01\n",
       "1                                          L-Cystine      Lcystin(e)   0.111652     Lcystin(e)  1.103796e+01\n",
       "2                                            Adenine          ade(e)   0.473707         ade(e)  1.103796e+01\n",
       "3                                          D-Alanine        ala_D(e)   0.166758       ala_D(e)  1.103796e+01\n",
       "4                                          L-Alanine        ala_L(e)   0.166758       ala_L(e)  1.103796e+01\n",
       "5                                 D-Alanyl-D-alanine       alaala(e)   0.092754      alaala(e)  1.103796e+01\n",
       "6                               L-alanyl-L-aspartate       alaasp(e)   0.783406      alaasp(e)  1.103796e+01\n",
       "7                               L-alanyl-L-glutamine       alagln(e)   0.068393      alagln(e)  1.103796e+01\n",
       "8                               L-alanyl-L-glutamate       alaglu(e)   1.259131      alaglu(e)  1.103796e+01\n",
       "9                                    L-alanylglycine       alagly(e)   0.289164      alagly(e)  1.103796e+01\n",
       "10                              L-alanyl-L-histidine       alahis(e)   0.065670      alahis(e)  1.103796e+01\n",
       "11                                L-alanyl-L-leucine       alaleu(e)   0.400256      alaleu(e)  1.103796e+01\n",
       "12                              L-alanyl-L-threonine       alathr(e)   0.436226      alathr(e)  1.103796e+01\n",
       "13                                        L-Arginine        arg_L(e)   1.524021       arg_L(e)  1.103796e+01\n",
       "14                                      L-Asparagine        asn_L(e)   0.484499       asn_L(e)  1.103796e+01\n",
       "15                                       L-Aspartate        asp_L(e)   1.096888       asp_L(e)  1.103796e+01\n",
       "16                                            Biotin          btn(e)   0.006908         btn(e) -7.165192e-15\n",
       "17                                           Calcium          ca2(e)  15.201221         ca2(e) -1.528574e-14\n",
       "18                                           Cys-Gly         cgly(e)   0.163232        cgly(e)  1.103796e+01\n",
       "19                                          Chloride           cl(e)   1.863748          cl(e) -2.943929e-15\n",
       "20                                              Co2+      cobalt2(e)   0.028835     cobalt2(e)  3.598136e-15\n",
       "21  Capsular polysaccharide (F. prausnitzii, putat...      cps_fp(e)   0.064012      cps_fp(e)  1.077058e+01\n",
       "22                                              Cu2+          cu2(e)   0.073171         cu2(e)  3.598136e-15\n",
       "23                                        L-Cysteine        cys_L(e)   0.221443       cys_L(e)  1.103796e+01\n",
       "24                                              Fe3+          fe3(e)   0.081038         fe3(e)  1.103796e+01\n",
       "25                                            Folate          fol(e)   0.003823         fol(e)  1.340104e-15\n",
       "26                                     D-Glucosamine          gam(e)   0.357270         gam(e)  1.103796e+01\n",
       "27                                         D-Glucose          glc(e)   0.493655         glc(e)  1.103796e+01\n",
       "28                                     D-Glucuronate        glcur(e)   0.458107       glcur(e)  1.103796e+01\n",
       "29                                       L-Glutamine        gln_L(e)   0.438019       gln_L(e)  1.103796e+01\n",
       "30                                       L-Glutamate        glu_L(e)   1.777925       glu_L(e)  1.103796e+01\n",
       "31                                           Glycine          gly(e)   0.387499         gly(e)  1.103796e+01\n",
       "32                               Glycyl-L-asparagine       glyasn(e)   0.153775      glyasn(e)  1.103796e+01\n",
       "33                                Glycyl-L-aspartate       glyasp(e)   0.916721      glyasp(e)  1.103796e+01\n",
       "34                              Glycerol 3-phosphate       glyc3p(e)   0.169057      glyc3p(e)  5.518982e+00\n",
       "35                                Glycyl-L-glutamine       glygln(e)   0.143157      glygln(e)  1.103796e+01\n",
       "36                                Glycyl-L-glutamate       glyglu(e)   1.422395      glyglu(e)  1.103796e+01\n",
       "37                  exchange reaction for glycylglyci      glygly(e)   0.193750      glygly(e)  1.103796e+01\n",
       "38                                     Glycylleucine       glyleu(e)   0.505711      glyleu(e)  1.103796e+01\n",
       "39                               Glycyl-L-methionine       glymet(e)   0.201120      glymet(e)  1.103796e+01\n",
       "40             exchange reaction for glycylphenylalai      glyphe(e)   0.564963      glyphe(e)  1.103796e+01\n",
       "41                                     Glycylproline       glypro(e)   0.552207      glypro(e)  1.103796e+01\n",
       "42                                 Glycyl-L-tyrosine       glytyr(e)   0.528706      glytyr(e)  1.103796e+01\n",
       "43                                           Guanine          gua(e)   0.423556         gua(e)  1.103796e+01\n",
       "44                                                H+            h(e)  63.504032           h(e)  1.103796e+01\n",
       "45                                               H2O          h2o(e)   3.553265         h2o(e)  1.103796e+01\n",
       "46                                                K+            k(e)   9.546997           k(e)  3.821436e-15\n",
       "47                                         L-Leucine        leu_L(e)   0.516757       leu_L(e)  1.103796e+01\n",
       "48                  exchange reaction for leucylglyci      leugly(e)   0.461525      leugly(e)  1.103796e+01\n",
       "49                                     Leucylleucine       leuleu(e)   0.277424      leuleu(e)  1.103796e+01\n",
       "50                                          L-Lysine        lys_L(e)   2.225153       lys_L(e)  1.103796e+01\n",
       "51                                      D-Methionine        met_D(e)   0.094384       met_D(e)  1.103796e+01\n",
       "52                                      L-Methionine        met_L(e)   0.094384       met_L(e)  1.103796e+01\n",
       "53                             L-methionyl-L-alanine       metala(e)   0.123709      metala(e)  1.103796e+01\n",
       "54                          L-methionine-R-sulfoxide   metsox_R_L(e)   0.085244  metsox_R_L(e)  1.103796e+01\n",
       "55                              L-Methionine S-oxide   metsox_S_L(e)   0.085244  metsox_S_L(e)  1.103796e+01\n",
       "56                                                Mg          mg2(e)   2.317882         mg2(e) -1.714438e-13\n",
       "57                                            Sodium          na1(e)   3.568428         na1(e)  1.103796e+01\n",
       "58                                        Nicotinate          nac(e)   0.013823         nac(e)  7.879200e-13\n",
       "59                                           Ammonia          nh4(e)   3.758562         nh4(e)  1.103796e+01\n",
       "60                                              Lead           pb(e)   0.008171          pb(e)  1.103796e+01\n",
       "61                      exchange reaction for pectins        pect(e)   0.329721        pect(e)  1.103796e+01\n",
       "62                                   L-Phenylalanine        phe_L(e)   0.655828       phe_L(e)  1.103796e+01\n",
       "63                                         Phosphate           pi(e)   0.674017          pi(e)  5.518982e+00\n",
       "64                                  (R)-Pantothenate       pnto_R(e)   0.007698      pnto_R(e) -8.216087e-14\n",
       "65                                         L-Proline        pro_L(e)   0.587832       pro_L(e)  1.103796e+01\n",
       "66                                 L-Prolinylglycine       progly(e)   0.545804      progly(e)  1.103796e+01\n",
       "67                                      Pyridoxamine        pydam(e)   0.010034       pydam(e)  1.103796e+01\n",
       "68                                         Pyridoxal         pydx(e)   0.010096        pydx(e) -1.571566e-13\n",
       "69                                        Pyridoxine        pydxn(e)   0.009975       pydxn(e)  1.103796e+01\n",
       "70                                Reduced riboflavin      rbflvrd(e)   0.004460     rbflvrd(e)  1.103796e+01\n",
       "71                                        Riboflavin       ribflv(e)   0.004484      ribflv(e)  1.103796e+01\n",
       "72                                          L-Serine        ser_L(e)   1.976030       ser_L(e) -2.866077e-15\n",
       "73                                           Sulfate          so4(e)   0.666306         so4(e) -8.598231e-14\n",
       "74  starch, structure 1 (1,6-{7[1,4-Glc], 4[1,4-Gl...      strch1(e)   0.203071      strch1(e)  1.103796e+01\n",
       "75                                           Taurine         taur(e)   0.511483        taur(e)  1.103796e+01\n",
       "76                                           Thiamin          thm(e)   0.006360         thm(e)  1.103796e+01\n",
       "77                                       L-Threonine        thr_L(e)   0.585975       thr_L(e)  1.103796e+01\n",
       "78                                      L-Tryptophan        trp_L(e)   0.253599       trp_L(e)  6.209833e-15\n",
       "79                                        L-Tyrosine        tyr_L(e)   0.543943       tyr_L(e)  1.103796e+01\n",
       "80                                          L-Valine        val_L(e)   1.136301       val_L(e)  1.103796e+01\n",
       "81                                          D-Xylose        xyl_D(e)   0.426378       xyl_D(e)  1.103796e+01"
      ],
      "text/html": "<div>\n<style scoped>\n    .dataframe tbody tr th:only-of-type {\n        vertical-align: middle;\n    }\n\n    .dataframe tbody tr th {\n        vertical-align: top;\n    }\n\n    .dataframe thead th {\n        text-align: right;\n    }\n</style>\n<table border=\"1\" class=\"dataframe\">\n  <thead>\n    <tr style=\"text-align: right;\">\n      <th></th>\n      <th>query</th>\n      <th>BiGG_ID</th>\n      <th>flux</th>\n      <th>metab</th>\n      <th>growth</th>\n    </tr>\n  </thead>\n  <tbody>\n    <tr>\n      <th>0</th>\n      <td>L-cysteate</td>\n      <td>Lcyst(e)</td>\n      <td>0.159560</td>\n      <td>Lcyst(e)</td>\n      <td>1.103796e+01</td>\n    </tr>\n    <tr>\n      <th>1</th>\n      <td>L-Cystine</td>\n      <td>Lcystin(e)</td>\n      <td>0.111652</td>\n      <td>Lcystin(e)</td>\n      <td>1.103796e+01</td>\n    </tr>\n    <tr>\n      <th>2</th>\n      <td>Adenine</td>\n      <td>ade(e)</td>\n      <td>0.473707</td>\n      <td>ade(e)</td>\n      <td>1.103796e+01</td>\n    </tr>\n    <tr>\n      <th>3</th>\n      <td>D-Alanine</td>\n      <td>ala_D(e)</td>\n      <td>0.166758</td>\n      <td>ala_D(e)</td>\n      <td>1.103796e+01</td>\n    </tr>\n    <tr>\n      <th>4</th>\n      <td>L-Alanine</td>\n      <td>ala_L(e)</td>\n      <td>0.166758</td>\n      <td>ala_L(e)</td>\n      <td>1.103796e+01</td>\n    </tr>\n    <tr>\n      <th>5</th>\n      <td>D-Alanyl-D-alanine</td>\n      <td>alaala(e)</td>\n      <td>0.092754</td>\n      <td>alaala(e)</td>\n      <td>1.103796e+01</td>\n    </tr>\n    <tr>\n      <th>6</th>\n      <td>L-alanyl-L-aspartate</td>\n      <td>alaasp(e)</td>\n      <td>0.783406</td>\n      <td>alaasp(e)</td>\n      <td>1.103796e+01</td>\n    </tr>\n    <tr>\n      <th>7</th>\n      <td>L-alanyl-L-glutamine</td>\n      <td>alagln(e)</td>\n      <td>0.068393</td>\n      <td>alagln(e)</td>\n      <td>1.103796e+01</td>\n    </tr>\n    <tr>\n      <th>8</th>\n      <td>L-alanyl-L-glutamate</td>\n      <td>alaglu(e)</td>\n      <td>1.259131</td>\n      <td>alaglu(e)</td>\n      <td>1.103796e+01</td>\n    </tr>\n    <tr>\n      <th>9</th>\n      <td>L-alanylglycine</td>\n      <td>alagly(e)</td>\n      <td>0.289164</td>\n      <td>alagly(e)</td>\n      <td>1.103796e+01</td>\n    </tr>\n    <tr>\n      <th>10</th>\n      <td>L-alanyl-L-histidine</td>\n      <td>alahis(e)</td>\n      <td>0.065670</td>\n      <td>alahis(e)</td>\n      <td>1.103796e+01</td>\n    </tr>\n    <tr>\n      <th>11</th>\n      <td>L-alanyl-L-leucine</td>\n      <td>alaleu(e)</td>\n      <td>0.400256</td>\n      <td>alaleu(e)</td>\n      <td>1.103796e+01</td>\n    </tr>\n    <tr>\n      <th>12</th>\n      <td>L-alanyl-L-threonine</td>\n      <td>alathr(e)</td>\n      <td>0.436226</td>\n      <td>alathr(e)</td>\n      <td>1.103796e+01</td>\n    </tr>\n    <tr>\n      <th>13</th>\n      <td>L-Arginine</td>\n      <td>arg_L(e)</td>\n      <td>1.524021</td>\n      <td>arg_L(e)</td>\n      <td>1.103796e+01</td>\n    </tr>\n    <tr>\n      <th>14</th>\n      <td>L-Asparagine</td>\n      <td>asn_L(e)</td>\n      <td>0.484499</td>\n      <td>asn_L(e)</td>\n      <td>1.103796e+01</td>\n    </tr>\n    <tr>\n      <th>15</th>\n      <td>L-Aspartate</td>\n      <td>asp_L(e)</td>\n      <td>1.096888</td>\n      <td>asp_L(e)</td>\n      <td>1.103796e+01</td>\n    </tr>\n    <tr>\n      <th>16</th>\n      <td>Biotin</td>\n      <td>btn(e)</td>\n      <td>0.006908</td>\n      <td>btn(e)</td>\n      <td>-7.165192e-15</td>\n    </tr>\n    <tr>\n      <th>17</th>\n      <td>Calcium</td>\n      <td>ca2(e)</td>\n      <td>15.201221</td>\n      <td>ca2(e)</td>\n      <td>-1.528574e-14</td>\n    </tr>\n    <tr>\n      <th>18</th>\n      <td>Cys-Gly</td>\n      <td>cgly(e)</td>\n      <td>0.163232</td>\n      <td>cgly(e)</td>\n      <td>1.103796e+01</td>\n    </tr>\n    <tr>\n      <th>19</th>\n      <td>Chloride</td>\n      <td>cl(e)</td>\n      <td>1.863748</td>\n      <td>cl(e)</td>\n      <td>-2.943929e-15</td>\n    </tr>\n    <tr>\n      <th>20</th>\n      <td>Co2+</td>\n      <td>cobalt2(e)</td>\n      <td>0.028835</td>\n      <td>cobalt2(e)</td>\n      <td>3.598136e-15</td>\n    </tr>\n    <tr>\n      <th>21</th>\n      <td>Capsular polysaccharide (F. prausnitzii, putat...</td>\n      <td>cps_fp(e)</td>\n      <td>0.064012</td>\n      <td>cps_fp(e)</td>\n      <td>1.077058e+01</td>\n    </tr>\n    <tr>\n      <th>22</th>\n      <td>Cu2+</td>\n      <td>cu2(e)</td>\n      <td>0.073171</td>\n      <td>cu2(e)</td>\n      <td>3.598136e-15</td>\n    </tr>\n    <tr>\n      <th>23</th>\n      <td>L-Cysteine</td>\n      <td>cys_L(e)</td>\n      <td>0.221443</td>\n      <td>cys_L(e)</td>\n      <td>1.103796e+01</td>\n    </tr>\n    <tr>\n      <th>24</th>\n      <td>Fe3+</td>\n      <td>fe3(e)</td>\n      <td>0.081038</td>\n      <td>fe3(e)</td>\n      <td>1.103796e+01</td>\n    </tr>\n    <tr>\n      <th>25</th>\n      <td>Folate</td>\n      <td>fol(e)</td>\n      <td>0.003823</td>\n      <td>fol(e)</td>\n      <td>1.340104e-15</td>\n    </tr>\n    <tr>\n      <th>26</th>\n      <td>D-Glucosamine</td>\n      <td>gam(e)</td>\n      <td>0.357270</td>\n      <td>gam(e)</td>\n      <td>1.103796e+01</td>\n    </tr>\n    <tr>\n      <th>27</th>\n      <td>D-Glucose</td>\n      <td>glc(e)</td>\n      <td>0.493655</td>\n      <td>glc(e)</td>\n      <td>1.103796e+01</td>\n    </tr>\n    <tr>\n      <th>28</th>\n      <td>D-Glucuronate</td>\n      <td>glcur(e)</td>\n      <td>0.458107</td>\n      <td>glcur(e)</td>\n      <td>1.103796e+01</td>\n    </tr>\n    <tr>\n      <th>29</th>\n      <td>L-Glutamine</td>\n      <td>gln_L(e)</td>\n      <td>0.438019</td>\n      <td>gln_L(e)</td>\n      <td>1.103796e+01</td>\n    </tr>\n    <tr>\n      <th>30</th>\n      <td>L-Glutamate</td>\n      <td>glu_L(e)</td>\n      <td>1.777925</td>\n      <td>glu_L(e)</td>\n      <td>1.103796e+01</td>\n    </tr>\n    <tr>\n      <th>31</th>\n      <td>Glycine</td>\n      <td>gly(e)</td>\n      <td>0.387499</td>\n      <td>gly(e)</td>\n      <td>1.103796e+01</td>\n    </tr>\n    <tr>\n      <th>32</th>\n      <td>Glycyl-L-asparagine</td>\n      <td>glyasn(e)</td>\n      <td>0.153775</td>\n      <td>glyasn(e)</td>\n      <td>1.103796e+01</td>\n    </tr>\n    <tr>\n      <th>33</th>\n      <td>Glycyl-L-aspartate</td>\n      <td>glyasp(e)</td>\n      <td>0.916721</td>\n      <td>glyasp(e)</td>\n      <td>1.103796e+01</td>\n    </tr>\n    <tr>\n      <th>34</th>\n      <td>Glycerol 3-phosphate</td>\n      <td>glyc3p(e)</td>\n      <td>0.169057</td>\n      <td>glyc3p(e)</td>\n      <td>5.518982e+00</td>\n    </tr>\n    <tr>\n      <th>35</th>\n      <td>Glycyl-L-glutamine</td>\n      <td>glygln(e)</td>\n      <td>0.143157</td>\n      <td>glygln(e)</td>\n      <td>1.103796e+01</td>\n    </tr>\n    <tr>\n      <th>36</th>\n      <td>Glycyl-L-glutamate</td>\n      <td>glyglu(e)</td>\n      <td>1.422395</td>\n      <td>glyglu(e)</td>\n      <td>1.103796e+01</td>\n    </tr>\n    <tr>\n      <th>37</th>\n      <td>exchange reaction for glycylglyci</td>\n      <td>glygly(e)</td>\n      <td>0.193750</td>\n      <td>glygly(e)</td>\n      <td>1.103796e+01</td>\n    </tr>\n    <tr>\n      <th>38</th>\n      <td>Glycylleucine</td>\n      <td>glyleu(e)</td>\n      <td>0.505711</td>\n      <td>glyleu(e)</td>\n      <td>1.103796e+01</td>\n    </tr>\n    <tr>\n      <th>39</th>\n      <td>Glycyl-L-methionine</td>\n      <td>glymet(e)</td>\n      <td>0.201120</td>\n      <td>glymet(e)</td>\n      <td>1.103796e+01</td>\n    </tr>\n    <tr>\n      <th>40</th>\n      <td>exchange reaction for glycylphenylalai</td>\n      <td>glyphe(e)</td>\n      <td>0.564963</td>\n      <td>glyphe(e)</td>\n      <td>1.103796e+01</td>\n    </tr>\n    <tr>\n      <th>41</th>\n      <td>Glycylproline</td>\n      <td>glypro(e)</td>\n      <td>0.552207</td>\n      <td>glypro(e)</td>\n      <td>1.103796e+01</td>\n    </tr>\n    <tr>\n      <th>42</th>\n      <td>Glycyl-L-tyrosine</td>\n      <td>glytyr(e)</td>\n      <td>0.528706</td>\n      <td>glytyr(e)</td>\n      <td>1.103796e+01</td>\n    </tr>\n    <tr>\n      <th>43</th>\n      <td>Guanine</td>\n      <td>gua(e)</td>\n      <td>0.423556</td>\n      <td>gua(e)</td>\n      <td>1.103796e+01</td>\n    </tr>\n    <tr>\n      <th>44</th>\n      <td>H+</td>\n      <td>h(e)</td>\n      <td>63.504032</td>\n      <td>h(e)</td>\n      <td>1.103796e+01</td>\n    </tr>\n    <tr>\n      <th>45</th>\n      <td>H2O</td>\n      <td>h2o(e)</td>\n      <td>3.553265</td>\n      <td>h2o(e)</td>\n      <td>1.103796e+01</td>\n    </tr>\n    <tr>\n      <th>46</th>\n      <td>K+</td>\n      <td>k(e)</td>\n      <td>9.546997</td>\n      <td>k(e)</td>\n      <td>3.821436e-15</td>\n    </tr>\n    <tr>\n      <th>47</th>\n      <td>L-Leucine</td>\n      <td>leu_L(e)</td>\n      <td>0.516757</td>\n      <td>leu_L(e)</td>\n      <td>1.103796e+01</td>\n    </tr>\n    <tr>\n      <th>48</th>\n      <td>exchange reaction for leucylglyci</td>\n      <td>leugly(e)</td>\n      <td>0.461525</td>\n      <td>leugly(e)</td>\n      <td>1.103796e+01</td>\n    </tr>\n    <tr>\n      <th>49</th>\n      <td>Leucylleucine</td>\n      <td>leuleu(e)</td>\n      <td>0.277424</td>\n      <td>leuleu(e)</td>\n      <td>1.103796e+01</td>\n    </tr>\n    <tr>\n      <th>50</th>\n      <td>L-Lysine</td>\n      <td>lys_L(e)</td>\n      <td>2.225153</td>\n      <td>lys_L(e)</td>\n      <td>1.103796e+01</td>\n    </tr>\n    <tr>\n      <th>51</th>\n      <td>D-Methionine</td>\n      <td>met_D(e)</td>\n      <td>0.094384</td>\n      <td>met_D(e)</td>\n      <td>1.103796e+01</td>\n    </tr>\n    <tr>\n      <th>52</th>\n      <td>L-Methionine</td>\n      <td>met_L(e)</td>\n      <td>0.094384</td>\n      <td>met_L(e)</td>\n      <td>1.103796e+01</td>\n    </tr>\n    <tr>\n      <th>53</th>\n      <td>L-methionyl-L-alanine</td>\n      <td>metala(e)</td>\n      <td>0.123709</td>\n      <td>metala(e)</td>\n      <td>1.103796e+01</td>\n    </tr>\n    <tr>\n      <th>54</th>\n      <td>L-methionine-R-sulfoxide</td>\n      <td>metsox_R_L(e)</td>\n      <td>0.085244</td>\n      <td>metsox_R_L(e)</td>\n      <td>1.103796e+01</td>\n    </tr>\n    <tr>\n      <th>55</th>\n      <td>L-Methionine S-oxide</td>\n      <td>metsox_S_L(e)</td>\n      <td>0.085244</td>\n      <td>metsox_S_L(e)</td>\n      <td>1.103796e+01</td>\n    </tr>\n    <tr>\n      <th>56</th>\n      <td>Mg</td>\n      <td>mg2(e)</td>\n      <td>2.317882</td>\n      <td>mg2(e)</td>\n      <td>-1.714438e-13</td>\n    </tr>\n    <tr>\n      <th>57</th>\n      <td>Sodium</td>\n      <td>na1(e)</td>\n      <td>3.568428</td>\n      <td>na1(e)</td>\n      <td>1.103796e+01</td>\n    </tr>\n    <tr>\n      <th>58</th>\n      <td>Nicotinate</td>\n      <td>nac(e)</td>\n      <td>0.013823</td>\n      <td>nac(e)</td>\n      <td>7.879200e-13</td>\n    </tr>\n    <tr>\n      <th>59</th>\n      <td>Ammonia</td>\n      <td>nh4(e)</td>\n      <td>3.758562</td>\n      <td>nh4(e)</td>\n      <td>1.103796e+01</td>\n    </tr>\n    <tr>\n      <th>60</th>\n      <td>Lead</td>\n      <td>pb(e)</td>\n      <td>0.008171</td>\n      <td>pb(e)</td>\n      <td>1.103796e+01</td>\n    </tr>\n    <tr>\n      <th>61</th>\n      <td>exchange reaction for pectins</td>\n      <td>pect(e)</td>\n      <td>0.329721</td>\n      <td>pect(e)</td>\n      <td>1.103796e+01</td>\n    </tr>\n    <tr>\n      <th>62</th>\n      <td>L-Phenylalanine</td>\n      <td>phe_L(e)</td>\n      <td>0.655828</td>\n      <td>phe_L(e)</td>\n      <td>1.103796e+01</td>\n    </tr>\n    <tr>\n      <th>63</th>\n      <td>Phosphate</td>\n      <td>pi(e)</td>\n      <td>0.674017</td>\n      <td>pi(e)</td>\n      <td>5.518982e+00</td>\n    </tr>\n    <tr>\n      <th>64</th>\n      <td>(R)-Pantothenate</td>\n      <td>pnto_R(e)</td>\n      <td>0.007698</td>\n      <td>pnto_R(e)</td>\n      <td>-8.216087e-14</td>\n    </tr>\n    <tr>\n      <th>65</th>\n      <td>L-Proline</td>\n      <td>pro_L(e)</td>\n      <td>0.587832</td>\n      <td>pro_L(e)</td>\n      <td>1.103796e+01</td>\n    </tr>\n    <tr>\n      <th>66</th>\n      <td>L-Prolinylglycine</td>\n      <td>progly(e)</td>\n      <td>0.545804</td>\n      <td>progly(e)</td>\n      <td>1.103796e+01</td>\n    </tr>\n    <tr>\n      <th>67</th>\n      <td>Pyridoxamine</td>\n      <td>pydam(e)</td>\n      <td>0.010034</td>\n      <td>pydam(e)</td>\n      <td>1.103796e+01</td>\n    </tr>\n    <tr>\n      <th>68</th>\n      <td>Pyridoxal</td>\n      <td>pydx(e)</td>\n      <td>0.010096</td>\n      <td>pydx(e)</td>\n      <td>-1.571566e-13</td>\n    </tr>\n    <tr>\n      <th>69</th>\n      <td>Pyridoxine</td>\n      <td>pydxn(e)</td>\n      <td>0.009975</td>\n      <td>pydxn(e)</td>\n      <td>1.103796e+01</td>\n    </tr>\n    <tr>\n      <th>70</th>\n      <td>Reduced riboflavin</td>\n      <td>rbflvrd(e)</td>\n      <td>0.004460</td>\n      <td>rbflvrd(e)</td>\n      <td>1.103796e+01</td>\n    </tr>\n    <tr>\n      <th>71</th>\n      <td>Riboflavin</td>\n      <td>ribflv(e)</td>\n      <td>0.004484</td>\n      <td>ribflv(e)</td>\n      <td>1.103796e+01</td>\n    </tr>\n    <tr>\n      <th>72</th>\n      <td>L-Serine</td>\n      <td>ser_L(e)</td>\n      <td>1.976030</td>\n      <td>ser_L(e)</td>\n      <td>-2.866077e-15</td>\n    </tr>\n    <tr>\n      <th>73</th>\n      <td>Sulfate</td>\n      <td>so4(e)</td>\n      <td>0.666306</td>\n      <td>so4(e)</td>\n      <td>-8.598231e-14</td>\n    </tr>\n    <tr>\n      <th>74</th>\n      <td>starch, structure 1 (1,6-{7[1,4-Glc], 4[1,4-Gl...</td>\n      <td>strch1(e)</td>\n      <td>0.203071</td>\n      <td>strch1(e)</td>\n      <td>1.103796e+01</td>\n    </tr>\n    <tr>\n      <th>75</th>\n      <td>Taurine</td>\n      <td>taur(e)</td>\n      <td>0.511483</td>\n      <td>taur(e)</td>\n      <td>1.103796e+01</td>\n    </tr>\n    <tr>\n      <th>76</th>\n      <td>Thiamin</td>\n      <td>thm(e)</td>\n      <td>0.006360</td>\n      <td>thm(e)</td>\n      <td>1.103796e+01</td>\n    </tr>\n    <tr>\n      <th>77</th>\n      <td>L-Threonine</td>\n      <td>thr_L(e)</td>\n      <td>0.585975</td>\n      <td>thr_L(e)</td>\n      <td>1.103796e+01</td>\n    </tr>\n    <tr>\n      <th>78</th>\n      <td>L-Tryptophan</td>\n      <td>trp_L(e)</td>\n      <td>0.253599</td>\n      <td>trp_L(e)</td>\n      <td>6.209833e-15</td>\n    </tr>\n    <tr>\n      <th>79</th>\n      <td>L-Tyrosine</td>\n      <td>tyr_L(e)</td>\n      <td>0.543943</td>\n      <td>tyr_L(e)</td>\n      <td>1.103796e+01</td>\n    </tr>\n    <tr>\n      <th>80</th>\n      <td>L-Valine</td>\n      <td>val_L(e)</td>\n      <td>1.136301</td>\n      <td>val_L(e)</td>\n      <td>1.103796e+01</td>\n    </tr>\n    <tr>\n      <th>81</th>\n      <td>D-Xylose</td>\n      <td>xyl_D(e)</td>\n      <td>0.426378</td>\n      <td>xyl_D(e)</td>\n      <td>1.103796e+01</td>\n    </tr>\n  </tbody>\n</table>\n</div>"
     },
     "metadata": {},
     "execution_count": 21
    }
   ],
   "source": [
    "# Post-mortem\n",
    "# Each metabolite in the model, its flux, and how much growth decreases when it's removed from the medium (one of the first steps)\n",
    "# Sorted by growth (descending), we can take a look at the \"most important\" metabolites and what their fluxes were in the medium\n",
    "# weights_full[['query','BiGG_ID','flux']].merge(growth_check_df, how=\"left\", left_on=\"BiGG_ID\", right_on=\"metab\").sort_values(by=\"BiGG_ID\")"
   ]
  },
  {
   "cell_type": "code",
   "execution_count": 22,
   "metadata": {},
   "outputs": [
    {
     "output_type": "execute_result",
     "data": {
      "text/plain": [
       "                          reaction     metabolite  factor       flux\n",
       "DM_4HBA                    DM_4HBA        4hba[c]    -1.0   0.000000\n",
       "DM_AACALD                DM_AACALD      aacald[c]    -1.0   0.000000\n",
       "DM_HMFURN                DM_HMFURN      hmfurn[c]    -1.0   0.000000\n",
       "DM_HQN                      DM_HQN         hqn[c]    -1.0   0.000000\n",
       "DM_NA1                      DM_NA1         na1[c]    -1.0  -0.632261\n",
       "DM_SELNP                  DM_SELNP       selnp[c]    -1.0   0.000000\n",
       "EX_3mop(e)              EX_3mop(e)        3mop[e]    -1.0   0.000000\n",
       "EX_4abz(e)              EX_4abz(e)        4abz[e]    -1.0   0.000000\n",
       "EX_5oxpro(e)          EX_5oxpro(e)      5oxpro[e]    -1.0   0.000000\n",
       "EX_Lcyst(e)            EX_Lcyst(e)       Lcyst[e]    -1.0   0.000000\n",
       "EX_Lcystin(e)        EX_Lcystin(e)     Lcystin[e]    -1.0   0.011358\n",
       "EX_ac(e)                  EX_ac(e)          ac[e]    -1.0  -9.628759\n",
       "EX_acasp(e)            EX_acasp(e)       acasp[e]    -1.0   0.000000\n",
       "EX_acgal(e)            EX_acgal(e)       acgal[e]    -1.0   0.000000\n",
       "EX_acgalglcur(e)  EX_acgalglcur(e)  acgalglcur[e]    -1.0   0.000000\n",
       "EX_acgam(e)            EX_acgam(e)       acgam[e]    -1.0   0.000000\n",
       "EX_acglu(e)            EX_acglu(e)       acglu[e]    -1.0   0.000000\n",
       "EX_acnam(e)            EX_acnam(e)       acnam[e]    -1.0   0.000000\n",
       "EX_ade(e)                EX_ade(e)         ade[e]    -1.0   0.048254\n",
       "EX_adocbl(e)          EX_adocbl(e)      adocbl[e]    -1.0   0.001000\n",
       "EX_ala_D(e)            EX_ala_D(e)       ala-D[e]    -1.0   0.000000\n",
       "EX_ala_L(e)            EX_ala_L(e)       ala-L[e]    -1.0   0.056282\n",
       "EX_alaala(e)          EX_alaala(e)      alaala[e]    -1.0   0.020960\n",
       "EX_alaasp(e)          EX_alaasp(e)      alaasp[e]    -1.0   0.000000\n",
       "EX_alagln(e)          EX_alagln(e)      alagln[e]    -1.0   0.058026\n",
       "EX_alaglu(e)          EX_alaglu(e)      alaglu[e]    -1.0   0.000000\n",
       "EX_alagly(e)          EX_alagly(e)      alagly[e]    -1.0   0.000000\n",
       "EX_alahis(e)          EX_alahis(e)      alahis[e]    -1.0   0.019994\n",
       "EX_alaleu(e)          EX_alaleu(e)      alaleu[e]    -1.0   0.000000\n",
       "EX_alathr(e)          EX_alathr(e)      alathr[e]    -1.0   0.000000\n",
       "EX_arab_L(e)          EX_arab_L(e)      arab-L[e]    -1.0   0.000000\n",
       "EX_arg_L(e)            EX_arg_L(e)       arg-L[e]    -1.0   0.134224\n",
       "EX_asn_L(e)            EX_asn_L(e)       asn-L[e]    -1.0   0.053192\n",
       "EX_aso3(e)              EX_aso3(e)        aso3[e]    -1.0   0.000000\n",
       "EX_aso4(e)              EX_aso4(e)        aso4[e]    -1.0   0.000000\n",
       "EX_asp_L(e)            EX_asp_L(e)       asp-L[e]    -1.0   0.084000\n",
       "EX_btn(e)                EX_btn(e)         btn[e]    -1.0   0.001274\n",
       "EX_but(e)                EX_but(e)         but[e]    -1.0  -1.128422\n",
       "EX_butso3(e)          EX_butso3(e)      butso3[e]    -1.0   0.000000\n",
       "EX_ca2(e)                EX_ca2(e)         ca2[e]    -1.0   0.001274\n",
       "EX_cbl1(e)              EX_cbl1(e)        cbl1[e]    -1.0   0.000274\n",
       "EX_cbl2(e)              EX_cbl2(e)        cbl2[e]    -1.0   0.000000\n",
       "EX_cd2(e)                EX_cd2(e)         cd2[e]    -1.0   0.000000\n",
       "EX_cellb(e)            EX_cellb(e)       cellb[e]    -1.0   0.001000\n",
       "EX_cgly(e)              EX_cgly(e)        cgly[e]    -1.0   0.000000\n",
       "EX_cit(e)                EX_cit(e)         cit[e]    -1.0   0.000549\n",
       "EX_cl(e)                  EX_cl(e)          cl[e]    -1.0   0.001274\n",
       "EX_co2(e)                EX_co2(e)         co2[e]    -1.0 -14.528741\n",
       "EX_cobalt2(e)        EX_cobalt2(e)     cobalt2[e]    -1.0   0.001274\n",
       "EX_cps_fp(e)          EX_cps_fp(e)      cps_fp[e]    -1.0   0.001274\n",
       "EX_cu2(e)                EX_cu2(e)         cu2[e]    -1.0   0.001274\n",
       "EX_cys_L(e)            EX_cys_L(e)       cys-L[e]    -1.0   0.000000\n",
       "EX_dhor_S(e)          EX_dhor_S(e)      dhor-S[e]    -1.0   0.000000\n",
       "EX_ethso3(e)          EX_ethso3(e)      ethso3[e]    -1.0   0.000000\n",
       "EX_fe2(e)                EX_fe2(e)         fe2[e]    -1.0   0.001000\n",
       "EX_fe3(e)                EX_fe3(e)         fe3[e]    -1.0   0.000549\n",
       "EX_fe3dcit(e)        EX_fe3dcit(e)     fe3dcit[e]    -1.0   0.001000\n",
       "EX_fol(e)                EX_fol(e)         fol[e]    -1.0   0.003823\n",
       "EX_for(e)                EX_for(e)         for[e]    -1.0   0.000000\n",
       "EX_fru(e)                EX_fru(e)         fru[e]    -1.0   0.001000\n",
       "EX_fum(e)                EX_fum(e)         fum[e]    -1.0   0.001000\n",
       "EX_gal(e)                EX_gal(e)         gal[e]    -1.0   0.000000\n",
       "EX_galur(e)            EX_galur(e)       galur[e]    -1.0   0.001000\n",
       "EX_gam(e)                EX_gam(e)         gam[e]    -1.0   0.357270\n",
       "EX_glc(e)                EX_glc(e)       glc-D[e]    -1.0   0.493655\n",
       "EX_glcur(e)            EX_glcur(e)       glcur[e]    -1.0   0.458107\n",
       "EX_gln_L(e)            EX_gln_L(e)       gln-L[e]    -1.0   0.000000\n",
       "EX_glu_L(e)            EX_glu_L(e)       glu-L[e]    -1.0   0.076438\n",
       "EX_gly(e)                EX_gly(e)         gly[e]    -1.0   0.099919\n",
       "EX_glyasn(e)          EX_glyasn(e)      glyasn[e]    -1.0   0.000000\n",
       "EX_glyasp(e)          EX_glyasp(e)      glyasp[e]    -1.0   0.000000\n",
       "EX_glyc3p(e)          EX_glyc3p(e)      glyc3p[e]    -1.0   0.169057\n",
       "EX_glyc_R(e)          EX_glyc_R(e)      glyc-R[e]    -1.0  -0.050000\n",
       "EX_glygln(e)          EX_glygln(e)      glygln[e]    -1.0   0.000000\n",
       "EX_glyglu(e)          EX_glyglu(e)      glyglu[e]    -1.0   0.000000\n",
       "EX_glygly(e)          EX_glygly(e)      glygly[e]    -1.0   0.000000\n",
       "EX_glyleu(e)          EX_glyleu(e)      glyleu[e]    -1.0   0.000000\n",
       "EX_glymet(e)          EX_glymet(e)      glymet[e]    -1.0   0.035123\n",
       "EX_glyphe(e)          EX_glyphe(e)      glyphe[e]    -1.0   0.000000\n",
       "EX_glypro(e)          EX_glypro(e)      glypro[e]    -1.0   0.000000\n",
       "EX_glytyr(e)          EX_glytyr(e)      glytyr[e]    -1.0   0.000000\n",
       "EX_gthox(e)            EX_gthox(e)       gthox[e]    -1.0   0.000000\n",
       "EX_gthrd(e)            EX_gthrd(e)       gthrd[e]    -1.0   0.000000\n",
       "EX_gua(e)                EX_gua(e)         gua[e]    -1.0   0.052721\n",
       "EX_h(e)                    EX_h(e)           h[e]    -1.0  -7.437855\n",
       "EX_h2o(e)                EX_h2o(e)         h2o[e]    -1.0   3.553265\n",
       "EX_h2s(e)                EX_h2s(e)         h2s[e]    -1.0   0.000000\n",
       "EX_hg2(e)                EX_hg2(e)         hg2[e]    -1.0   0.000000\n",
       "EX_his_L(e)            EX_his_L(e)       his-L[e]    -1.0   0.001000\n",
       "EX_hxan(e)              EX_hxan(e)        hxan[e]    -1.0   0.000000\n",
       "EX_ile_L(e)            EX_ile_L(e)       ile-L[e]    -1.0   0.000000\n",
       "EX_ins(e)                EX_ins(e)         ins[e]    -1.0   0.001000\n",
       "EX_inulin(e)          EX_inulin(e)      inulin[e]    -1.0   0.001000\n",
       "EX_isetac(e)          EX_isetac(e)      isetac[e]    -1.0   0.000000\n",
       "EX_k(e)                    EX_k(e)           k[e]    -1.0   0.001274\n",
       "EX_kesto(e)            EX_kesto(e)       kesto[e]    -1.0   0.000000\n",
       "EX_kestopt(e)        EX_kestopt(e)     kestopt[e]    -1.0   0.000000\n",
       "EX_kestottr(e)      EX_kestottr(e)    kestottr[e]    -1.0   0.000000\n",
       "EX_lac_D(e)            EX_lac_D(e)       lac-D[e]    -1.0  -7.616961\n",
       "EX_lcts(e)              EX_lcts(e)        lcts[e]    -1.0   0.000000\n",
       "EX_leu_L(e)            EX_leu_L(e)       leu-L[e]    -1.0   0.000000\n",
       "EX_leugly(e)          EX_leugly(e)      leugly[e]    -1.0   0.000000\n",
       "EX_leuleu(e)          EX_leuleu(e)      leuleu[e]    -1.0   0.049713\n",
       "EX_lys_L(e)            EX_lys_L(e)       lys-L[e]    -1.0   0.075601\n",
       "EX_mal_L(e)            EX_mal_L(e)       mal-L[e]    -1.0   0.001000\n",
       "EX_malt(e)              EX_malt(e)        malt[e]    -1.0   0.000000\n",
       "EX_man(e)                EX_man(e)         man[e]    -1.0   0.000000\n",
       "EX_meoh(e)              EX_meoh(e)        meoh[e]    -1.0  -5.155393\n",
       "EX_met_D(e)            EX_met_D(e)       met-D[e]    -1.0   0.000000\n",
       "EX_met_L(e)            EX_met_L(e)       met-L[e]    -1.0   0.000000\n",
       "EX_metala(e)          EX_metala(e)      metala[e]    -1.0   0.000000\n",
       "EX_metsox_R_L(e)  EX_metsox_R_L(e)  metsox-R-L[e]    -1.0   0.000000\n",
       "EX_metsox_S_L(e)  EX_metsox_S_L(e)  metsox-S-L[e]    -1.0   0.000000\n",
       "EX_mg2(e)                EX_mg2(e)         mg2[e]    -1.0   0.001274\n",
       "EX_mobd(e)              EX_mobd(e)        mobd[e]    -1.0   0.000000\n",
       "EX_mso3(e)              EX_mso3(e)        mso3[e]    -1.0   0.000000\n",
       "EX_na1(e)                EX_na1(e)         na1[e]    -1.0   0.632261\n",
       "EX_nac(e)                EX_nac(e)         nac[e]    -1.0   0.002549\n",
       "EX_ncam(e)              EX_ncam(e)        ncam[e]    -1.0   0.000000\n",
       "EX_nh4(e)                EX_nh4(e)         nh4[e]    -1.0   0.000000\n",
       "EX_o2(e)                  EX_o2(e)          o2[e]    -1.0   0.001000\n",
       "EX_orn(e)                EX_orn(e)         orn[e]    -1.0   0.000000\n",
       "EX_orot(e)              EX_orot(e)        orot[e]    -1.0   0.001000\n",
       "EX_pb(e)                  EX_pb(e)          pb[e]    -1.0   0.000000\n",
       "EX_pect(e)              EX_pect(e)        pect[e]    -1.0   0.026438\n",
       "EX_phe_L(e)            EX_phe_L(e)       phe-L[e]    -1.0  -0.098628\n",
       "EX_pi(e)                  EX_pi(e)          pi[e]    -1.0   0.241629\n",
       "EX_plac(e)              EX_plac(e)        plac[e]    -1.0   0.000000\n",
       "EX_pnto_R(e)          EX_pnto_R(e)      pnto-R[e]    -1.0   0.002549\n",
       "EX_pro_L(e)            EX_pro_L(e)       pro-L[e]    -1.0   0.048829\n",
       "EX_progly(e)          EX_progly(e)      progly[e]    -1.0   0.000000\n",
       "EX_ptrc(e)              EX_ptrc(e)        ptrc[e]    -1.0  -0.068886\n",
       "EX_pydam(e)            EX_pydam(e)       pydam[e]    -1.0   0.000000\n",
       "EX_pydx(e)              EX_pydx(e)        pydx[e]    -1.0   0.001274\n",
       "EX_pydxn(e)            EX_pydxn(e)       pydxn[e]    -1.0   0.000000\n",
       "EX_rbflvrd(e)        EX_rbflvrd(e)     rbflvrd[e]    -1.0  -0.001935\n",
       "EX_ribflv(e)          EX_ribflv(e)      ribflv[e]    -1.0   0.004484\n",
       "EX_seln(e)              EX_seln(e)        seln[e]    -1.0   0.000000\n",
       "EX_ser_L(e)            EX_ser_L(e)       ser-L[e]    -1.0   0.047530\n",
       "EX_so4(e)                EX_so4(e)         so4[e]    -1.0   0.001274\n",
       "EX_spmd(e)              EX_spmd(e)        spmd[e]    -1.0   0.000000\n",
       "EX_strch1(e)          EX_strch1(e)      strch1[e]    -1.0   0.000000\n",
       "EX_succ(e)              EX_succ(e)        succ[e]    -1.0   0.001000\n",
       "EX_sulfac(e)          EX_sulfac(e)      sulfac[e]    -1.0   0.000000\n",
       "EX_taur(e)              EX_taur(e)        taur[e]    -1.0   0.000000\n",
       "EX_thm(e)                EX_thm(e)         thm[e]    -1.0   0.001274\n",
       "EX_thr_L(e)            EX_thr_L(e)       thr-L[e]    -1.0   0.119947\n",
       "EX_thymd(e)            EX_thymd(e)       thymd[e]    -1.0   0.001000\n",
       "EX_trp_L(e)            EX_trp_L(e)       trp-L[e]    -1.0   0.012502\n",
       "EX_tyr_L(e)            EX_tyr_L(e)       tyr-L[e]    -1.0   0.000000\n",
       "EX_ura(e)                EX_ura(e)         ura[e]    -1.0   0.001000\n",
       "EX_urate(e)            EX_urate(e)       urate[e]    -1.0   0.000000\n",
       "EX_urea(e)              EX_urea(e)        urea[e]    -1.0   0.000000\n",
       "EX_val_L(e)            EX_val_L(e)       val-L[e]    -1.0   0.000000\n",
       "EX_xan(e)                EX_xan(e)         xan[e]    -1.0   0.000000\n",
       "EX_xyl_D(e)            EX_xyl_D(e)       xyl-D[e]    -1.0   0.000000\n",
       "sink_hpyr                sink_hpyr        hpyr[c]    -1.0   0.050000"
      ],
      "text/html": "<div>\n<style scoped>\n    .dataframe tbody tr th:only-of-type {\n        vertical-align: middle;\n    }\n\n    .dataframe tbody tr th {\n        vertical-align: top;\n    }\n\n    .dataframe thead th {\n        text-align: right;\n    }\n</style>\n<table border=\"1\" class=\"dataframe\">\n  <thead>\n    <tr style=\"text-align: right;\">\n      <th></th>\n      <th>reaction</th>\n      <th>metabolite</th>\n      <th>factor</th>\n      <th>flux</th>\n    </tr>\n  </thead>\n  <tbody>\n    <tr>\n      <th>DM_4HBA</th>\n      <td>DM_4HBA</td>\n      <td>4hba[c]</td>\n      <td>-1.0</td>\n      <td>0.000000</td>\n    </tr>\n    <tr>\n      <th>DM_AACALD</th>\n      <td>DM_AACALD</td>\n      <td>aacald[c]</td>\n      <td>-1.0</td>\n      <td>0.000000</td>\n    </tr>\n    <tr>\n      <th>DM_HMFURN</th>\n      <td>DM_HMFURN</td>\n      <td>hmfurn[c]</td>\n      <td>-1.0</td>\n      <td>0.000000</td>\n    </tr>\n    <tr>\n      <th>DM_HQN</th>\n      <td>DM_HQN</td>\n      <td>hqn[c]</td>\n      <td>-1.0</td>\n      <td>0.000000</td>\n    </tr>\n    <tr>\n      <th>DM_NA1</th>\n      <td>DM_NA1</td>\n      <td>na1[c]</td>\n      <td>-1.0</td>\n      <td>-0.632261</td>\n    </tr>\n    <tr>\n      <th>DM_SELNP</th>\n      <td>DM_SELNP</td>\n      <td>selnp[c]</td>\n      <td>-1.0</td>\n      <td>0.000000</td>\n    </tr>\n    <tr>\n      <th>EX_3mop(e)</th>\n      <td>EX_3mop(e)</td>\n      <td>3mop[e]</td>\n      <td>-1.0</td>\n      <td>0.000000</td>\n    </tr>\n    <tr>\n      <th>EX_4abz(e)</th>\n      <td>EX_4abz(e)</td>\n      <td>4abz[e]</td>\n      <td>-1.0</td>\n      <td>0.000000</td>\n    </tr>\n    <tr>\n      <th>EX_5oxpro(e)</th>\n      <td>EX_5oxpro(e)</td>\n      <td>5oxpro[e]</td>\n      <td>-1.0</td>\n      <td>0.000000</td>\n    </tr>\n    <tr>\n      <th>EX_Lcyst(e)</th>\n      <td>EX_Lcyst(e)</td>\n      <td>Lcyst[e]</td>\n      <td>-1.0</td>\n      <td>0.000000</td>\n    </tr>\n    <tr>\n      <th>EX_Lcystin(e)</th>\n      <td>EX_Lcystin(e)</td>\n      <td>Lcystin[e]</td>\n      <td>-1.0</td>\n      <td>0.011358</td>\n    </tr>\n    <tr>\n      <th>EX_ac(e)</th>\n      <td>EX_ac(e)</td>\n      <td>ac[e]</td>\n      <td>-1.0</td>\n      <td>-9.628759</td>\n    </tr>\n    <tr>\n      <th>EX_acasp(e)</th>\n      <td>EX_acasp(e)</td>\n      <td>acasp[e]</td>\n      <td>-1.0</td>\n      <td>0.000000</td>\n    </tr>\n    <tr>\n      <th>EX_acgal(e)</th>\n      <td>EX_acgal(e)</td>\n      <td>acgal[e]</td>\n      <td>-1.0</td>\n      <td>0.000000</td>\n    </tr>\n    <tr>\n      <th>EX_acgalglcur(e)</th>\n      <td>EX_acgalglcur(e)</td>\n      <td>acgalglcur[e]</td>\n      <td>-1.0</td>\n      <td>0.000000</td>\n    </tr>\n    <tr>\n      <th>EX_acgam(e)</th>\n      <td>EX_acgam(e)</td>\n      <td>acgam[e]</td>\n      <td>-1.0</td>\n      <td>0.000000</td>\n    </tr>\n    <tr>\n      <th>EX_acglu(e)</th>\n      <td>EX_acglu(e)</td>\n      <td>acglu[e]</td>\n      <td>-1.0</td>\n      <td>0.000000</td>\n    </tr>\n    <tr>\n      <th>EX_acnam(e)</th>\n      <td>EX_acnam(e)</td>\n      <td>acnam[e]</td>\n      <td>-1.0</td>\n      <td>0.000000</td>\n    </tr>\n    <tr>\n      <th>EX_ade(e)</th>\n      <td>EX_ade(e)</td>\n      <td>ade[e]</td>\n      <td>-1.0</td>\n      <td>0.048254</td>\n    </tr>\n    <tr>\n      <th>EX_adocbl(e)</th>\n      <td>EX_adocbl(e)</td>\n      <td>adocbl[e]</td>\n      <td>-1.0</td>\n      <td>0.001000</td>\n    </tr>\n    <tr>\n      <th>EX_ala_D(e)</th>\n      <td>EX_ala_D(e)</td>\n      <td>ala-D[e]</td>\n      <td>-1.0</td>\n      <td>0.000000</td>\n    </tr>\n    <tr>\n      <th>EX_ala_L(e)</th>\n      <td>EX_ala_L(e)</td>\n      <td>ala-L[e]</td>\n      <td>-1.0</td>\n      <td>0.056282</td>\n    </tr>\n    <tr>\n      <th>EX_alaala(e)</th>\n      <td>EX_alaala(e)</td>\n      <td>alaala[e]</td>\n      <td>-1.0</td>\n      <td>0.020960</td>\n    </tr>\n    <tr>\n      <th>EX_alaasp(e)</th>\n      <td>EX_alaasp(e)</td>\n      <td>alaasp[e]</td>\n      <td>-1.0</td>\n      <td>0.000000</td>\n    </tr>\n    <tr>\n      <th>EX_alagln(e)</th>\n      <td>EX_alagln(e)</td>\n      <td>alagln[e]</td>\n      <td>-1.0</td>\n      <td>0.058026</td>\n    </tr>\n    <tr>\n      <th>EX_alaglu(e)</th>\n      <td>EX_alaglu(e)</td>\n      <td>alaglu[e]</td>\n      <td>-1.0</td>\n      <td>0.000000</td>\n    </tr>\n    <tr>\n      <th>EX_alagly(e)</th>\n      <td>EX_alagly(e)</td>\n      <td>alagly[e]</td>\n      <td>-1.0</td>\n      <td>0.000000</td>\n    </tr>\n    <tr>\n      <th>EX_alahis(e)</th>\n      <td>EX_alahis(e)</td>\n      <td>alahis[e]</td>\n      <td>-1.0</td>\n      <td>0.019994</td>\n    </tr>\n    <tr>\n      <th>EX_alaleu(e)</th>\n      <td>EX_alaleu(e)</td>\n      <td>alaleu[e]</td>\n      <td>-1.0</td>\n      <td>0.000000</td>\n    </tr>\n    <tr>\n      <th>EX_alathr(e)</th>\n      <td>EX_alathr(e)</td>\n      <td>alathr[e]</td>\n      <td>-1.0</td>\n      <td>0.000000</td>\n    </tr>\n    <tr>\n      <th>EX_arab_L(e)</th>\n      <td>EX_arab_L(e)</td>\n      <td>arab-L[e]</td>\n      <td>-1.0</td>\n      <td>0.000000</td>\n    </tr>\n    <tr>\n      <th>EX_arg_L(e)</th>\n      <td>EX_arg_L(e)</td>\n      <td>arg-L[e]</td>\n      <td>-1.0</td>\n      <td>0.134224</td>\n    </tr>\n    <tr>\n      <th>EX_asn_L(e)</th>\n      <td>EX_asn_L(e)</td>\n      <td>asn-L[e]</td>\n      <td>-1.0</td>\n      <td>0.053192</td>\n    </tr>\n    <tr>\n      <th>EX_aso3(e)</th>\n      <td>EX_aso3(e)</td>\n      <td>aso3[e]</td>\n      <td>-1.0</td>\n      <td>0.000000</td>\n    </tr>\n    <tr>\n      <th>EX_aso4(e)</th>\n      <td>EX_aso4(e)</td>\n      <td>aso4[e]</td>\n      <td>-1.0</td>\n      <td>0.000000</td>\n    </tr>\n    <tr>\n      <th>EX_asp_L(e)</th>\n      <td>EX_asp_L(e)</td>\n      <td>asp-L[e]</td>\n      <td>-1.0</td>\n      <td>0.084000</td>\n    </tr>\n    <tr>\n      <th>EX_btn(e)</th>\n      <td>EX_btn(e)</td>\n      <td>btn[e]</td>\n      <td>-1.0</td>\n      <td>0.001274</td>\n    </tr>\n    <tr>\n      <th>EX_but(e)</th>\n      <td>EX_but(e)</td>\n      <td>but[e]</td>\n      <td>-1.0</td>\n      <td>-1.128422</td>\n    </tr>\n    <tr>\n      <th>EX_butso3(e)</th>\n      <td>EX_butso3(e)</td>\n      <td>butso3[e]</td>\n      <td>-1.0</td>\n      <td>0.000000</td>\n    </tr>\n    <tr>\n      <th>EX_ca2(e)</th>\n      <td>EX_ca2(e)</td>\n      <td>ca2[e]</td>\n      <td>-1.0</td>\n      <td>0.001274</td>\n    </tr>\n    <tr>\n      <th>EX_cbl1(e)</th>\n      <td>EX_cbl1(e)</td>\n      <td>cbl1[e]</td>\n      <td>-1.0</td>\n      <td>0.000274</td>\n    </tr>\n    <tr>\n      <th>EX_cbl2(e)</th>\n      <td>EX_cbl2(e)</td>\n      <td>cbl2[e]</td>\n      <td>-1.0</td>\n      <td>0.000000</td>\n    </tr>\n    <tr>\n      <th>EX_cd2(e)</th>\n      <td>EX_cd2(e)</td>\n      <td>cd2[e]</td>\n      <td>-1.0</td>\n      <td>0.000000</td>\n    </tr>\n    <tr>\n      <th>EX_cellb(e)</th>\n      <td>EX_cellb(e)</td>\n      <td>cellb[e]</td>\n      <td>-1.0</td>\n      <td>0.001000</td>\n    </tr>\n    <tr>\n      <th>EX_cgly(e)</th>\n      <td>EX_cgly(e)</td>\n      <td>cgly[e]</td>\n      <td>-1.0</td>\n      <td>0.000000</td>\n    </tr>\n    <tr>\n      <th>EX_cit(e)</th>\n      <td>EX_cit(e)</td>\n      <td>cit[e]</td>\n      <td>-1.0</td>\n      <td>0.000549</td>\n    </tr>\n    <tr>\n      <th>EX_cl(e)</th>\n      <td>EX_cl(e)</td>\n      <td>cl[e]</td>\n      <td>-1.0</td>\n      <td>0.001274</td>\n    </tr>\n    <tr>\n      <th>EX_co2(e)</th>\n      <td>EX_co2(e)</td>\n      <td>co2[e]</td>\n      <td>-1.0</td>\n      <td>-14.528741</td>\n    </tr>\n    <tr>\n      <th>EX_cobalt2(e)</th>\n      <td>EX_cobalt2(e)</td>\n      <td>cobalt2[e]</td>\n      <td>-1.0</td>\n      <td>0.001274</td>\n    </tr>\n    <tr>\n      <th>EX_cps_fp(e)</th>\n      <td>EX_cps_fp(e)</td>\n      <td>cps_fp[e]</td>\n      <td>-1.0</td>\n      <td>0.001274</td>\n    </tr>\n    <tr>\n      <th>EX_cu2(e)</th>\n      <td>EX_cu2(e)</td>\n      <td>cu2[e]</td>\n      <td>-1.0</td>\n      <td>0.001274</td>\n    </tr>\n    <tr>\n      <th>EX_cys_L(e)</th>\n      <td>EX_cys_L(e)</td>\n      <td>cys-L[e]</td>\n      <td>-1.0</td>\n      <td>0.000000</td>\n    </tr>\n    <tr>\n      <th>EX_dhor_S(e)</th>\n      <td>EX_dhor_S(e)</td>\n      <td>dhor-S[e]</td>\n      <td>-1.0</td>\n      <td>0.000000</td>\n    </tr>\n    <tr>\n      <th>EX_ethso3(e)</th>\n      <td>EX_ethso3(e)</td>\n      <td>ethso3[e]</td>\n      <td>-1.0</td>\n      <td>0.000000</td>\n    </tr>\n    <tr>\n      <th>EX_fe2(e)</th>\n      <td>EX_fe2(e)</td>\n      <td>fe2[e]</td>\n      <td>-1.0</td>\n      <td>0.001000</td>\n    </tr>\n    <tr>\n      <th>EX_fe3(e)</th>\n      <td>EX_fe3(e)</td>\n      <td>fe3[e]</td>\n      <td>-1.0</td>\n      <td>0.000549</td>\n    </tr>\n    <tr>\n      <th>EX_fe3dcit(e)</th>\n      <td>EX_fe3dcit(e)</td>\n      <td>fe3dcit[e]</td>\n      <td>-1.0</td>\n      <td>0.001000</td>\n    </tr>\n    <tr>\n      <th>EX_fol(e)</th>\n      <td>EX_fol(e)</td>\n      <td>fol[e]</td>\n      <td>-1.0</td>\n      <td>0.003823</td>\n    </tr>\n    <tr>\n      <th>EX_for(e)</th>\n      <td>EX_for(e)</td>\n      <td>for[e]</td>\n      <td>-1.0</td>\n      <td>0.000000</td>\n    </tr>\n    <tr>\n      <th>EX_fru(e)</th>\n      <td>EX_fru(e)</td>\n      <td>fru[e]</td>\n      <td>-1.0</td>\n      <td>0.001000</td>\n    </tr>\n    <tr>\n      <th>EX_fum(e)</th>\n      <td>EX_fum(e)</td>\n      <td>fum[e]</td>\n      <td>-1.0</td>\n      <td>0.001000</td>\n    </tr>\n    <tr>\n      <th>EX_gal(e)</th>\n      <td>EX_gal(e)</td>\n      <td>gal[e]</td>\n      <td>-1.0</td>\n      <td>0.000000</td>\n    </tr>\n    <tr>\n      <th>EX_galur(e)</th>\n      <td>EX_galur(e)</td>\n      <td>galur[e]</td>\n      <td>-1.0</td>\n      <td>0.001000</td>\n    </tr>\n    <tr>\n      <th>EX_gam(e)</th>\n      <td>EX_gam(e)</td>\n      <td>gam[e]</td>\n      <td>-1.0</td>\n      <td>0.357270</td>\n    </tr>\n    <tr>\n      <th>EX_glc(e)</th>\n      <td>EX_glc(e)</td>\n      <td>glc-D[e]</td>\n      <td>-1.0</td>\n      <td>0.493655</td>\n    </tr>\n    <tr>\n      <th>EX_glcur(e)</th>\n      <td>EX_glcur(e)</td>\n      <td>glcur[e]</td>\n      <td>-1.0</td>\n      <td>0.458107</td>\n    </tr>\n    <tr>\n      <th>EX_gln_L(e)</th>\n      <td>EX_gln_L(e)</td>\n      <td>gln-L[e]</td>\n      <td>-1.0</td>\n      <td>0.000000</td>\n    </tr>\n    <tr>\n      <th>EX_glu_L(e)</th>\n      <td>EX_glu_L(e)</td>\n      <td>glu-L[e]</td>\n      <td>-1.0</td>\n      <td>0.076438</td>\n    </tr>\n    <tr>\n      <th>EX_gly(e)</th>\n      <td>EX_gly(e)</td>\n      <td>gly[e]</td>\n      <td>-1.0</td>\n      <td>0.099919</td>\n    </tr>\n    <tr>\n      <th>EX_glyasn(e)</th>\n      <td>EX_glyasn(e)</td>\n      <td>glyasn[e]</td>\n      <td>-1.0</td>\n      <td>0.000000</td>\n    </tr>\n    <tr>\n      <th>EX_glyasp(e)</th>\n      <td>EX_glyasp(e)</td>\n      <td>glyasp[e]</td>\n      <td>-1.0</td>\n      <td>0.000000</td>\n    </tr>\n    <tr>\n      <th>EX_glyc3p(e)</th>\n      <td>EX_glyc3p(e)</td>\n      <td>glyc3p[e]</td>\n      <td>-1.0</td>\n      <td>0.169057</td>\n    </tr>\n    <tr>\n      <th>EX_glyc_R(e)</th>\n      <td>EX_glyc_R(e)</td>\n      <td>glyc-R[e]</td>\n      <td>-1.0</td>\n      <td>-0.050000</td>\n    </tr>\n    <tr>\n      <th>EX_glygln(e)</th>\n      <td>EX_glygln(e)</td>\n      <td>glygln[e]</td>\n      <td>-1.0</td>\n      <td>0.000000</td>\n    </tr>\n    <tr>\n      <th>EX_glyglu(e)</th>\n      <td>EX_glyglu(e)</td>\n      <td>glyglu[e]</td>\n      <td>-1.0</td>\n      <td>0.000000</td>\n    </tr>\n    <tr>\n      <th>EX_glygly(e)</th>\n      <td>EX_glygly(e)</td>\n      <td>glygly[e]</td>\n      <td>-1.0</td>\n      <td>0.000000</td>\n    </tr>\n    <tr>\n      <th>EX_glyleu(e)</th>\n      <td>EX_glyleu(e)</td>\n      <td>glyleu[e]</td>\n      <td>-1.0</td>\n      <td>0.000000</td>\n    </tr>\n    <tr>\n      <th>EX_glymet(e)</th>\n      <td>EX_glymet(e)</td>\n      <td>glymet[e]</td>\n      <td>-1.0</td>\n      <td>0.035123</td>\n    </tr>\n    <tr>\n      <th>EX_glyphe(e)</th>\n      <td>EX_glyphe(e)</td>\n      <td>glyphe[e]</td>\n      <td>-1.0</td>\n      <td>0.000000</td>\n    </tr>\n    <tr>\n      <th>EX_glypro(e)</th>\n      <td>EX_glypro(e)</td>\n      <td>glypro[e]</td>\n      <td>-1.0</td>\n      <td>0.000000</td>\n    </tr>\n    <tr>\n      <th>EX_glytyr(e)</th>\n      <td>EX_glytyr(e)</td>\n      <td>glytyr[e]</td>\n      <td>-1.0</td>\n      <td>0.000000</td>\n    </tr>\n    <tr>\n      <th>EX_gthox(e)</th>\n      <td>EX_gthox(e)</td>\n      <td>gthox[e]</td>\n      <td>-1.0</td>\n      <td>0.000000</td>\n    </tr>\n    <tr>\n      <th>EX_gthrd(e)</th>\n      <td>EX_gthrd(e)</td>\n      <td>gthrd[e]</td>\n      <td>-1.0</td>\n      <td>0.000000</td>\n    </tr>\n    <tr>\n      <th>EX_gua(e)</th>\n      <td>EX_gua(e)</td>\n      <td>gua[e]</td>\n      <td>-1.0</td>\n      <td>0.052721</td>\n    </tr>\n    <tr>\n      <th>EX_h(e)</th>\n      <td>EX_h(e)</td>\n      <td>h[e]</td>\n      <td>-1.0</td>\n      <td>-7.437855</td>\n    </tr>\n    <tr>\n      <th>EX_h2o(e)</th>\n      <td>EX_h2o(e)</td>\n      <td>h2o[e]</td>\n      <td>-1.0</td>\n      <td>3.553265</td>\n    </tr>\n    <tr>\n      <th>EX_h2s(e)</th>\n      <td>EX_h2s(e)</td>\n      <td>h2s[e]</td>\n      <td>-1.0</td>\n      <td>0.000000</td>\n    </tr>\n    <tr>\n      <th>EX_hg2(e)</th>\n      <td>EX_hg2(e)</td>\n      <td>hg2[e]</td>\n      <td>-1.0</td>\n      <td>0.000000</td>\n    </tr>\n    <tr>\n      <th>EX_his_L(e)</th>\n      <td>EX_his_L(e)</td>\n      <td>his-L[e]</td>\n      <td>-1.0</td>\n      <td>0.001000</td>\n    </tr>\n    <tr>\n      <th>EX_hxan(e)</th>\n      <td>EX_hxan(e)</td>\n      <td>hxan[e]</td>\n      <td>-1.0</td>\n      <td>0.000000</td>\n    </tr>\n    <tr>\n      <th>EX_ile_L(e)</th>\n      <td>EX_ile_L(e)</td>\n      <td>ile-L[e]</td>\n      <td>-1.0</td>\n      <td>0.000000</td>\n    </tr>\n    <tr>\n      <th>EX_ins(e)</th>\n      <td>EX_ins(e)</td>\n      <td>ins[e]</td>\n      <td>-1.0</td>\n      <td>0.001000</td>\n    </tr>\n    <tr>\n      <th>EX_inulin(e)</th>\n      <td>EX_inulin(e)</td>\n      <td>inulin[e]</td>\n      <td>-1.0</td>\n      <td>0.001000</td>\n    </tr>\n    <tr>\n      <th>EX_isetac(e)</th>\n      <td>EX_isetac(e)</td>\n      <td>isetac[e]</td>\n      <td>-1.0</td>\n      <td>0.000000</td>\n    </tr>\n    <tr>\n      <th>EX_k(e)</th>\n      <td>EX_k(e)</td>\n      <td>k[e]</td>\n      <td>-1.0</td>\n      <td>0.001274</td>\n    </tr>\n    <tr>\n      <th>EX_kesto(e)</th>\n      <td>EX_kesto(e)</td>\n      <td>kesto[e]</td>\n      <td>-1.0</td>\n      <td>0.000000</td>\n    </tr>\n    <tr>\n      <th>EX_kestopt(e)</th>\n      <td>EX_kestopt(e)</td>\n      <td>kestopt[e]</td>\n      <td>-1.0</td>\n      <td>0.000000</td>\n    </tr>\n    <tr>\n      <th>EX_kestottr(e)</th>\n      <td>EX_kestottr(e)</td>\n      <td>kestottr[e]</td>\n      <td>-1.0</td>\n      <td>0.000000</td>\n    </tr>\n    <tr>\n      <th>EX_lac_D(e)</th>\n      <td>EX_lac_D(e)</td>\n      <td>lac-D[e]</td>\n      <td>-1.0</td>\n      <td>-7.616961</td>\n    </tr>\n    <tr>\n      <th>EX_lcts(e)</th>\n      <td>EX_lcts(e)</td>\n      <td>lcts[e]</td>\n      <td>-1.0</td>\n      <td>0.000000</td>\n    </tr>\n    <tr>\n      <th>EX_leu_L(e)</th>\n      <td>EX_leu_L(e)</td>\n      <td>leu-L[e]</td>\n      <td>-1.0</td>\n      <td>0.000000</td>\n    </tr>\n    <tr>\n      <th>EX_leugly(e)</th>\n      <td>EX_leugly(e)</td>\n      <td>leugly[e]</td>\n      <td>-1.0</td>\n      <td>0.000000</td>\n    </tr>\n    <tr>\n      <th>EX_leuleu(e)</th>\n      <td>EX_leuleu(e)</td>\n      <td>leuleu[e]</td>\n      <td>-1.0</td>\n      <td>0.049713</td>\n    </tr>\n    <tr>\n      <th>EX_lys_L(e)</th>\n      <td>EX_lys_L(e)</td>\n      <td>lys-L[e]</td>\n      <td>-1.0</td>\n      <td>0.075601</td>\n    </tr>\n    <tr>\n      <th>EX_mal_L(e)</th>\n      <td>EX_mal_L(e)</td>\n      <td>mal-L[e]</td>\n      <td>-1.0</td>\n      <td>0.001000</td>\n    </tr>\n    <tr>\n      <th>EX_malt(e)</th>\n      <td>EX_malt(e)</td>\n      <td>malt[e]</td>\n      <td>-1.0</td>\n      <td>0.000000</td>\n    </tr>\n    <tr>\n      <th>EX_man(e)</th>\n      <td>EX_man(e)</td>\n      <td>man[e]</td>\n      <td>-1.0</td>\n      <td>0.000000</td>\n    </tr>\n    <tr>\n      <th>EX_meoh(e)</th>\n      <td>EX_meoh(e)</td>\n      <td>meoh[e]</td>\n      <td>-1.0</td>\n      <td>-5.155393</td>\n    </tr>\n    <tr>\n      <th>EX_met_D(e)</th>\n      <td>EX_met_D(e)</td>\n      <td>met-D[e]</td>\n      <td>-1.0</td>\n      <td>0.000000</td>\n    </tr>\n    <tr>\n      <th>EX_met_L(e)</th>\n      <td>EX_met_L(e)</td>\n      <td>met-L[e]</td>\n      <td>-1.0</td>\n      <td>0.000000</td>\n    </tr>\n    <tr>\n      <th>EX_metala(e)</th>\n      <td>EX_metala(e)</td>\n      <td>metala[e]</td>\n      <td>-1.0</td>\n      <td>0.000000</td>\n    </tr>\n    <tr>\n      <th>EX_metsox_R_L(e)</th>\n      <td>EX_metsox_R_L(e)</td>\n      <td>metsox-R-L[e]</td>\n      <td>-1.0</td>\n      <td>0.000000</td>\n    </tr>\n    <tr>\n      <th>EX_metsox_S_L(e)</th>\n      <td>EX_metsox_S_L(e)</td>\n      <td>metsox-S-L[e]</td>\n      <td>-1.0</td>\n      <td>0.000000</td>\n    </tr>\n    <tr>\n      <th>EX_mg2(e)</th>\n      <td>EX_mg2(e)</td>\n      <td>mg2[e]</td>\n      <td>-1.0</td>\n      <td>0.001274</td>\n    </tr>\n    <tr>\n      <th>EX_mobd(e)</th>\n      <td>EX_mobd(e)</td>\n      <td>mobd[e]</td>\n      <td>-1.0</td>\n      <td>0.000000</td>\n    </tr>\n    <tr>\n      <th>EX_mso3(e)</th>\n      <td>EX_mso3(e)</td>\n      <td>mso3[e]</td>\n      <td>-1.0</td>\n      <td>0.000000</td>\n    </tr>\n    <tr>\n      <th>EX_na1(e)</th>\n      <td>EX_na1(e)</td>\n      <td>na1[e]</td>\n      <td>-1.0</td>\n      <td>0.632261</td>\n    </tr>\n    <tr>\n      <th>EX_nac(e)</th>\n      <td>EX_nac(e)</td>\n      <td>nac[e]</td>\n      <td>-1.0</td>\n      <td>0.002549</td>\n    </tr>\n    <tr>\n      <th>EX_ncam(e)</th>\n      <td>EX_ncam(e)</td>\n      <td>ncam[e]</td>\n      <td>-1.0</td>\n      <td>0.000000</td>\n    </tr>\n    <tr>\n      <th>EX_nh4(e)</th>\n      <td>EX_nh4(e)</td>\n      <td>nh4[e]</td>\n      <td>-1.0</td>\n      <td>0.000000</td>\n    </tr>\n    <tr>\n      <th>EX_o2(e)</th>\n      <td>EX_o2(e)</td>\n      <td>o2[e]</td>\n      <td>-1.0</td>\n      <td>0.001000</td>\n    </tr>\n    <tr>\n      <th>EX_orn(e)</th>\n      <td>EX_orn(e)</td>\n      <td>orn[e]</td>\n      <td>-1.0</td>\n      <td>0.000000</td>\n    </tr>\n    <tr>\n      <th>EX_orot(e)</th>\n      <td>EX_orot(e)</td>\n      <td>orot[e]</td>\n      <td>-1.0</td>\n      <td>0.001000</td>\n    </tr>\n    <tr>\n      <th>EX_pb(e)</th>\n      <td>EX_pb(e)</td>\n      <td>pb[e]</td>\n      <td>-1.0</td>\n      <td>0.000000</td>\n    </tr>\n    <tr>\n      <th>EX_pect(e)</th>\n      <td>EX_pect(e)</td>\n      <td>pect[e]</td>\n      <td>-1.0</td>\n      <td>0.026438</td>\n    </tr>\n    <tr>\n      <th>EX_phe_L(e)</th>\n      <td>EX_phe_L(e)</td>\n      <td>phe-L[e]</td>\n      <td>-1.0</td>\n      <td>-0.098628</td>\n    </tr>\n    <tr>\n      <th>EX_pi(e)</th>\n      <td>EX_pi(e)</td>\n      <td>pi[e]</td>\n      <td>-1.0</td>\n      <td>0.241629</td>\n    </tr>\n    <tr>\n      <th>EX_plac(e)</th>\n      <td>EX_plac(e)</td>\n      <td>plac[e]</td>\n      <td>-1.0</td>\n      <td>0.000000</td>\n    </tr>\n    <tr>\n      <th>EX_pnto_R(e)</th>\n      <td>EX_pnto_R(e)</td>\n      <td>pnto-R[e]</td>\n      <td>-1.0</td>\n      <td>0.002549</td>\n    </tr>\n    <tr>\n      <th>EX_pro_L(e)</th>\n      <td>EX_pro_L(e)</td>\n      <td>pro-L[e]</td>\n      <td>-1.0</td>\n      <td>0.048829</td>\n    </tr>\n    <tr>\n      <th>EX_progly(e)</th>\n      <td>EX_progly(e)</td>\n      <td>progly[e]</td>\n      <td>-1.0</td>\n      <td>0.000000</td>\n    </tr>\n    <tr>\n      <th>EX_ptrc(e)</th>\n      <td>EX_ptrc(e)</td>\n      <td>ptrc[e]</td>\n      <td>-1.0</td>\n      <td>-0.068886</td>\n    </tr>\n    <tr>\n      <th>EX_pydam(e)</th>\n      <td>EX_pydam(e)</td>\n      <td>pydam[e]</td>\n      <td>-1.0</td>\n      <td>0.000000</td>\n    </tr>\n    <tr>\n      <th>EX_pydx(e)</th>\n      <td>EX_pydx(e)</td>\n      <td>pydx[e]</td>\n      <td>-1.0</td>\n      <td>0.001274</td>\n    </tr>\n    <tr>\n      <th>EX_pydxn(e)</th>\n      <td>EX_pydxn(e)</td>\n      <td>pydxn[e]</td>\n      <td>-1.0</td>\n      <td>0.000000</td>\n    </tr>\n    <tr>\n      <th>EX_rbflvrd(e)</th>\n      <td>EX_rbflvrd(e)</td>\n      <td>rbflvrd[e]</td>\n      <td>-1.0</td>\n      <td>-0.001935</td>\n    </tr>\n    <tr>\n      <th>EX_ribflv(e)</th>\n      <td>EX_ribflv(e)</td>\n      <td>ribflv[e]</td>\n      <td>-1.0</td>\n      <td>0.004484</td>\n    </tr>\n    <tr>\n      <th>EX_seln(e)</th>\n      <td>EX_seln(e)</td>\n      <td>seln[e]</td>\n      <td>-1.0</td>\n      <td>0.000000</td>\n    </tr>\n    <tr>\n      <th>EX_ser_L(e)</th>\n      <td>EX_ser_L(e)</td>\n      <td>ser-L[e]</td>\n      <td>-1.0</td>\n      <td>0.047530</td>\n    </tr>\n    <tr>\n      <th>EX_so4(e)</th>\n      <td>EX_so4(e)</td>\n      <td>so4[e]</td>\n      <td>-1.0</td>\n      <td>0.001274</td>\n    </tr>\n    <tr>\n      <th>EX_spmd(e)</th>\n      <td>EX_spmd(e)</td>\n      <td>spmd[e]</td>\n      <td>-1.0</td>\n      <td>0.000000</td>\n    </tr>\n    <tr>\n      <th>EX_strch1(e)</th>\n      <td>EX_strch1(e)</td>\n      <td>strch1[e]</td>\n      <td>-1.0</td>\n      <td>0.000000</td>\n    </tr>\n    <tr>\n      <th>EX_succ(e)</th>\n      <td>EX_succ(e)</td>\n      <td>succ[e]</td>\n      <td>-1.0</td>\n      <td>0.001000</td>\n    </tr>\n    <tr>\n      <th>EX_sulfac(e)</th>\n      <td>EX_sulfac(e)</td>\n      <td>sulfac[e]</td>\n      <td>-1.0</td>\n      <td>0.000000</td>\n    </tr>\n    <tr>\n      <th>EX_taur(e)</th>\n      <td>EX_taur(e)</td>\n      <td>taur[e]</td>\n      <td>-1.0</td>\n      <td>0.000000</td>\n    </tr>\n    <tr>\n      <th>EX_thm(e)</th>\n      <td>EX_thm(e)</td>\n      <td>thm[e]</td>\n      <td>-1.0</td>\n      <td>0.001274</td>\n    </tr>\n    <tr>\n      <th>EX_thr_L(e)</th>\n      <td>EX_thr_L(e)</td>\n      <td>thr-L[e]</td>\n      <td>-1.0</td>\n      <td>0.119947</td>\n    </tr>\n    <tr>\n      <th>EX_thymd(e)</th>\n      <td>EX_thymd(e)</td>\n      <td>thymd[e]</td>\n      <td>-1.0</td>\n      <td>0.001000</td>\n    </tr>\n    <tr>\n      <th>EX_trp_L(e)</th>\n      <td>EX_trp_L(e)</td>\n      <td>trp-L[e]</td>\n      <td>-1.0</td>\n      <td>0.012502</td>\n    </tr>\n    <tr>\n      <th>EX_tyr_L(e)</th>\n      <td>EX_tyr_L(e)</td>\n      <td>tyr-L[e]</td>\n      <td>-1.0</td>\n      <td>0.000000</td>\n    </tr>\n    <tr>\n      <th>EX_ura(e)</th>\n      <td>EX_ura(e)</td>\n      <td>ura[e]</td>\n      <td>-1.0</td>\n      <td>0.001000</td>\n    </tr>\n    <tr>\n      <th>EX_urate(e)</th>\n      <td>EX_urate(e)</td>\n      <td>urate[e]</td>\n      <td>-1.0</td>\n      <td>0.000000</td>\n    </tr>\n    <tr>\n      <th>EX_urea(e)</th>\n      <td>EX_urea(e)</td>\n      <td>urea[e]</td>\n      <td>-1.0</td>\n      <td>0.000000</td>\n    </tr>\n    <tr>\n      <th>EX_val_L(e)</th>\n      <td>EX_val_L(e)</td>\n      <td>val-L[e]</td>\n      <td>-1.0</td>\n      <td>0.000000</td>\n    </tr>\n    <tr>\n      <th>EX_xan(e)</th>\n      <td>EX_xan(e)</td>\n      <td>xan[e]</td>\n      <td>-1.0</td>\n      <td>0.000000</td>\n    </tr>\n    <tr>\n      <th>EX_xyl_D(e)</th>\n      <td>EX_xyl_D(e)</td>\n      <td>xyl-D[e]</td>\n      <td>-1.0</td>\n      <td>0.000000</td>\n    </tr>\n    <tr>\n      <th>sink_hpyr</th>\n      <td>sink_hpyr</td>\n      <td>hpyr[c]</td>\n      <td>-1.0</td>\n      <td>0.050000</td>\n    </tr>\n  </tbody>\n</table>\n</div>"
     },
     "metadata": {},
     "execution_count": 22
    }
   ],
   "source": [
    "# Manually extracted outputs\n",
    "csv_list = []\n",
    "for rxn in root_model.exchanges:\n",
    "    csv_dict = {}\n",
    "    csv_dict[\"metabolite\"] = rxn.id\n",
    "    csv_dict[\"lower_bound\"] = rxn.lower_bound\n",
    "    csv_dict[\"upper_bound\"] = rxn.upper_bound\n",
    "    csv_dict[\"flux\"] = rxn.flux\n",
    "    csv_list.append(csv_dict)\n",
    "\n",
    "pd.DataFrame(csv_list).to_csv(\"rcm_file_final.csv\")"
   ]
  },
  {
   "cell_type": "code",
   "execution_count": 23,
   "metadata": {},
   "outputs": [
    {
     "output_type": "execute_result",
     "data": {
      "text/plain": [
       "         reaction metabolite  factor      flux    BiGG_ID\n",
       "63      EX_gam(e)     gam[e]    -1.0  0.357270     gam(e)\n",
       "64      EX_glc(e)   glc-D[e]    -1.0  0.493655     glc(e)\n",
       "65    EX_glcur(e)   glcur[e]    -1.0  0.458107   glcur(e)\n",
       "71   EX_glyc3p(e)  glyc3p[e]    -1.0  0.169057  glyc3p(e)\n",
       "85      EX_h2o(e)     h2o[e]    -1.0  3.553265     h2o(e)\n",
       "136  EX_ribflv(e)  ribflv[e]    -1.0  0.004484  ribflv(e)"
      ],
      "text/html": "<div>\n<style scoped>\n    .dataframe tbody tr th:only-of-type {\n        vertical-align: middle;\n    }\n\n    .dataframe tbody tr th {\n        vertical-align: top;\n    }\n\n    .dataframe thead th {\n        text-align: right;\n    }\n</style>\n<table border=\"1\" class=\"dataframe\">\n  <thead>\n    <tr style=\"text-align: right;\">\n      <th></th>\n      <th>reaction</th>\n      <th>metabolite</th>\n      <th>factor</th>\n      <th>flux</th>\n      <th>BiGG_ID</th>\n    </tr>\n  </thead>\n  <tbody>\n    <tr>\n      <th>63</th>\n      <td>EX_gam(e)</td>\n      <td>gam[e]</td>\n      <td>-1.0</td>\n      <td>0.357270</td>\n      <td>gam(e)</td>\n    </tr>\n    <tr>\n      <th>64</th>\n      <td>EX_glc(e)</td>\n      <td>glc-D[e]</td>\n      <td>-1.0</td>\n      <td>0.493655</td>\n      <td>glc(e)</td>\n    </tr>\n    <tr>\n      <th>65</th>\n      <td>EX_glcur(e)</td>\n      <td>glcur[e]</td>\n      <td>-1.0</td>\n      <td>0.458107</td>\n      <td>glcur(e)</td>\n    </tr>\n    <tr>\n      <th>71</th>\n      <td>EX_glyc3p(e)</td>\n      <td>glyc3p[e]</td>\n      <td>-1.0</td>\n      <td>0.169057</td>\n      <td>glyc3p(e)</td>\n    </tr>\n    <tr>\n      <th>85</th>\n      <td>EX_h2o(e)</td>\n      <td>h2o[e]</td>\n      <td>-1.0</td>\n      <td>3.553265</td>\n      <td>h2o(e)</td>\n    </tr>\n    <tr>\n      <th>136</th>\n      <td>EX_ribflv(e)</td>\n      <td>ribflv[e]</td>\n      <td>-1.0</td>\n      <td>0.004484</td>\n      <td>ribflv(e)</td>\n    </tr>\n  </tbody>\n</table>\n</div>"
     },
     "metadata": {},
     "execution_count": 23
    }
   ],
   "source": [
    "root_model.summary().to_frame().merge(weights_full[['BiGG_ID','flux']], how=\"left\", on=\"flux\").dropna().to_csv(\"rate_limiting_rcm.csv\")\n",
    "root_model.summary().to_frame().merge(weights_full[['BiGG_ID','flux']], how=\"left\", on=\"flux\").dropna()"
   ]
  }
 ]
}