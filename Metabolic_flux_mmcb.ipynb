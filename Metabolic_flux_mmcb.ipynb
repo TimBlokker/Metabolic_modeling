{
 "metadata": {
  "language_info": {
   "codemirror_mode": {
    "name": "ipython",
    "version": 3
   },
   "file_extension": ".py",
   "mimetype": "text/x-python",
   "name": "python",
   "nbconvert_exporter": "python",
   "pygments_lexer": "ipython3",
   "version": "3.8.3-final"
  },
  "orig_nbformat": 2,
  "kernelspec": {
   "name": "python3",
   "display_name": "Python 3"
  }
 },
 "nbformat": 4,
 "nbformat_minor": 2,
 "cells": [
  {
   "cell_type": "code",
   "execution_count": 3,
   "metadata": {},
   "outputs": [],
   "source": [
    "#import packages\n",
    "from libchebipy import ChebiEntity\n",
    "import libchebipy\n",
    "import pubchempy as pcp\n",
    "import io\n",
    "import requests\n",
    "import json\n",
    "import cobra\n",
    "import functions\n",
    "from functions import *"
   ]
  },
  {
   "cell_type": "code",
   "execution_count": 4,
   "metadata": {},
   "outputs": [
    {
     "output_type": "stream",
     "name": "stdout",
     "text": [
      "Metabolites :  833\nReactions :  1030\nGenes :  602\nCompartments :  {'c': '', 'e': ''}\nObjective function : \n Maximize\n1.0*Biomass_FP - 1.0*Biomass_FP_reverse_ee33b \n\n"
     ]
    }
   ],
   "source": [
    "model=cobra.io.load_matlab_model('Data/iFpraus_v_1_0.mat')\n",
    "info(model)"
   ]
  },
  {
   "source": [
    "---\n",
    "## mMCB\n",
    "\n",
    "(There are also supplements mentioned in the paper but this is the base medium)\n",
    "* [Bacteriological Peptome (6.5) (Oxoid)](http://www.oxoid.com/UK/blue/prod_detail/prod_detail.asp?pr=LP0037&c=UK&lang=EN): \n",
    "    * Vague, decided to go with polypeptides: <b>polypep</b>\n",
    "    * Nitrogen: <b>n2</b>\n",
    "* [Soy Peptome (5.0) (Oxoid)](http://www.oxoid.com/UK/blue/prod_detail/prod_detail.asp?pr=LP0044&cat=&c=UK&lang=EN) --> another vague one:\n",
    "    * Stachyose: <b>stys</b>\n",
    "    * Raffinose: <b>raffin</b>\n",
    "    * Sucrose: <b>sucr</b>\n",
    "    * Nitrogen: <b>n2</b>\n",
    "* [Yeast Extract (3.0) (VWR International, Darmstadt, Germany)](https://us.vwr.com/store/product/7437401/vwr-life-science-yeast-extract-bacteriological-grade):\n",
    "    * Vitamin B (same logic as RCM):\n",
    "        * 1. Thiamin -> <b>thm</b>\n",
    "        * 2. Riboflavin -> <b>ribflv</b>\n",
    "        * 3. Niacin -> <b>trp__L</b> (made of tryptophan)\n",
    "        * 5. Pantothenic Acid -> <b>pnto__R</b>\n",
    "        * 6. Pyridoxine -> <b>pydxn</b>\n",
    "        * 7. Biotin -> <b>btn</b>\n",
    "        * 9. Folic Acid -> ... can't find anything\n",
    "        * 12. Cobalamin -> <b>b12</b> (or cbl1)\n",
    "* [Tryptone (2.5) (Oxoid)](http://www.oxoid.com/UK/blue/prod_detail/prod_detail.asp?pr=LP0042&c=UK&lang=EN): \n",
    "    * Tryptophan: <b>trp__L</b>\n",
    "* NaCL (1.5) (VWR International, Darmstadt, Germany):\n",
    "    * NaCl: <b>na1, cl</b>\n",
    "* K<sub>2</sub>HPO<sub>4</sub> (1.0) (Merck International, Darmstadt, Germany):\n",
    "    * Potassium: <b>k</b>\n",
    "    * Phosphate: <b>p1</b>\n",
    "    * Hydrogen: <b>h2</b>\n",
    "* KH<sub>2</sub>PO<sub>4</sub> (1.0) (Merck International, Darmstadt, Germany):\n",
    "    * Potassium: <b>k</b>\n",
    "    * Phosphate: <b>p1</b>\n",
    "    * Hydrogen: <b>h2</b>\n",
    "* Na<sub>2</sub>SO<sub>4</sub> (2.0) (VWR):\n",
    "    * Sodium: <b>na1</b>\n",
    "    * Sulfate: <b>so4</b>\n",
    "* MgSO<sub>4</sub>*7H<sub>2</sub>O (1.0) (Merck):\n",
    "    * Magnesium: <b>mg2</b>\n",
    "    * Sulfate: <b>so4</b>\n",
    "* CaCl<sub>2</sub>*2H<sub>2</sub>O (0.1) (Merck):\n",
    "    * Calcium Chloride: <b>ca2, cl</b>\n",
    "* NH<sub>4</sub>Cl (1.0) (Merck):\n",
    "    * Ammonium Chloride: <b>nh4, cl</b>\n",
    "* Cysteine-HCL (0.4) (Merck):\n",
    "    * Cysteine: <b>cys__L</b>\n",
    "    * HCL: <b>h2, cl</b>\n",
    "* NaHCO<sub>3</sub> (0.2) (VWR):\n",
    "    * Sodium: <b>na1</b>\n",
    "    * Bicarbonate: <b>hco3<b>\n",
    "* MnSO<sub>4</sub>*H<sub>2</sub>O (0.05) (VWR):\n",
    "    * Manganese: <b>mn2</b>\n",
    "    * Sulfate: <b>so4</b>\n",
    "* FeSO<sub>4</sub>*7H<sub>2</sub>O (0.005) (Merck):\n",
    "    * Iron: <b>fe</b>\n",
    "    * Sulfate: <b>so4</b>\n",
    "* ZnSO<sub>4</sub>*7H<sub>2</sub>O (0.005) (VWR):\n",
    "    * Zinc: <b>zn2</b>\n",
    "    * Sulfate: <b>so4</b>\n",
    "* Hemin (0.005) (Sigma-Aldrich, Steinheim, Germany):\n",
    "    * ... contains iron\n",
    "* Menadione (0.005) (S-A):\n",
    "    * <b>mndn</b>\n",
    "* Resazurin (0.001) (S-A):\n",
    "    * Fluoro identifier\n",
    "\n"
   ],
   "cell_type": "markdown",
   "metadata": {}
  },
  {
   "source": [
    "| Component                            | Concentration (g/L) |\n",
    "|--------------------------------------|---------------------|\n",
    "| Bacteriological Peptome              | 6.5                 |\n",
    "| Soy Peptome                          | 5.0                 |\n",
    "| Yeast Extract                        | 3.0                 |\n",
    "| Tryptone                             | 2.5                 |\n",
    "| NaCL                                 | 1.5                 |\n",
    "| K<sub>2</sub>PO<sub>4</sub>          | 1.0                 |\n",
    "| KH<sub>2</sub>PO<sub>4</sub>         | 1.0                 |\n",
    "| Na<sub>2</sub>SO<sub>4</sub>         | 2.0                 |\n",
    "| Mg<sub>2</sub>SO<sub>4</sub>         | 1.0                 |\n",
    "| CaCl<sub>2</sub>*2H<sub>2</sub>O     | 0.1                 |\n",
    "| NH<sub>4</sub>Cl                     | 1.0                 |\n",
    "| Cysteine-HCL                         | 0.4                 |\n",
    "| NaHCO<sub>3</sub>                    | 0.2                 |\n",
    "| MnSO<sub>4</sub>*H<sub>2</sub>O      | 0.05                |\n",
    "| FeSOMnSO<sub>4</sub>*7H<sub>2</sub>O | 0.005               |\n",
    "| ZnSO<sub>4</sub>*7H<sub>2</sub>O     | 0.005               |\n",
    "| Hemin                                | 0.005               |\n",
    "| Menadione                            | 0.005               |\n",
    "| Resazurin                            | 0.001               |\n"
   ],
   "cell_type": "markdown",
   "metadata": {}
  },
  {
   "cell_type": "code",
   "execution_count": 6,
   "metadata": {},
   "outputs": [
    {
     "output_type": "execute_result",
     "data": {
      "text/plain": [
       "          metab        growth\n",
       "64    glyc3p(e)  5.518982e+00\n",
       "119       pi(e)  5.518982e+00\n",
       "110      nac(e)  7.879200e-13\n",
       "141    trp_L(e)  6.209833e-15\n",
       "87         k(e)  3.821436e-15\n",
       "41   cobalt2(e)  3.598136e-15\n",
       "43       cu2(e)  3.598136e-15\n",
       "50       fol(e)  1.340104e-15\n",
       "131    ser_L(e) -2.866077e-15\n",
       "39        cl(e) -2.943929e-15\n",
       "29       btn(e) -7.165192e-15\n",
       "32       ca2(e) -1.528574e-14\n",
       "121   pnto_R(e) -8.216087e-14\n",
       "132      so4(e) -8.598231e-14\n",
       "126     pydx(e) -1.571566e-13\n",
       "106      mg2(e) -1.714438e-13"
      ],
      "text/html": "<div>\n<style scoped>\n    .dataframe tbody tr th:only-of-type {\n        vertical-align: middle;\n    }\n\n    .dataframe tbody tr th {\n        vertical-align: top;\n    }\n\n    .dataframe thead th {\n        text-align: right;\n    }\n</style>\n<table border=\"1\" class=\"dataframe\">\n  <thead>\n    <tr style=\"text-align: right;\">\n      <th></th>\n      <th>metab</th>\n      <th>growth</th>\n    </tr>\n  </thead>\n  <tbody>\n    <tr>\n      <th>64</th>\n      <td>glyc3p(e)</td>\n      <td>5.518982e+00</td>\n    </tr>\n    <tr>\n      <th>119</th>\n      <td>pi(e)</td>\n      <td>5.518982e+00</td>\n    </tr>\n    <tr>\n      <th>110</th>\n      <td>nac(e)</td>\n      <td>7.879200e-13</td>\n    </tr>\n    <tr>\n      <th>141</th>\n      <td>trp_L(e)</td>\n      <td>6.209833e-15</td>\n    </tr>\n    <tr>\n      <th>87</th>\n      <td>k(e)</td>\n      <td>3.821436e-15</td>\n    </tr>\n    <tr>\n      <th>41</th>\n      <td>cobalt2(e)</td>\n      <td>3.598136e-15</td>\n    </tr>\n    <tr>\n      <th>43</th>\n      <td>cu2(e)</td>\n      <td>3.598136e-15</td>\n    </tr>\n    <tr>\n      <th>50</th>\n      <td>fol(e)</td>\n      <td>1.340104e-15</td>\n    </tr>\n    <tr>\n      <th>131</th>\n      <td>ser_L(e)</td>\n      <td>-2.866077e-15</td>\n    </tr>\n    <tr>\n      <th>39</th>\n      <td>cl(e)</td>\n      <td>-2.943929e-15</td>\n    </tr>\n    <tr>\n      <th>29</th>\n      <td>btn(e)</td>\n      <td>-7.165192e-15</td>\n    </tr>\n    <tr>\n      <th>32</th>\n      <td>ca2(e)</td>\n      <td>-1.528574e-14</td>\n    </tr>\n    <tr>\n      <th>121</th>\n      <td>pnto_R(e)</td>\n      <td>-8.216087e-14</td>\n    </tr>\n    <tr>\n      <th>132</th>\n      <td>so4(e)</td>\n      <td>-8.598231e-14</td>\n    </tr>\n    <tr>\n      <th>126</th>\n      <td>pydx(e)</td>\n      <td>-1.571566e-13</td>\n    </tr>\n    <tr>\n      <th>106</th>\n      <td>mg2(e)</td>\n      <td>-1.714438e-13</td>\n    </tr>\n  </tbody>\n</table>\n</div>"
     },
     "metadata": {},
     "execution_count": 6
    }
   ],
   "source": [
    "# Get medium from model reactions\n",
    "root_model = model.copy()\n",
    "current_medium = [metab.lstrip('EX_') for metab in list(root_model.medium.keys())]\n",
    "\n",
    "# Check which metabolites control growth by removing one at a time and seeing the results\n",
    "def growth_stoppers(model, metabolites):\n",
    "    results = {}\n",
    "    for metabolite in metabolites:\n",
    "        metabolites.remove(metabolite.lstrip('EX_'))\n",
    "        test_model = medium(model, metabolites)\n",
    "        results[metabolite.lstrip('EX_')] = test_model.slim_optimize()\n",
    "        metabolites = [metab.lstrip(\"EX_\") for metab in metabolites]\n",
    "        metabolites.append(metabolite.lstrip('EX_'))\n",
    "\n",
    "    import pandas as pd\n",
    "    results_df = pd.DataFrame(results.items(), columns=[\"metab\",\"growth\"]).sort_values('growth', ascending=False)\n",
    "\n",
    "    return results_df\n",
    "\n",
    "growth_check_df = growth_stoppers(root_model, current_medium)\n",
    "\n",
    "# Filtering the dataframe to find the metabolites that hinder growth the most\n",
    "# (If growth is less than the mean, then it's considered to be enough to consider not removing it from the theoretical medium)\n",
    "# Don't take these out of the medium if you can help it:\n",
    "mandatory = growth_check_df[growth_check_df['growth'] < growth_check_df['growth'].mean()]\n",
    "mandatory"
   ]
  },
  {
   "cell_type": "code",
   "execution_count": 7,
   "metadata": {},
   "outputs": [],
   "source": [
    "### Remove metabolites from the medium that can't be justified\n",
    "# This part is where the metabolites for each component of the media are removeed\n",
    "# This is entirely subjective and should be based on some kind of prior knowledge\n",
    "# (Please don't delete lines, simply comment them out <3)\n",
    "\n",
    "# current_medium.remove('EX_3mop(e)')\n",
    "current_medium.remove('EX_4abz(e)')\n",
    "current_medium.remove('EX_5oxpro(e)')\n",
    "# current_medium.remove('EX_Lcyst(e)')\n",
    "# current_medium.remove('EX_Lcystin(e)')\n",
    "# current_medium.remove('EX_ac(e)')\n",
    "# current_medium.remove('EX_acasp(e)')\n",
    "# current_medium.remove('EX_acgal(e)')\n",
    "current_medium.remove('EX_acgalglcur(e)')\n",
    "# current_medium.remove('EX_acgam(e)')\n",
    "# current_medium.remove('EX_acglu(e)')\n",
    "# current_medium.remove('EX_acnam(e)')\n",
    "# current_medium.remove('EX_ade(e)')\n",
    "current_medium.remove('EX_adocbl(e)')\n",
    "# current_medium.remove('EX_ala_D(e)')\n",
    "# current_medium.remove('EX_ala_L(e)')\n",
    "# current_medium.remove('EX_alaala(e)')\n",
    "# current_medium.remove('EX_alaasp(e)')\n",
    "# current_medium.remove('EX_alagln(e)')\n",
    "# current_medium.remove('EX_alaglu(e)')\n",
    "# current_medium.remove('EX_alagly(e)')\n",
    "# current_medium.remove('EX_alahis(e)')\n",
    "# current_medium.remove('EX_alaleu(e)')\n",
    "# current_medium.remove('EX_alathr(e)')\n",
    "current_medium.remove('EX_arab_L(e)')\n",
    "# current_medium.remove('EX_arg_L(e)')\n",
    "# current_medium.remove('EX_asn_L(e)')\n",
    "current_medium.remove('EX_aso3(e)')\n",
    "current_medium.remove('EX_aso4(e)')\n",
    "# current_medium.remove('EX_asp_L(e)')\n",
    "# current_medium.remove('EX_btn(e)')\n",
    "current_medium.remove('EX_but(e)')\n",
    "current_medium.remove('EX_butso3(e)')\n",
    "# current_medium.remove('EX_ca2(e)')\n",
    "current_medium.remove('EX_cbl1(e)')\n",
    "current_medium.remove('EX_cbl2(e)')\n",
    "current_medium.remove('EX_cd2(e)')\n",
    "current_medium.remove('EX_cellb(e)')\n",
    "# current_medium.remove('EX_cgly(e)')\n",
    "current_medium.remove('EX_cit(e)')\n",
    "# current_medium.remove('EX_cl(e)')\n",
    "current_medium.remove('EX_co2(e)')\n",
    "# current_medium.remove('EX_cobalt2(e)') ###\n",
    "# current_medium.remove('EX_cps_fp(e)') ###\n",
    "# current_medium.remove('EX_cu2(e)')\n",
    "# current_medium.remove('EX_cys_L(e)')\n",
    "current_medium.remove('EX_dhor_S(e)')\n",
    "current_medium.remove('EX_ethso3(e)')\n",
    "current_medium.remove('EX_fe2(e)')\n",
    "# current_medium.remove('EX_fe3(e)')\n",
    "current_medium.remove('EX_fe3dcit(e)')\n",
    "# current_medium.remove('EX_fol(e)')\n",
    "# current_medium.remove('EX_for(e)')\n",
    "current_medium.remove('EX_fru(e)')\n",
    "current_medium.remove('EX_fum(e)')\n",
    "current_medium.remove('EX_gal(e)')\n",
    "current_medium.remove('EX_galur(e)')\n",
    "# current_medium.remove('EX_gam(e)')\n",
    "# current_medium.remove('EX_glc(e)')\n",
    "# current_medium.remove('EX_glcur(e)')\n",
    "# current_medium.remove('EX_gln_L(e)')\n",
    "# current_medium.remove('EX_glu_L(e)')\n",
    "# current_medium.remove('EX_gly(e)')\n",
    "# current_medium.remove('EX_glyasn(e)')\n",
    "# current_medium.remove('EX_glyasp(e)')\n",
    "# current_medium.remove('EX_glyc3p(e)') ###\n",
    "current_medium.remove('EX_glyc_R(e)')\n",
    "# current_medium.remove('EX_glygln(e)')\n",
    "# current_medium.remove('EX_glyglu(e)')\n",
    "# current_medium.remove('EX_glygly(e)')\n",
    "# current_medium.remove('EX_glyleu(e)')\n",
    "# current_medium.remove('EX_glymet(e)')\n",
    "# current_medium.remove('EX_glyphe(e)')\n",
    "# current_medium.remove('EX_glypro(e)')\n",
    "# current_medium.remove('EX_glytyr(e)')\n",
    "current_medium.remove('EX_gthox(e)')\n",
    "current_medium.remove('EX_gthrd(e)')\n",
    "# current_medium.remove('EX_gua(e)')\n",
    "# current_medium.remove('EX_h(e)')\n",
    "# current_medium.remove('EX_h2o(e)')\n",
    "current_medium.remove('EX_h2s(e)')\n",
    "current_medium.remove('EX_hg2(e)')\n",
    "current_medium.remove('EX_his_L(e)')\n",
    "current_medium.remove('EX_hxan(e)')\n",
    "# current_medium.remove('EX_ile_L(e)')\n",
    "current_medium.remove('EX_ins(e)')\n",
    "current_medium.remove('EX_inulin(e)')\n",
    "current_medium.remove('EX_isetac(e)')\n",
    "# current_medium.remove('EX_k(e)')\n",
    "current_medium.remove('EX_kesto(e)')\n",
    "current_medium.remove('EX_kestopt(e)')\n",
    "current_medium.remove('EX_kestottr(e)')\n",
    "current_medium.remove('EX_lac_D(e)')\n",
    "current_medium.remove('EX_lcts(e)')\n",
    "# current_medium.remove('EX_leu_L(e)')\n",
    "# current_medium.remove('EX_leugly(e)')\n",
    "# current_medium.remove('EX_leuleu(e)')\n",
    "# current_medium.remove('EX_lys_L(e)')\n",
    "current_medium.remove('EX_mal_L(e)')\n",
    "current_medium.remove('EX_malt(e)')\n",
    "current_medium.remove('EX_man(e)')\n",
    "current_medium.remove('EX_meoh(e)')\n",
    "# current_medium.remove('EX_met_D(e)')\n",
    "# current_medium.remove('EX_met_L(e)')\n",
    "# current_medium.remove('EX_metala(e)')\n",
    "# current_medium.remove('EX_metsox_R_L(e)')\n",
    "# current_medium.remove('EX_metsox_S_L(e)')\n",
    "# current_medium.remove('EX_mg2(e)')\n",
    "current_medium.remove('EX_mobd(e)')\n",
    "current_medium.remove('EX_mso3(e)')\n",
    "# current_medium.remove('EX_na1(e)')\n",
    "# current_medium.remove('EX_nac(e)') ###\n",
    "current_medium.remove('EX_ncam(e)')\n",
    "# current_medium.remove('EX_nh4(e)')\n",
    "current_medium.remove('EX_o2(e)')\n",
    "current_medium.remove('EX_orn(e)')\n",
    "current_medium.remove('EX_orot(e)')\n",
    "# current_medium.remove('EX_pb(e)')\n",
    "# current_medium.remove('EX_pect(e)') ###\n",
    "# current_medium.remove('EX_phe_L(e)')\n",
    "# current_medium.remove('EX_pi(e)')\n",
    "current_medium.remove('EX_plac(e)')\n",
    "current_medium.remove('EX_pnto_R(e)')\n",
    "# current_medium.remove('EX_pro_L(e)')\n",
    "# current_medium.remove('EX_progly(e)')\n",
    "current_medium.remove('EX_ptrc(e)')\n",
    "# current_medium.remove('EX_pydam(e)')\n",
    "# current_medium.remove('EX_pydx(e)') ###\n",
    "# current_medium.remove('EX_pydxn(e)')\n",
    "# current_medium.remove('EX_rbflvrd(e)')\n",
    "# current_medium.remove('EX_ribflv(e)')\n",
    "current_medium.remove('EX_seln(e)')\n",
    "# current_medium.remove('EX_ser_L(e)')\n",
    "# current_medium.remove('EX_so4(e)') ###\n",
    "current_medium.remove('EX_spmd(e)')\n",
    "# current_medium.remove('EX_strch1(e)')\n",
    "current_medium.remove('EX_succ(e)')\n",
    "current_medium.remove('EX_sulfac(e)')\n",
    "# current_medium.remove('EX_taur(e)')\n",
    "# current_medium.remove('EX_thm(e)')\n",
    "# current_medium.remove('EX_thr_L(e)')\n",
    "current_medium.remove('EX_thymd(e)')\n",
    "# current_medium.remove('EX_trp_L(e)')\n",
    "# current_medium.remove('EX_tyr_L(e)')\n",
    "current_medium.remove('EX_ura(e)')\n",
    "current_medium.remove('EX_urate(e)')\n",
    "current_medium.remove('EX_urea(e)')\n",
    "# current_medium.remove('EX_val_L(e)')\n",
    "current_medium.remove('EX_xan(e)')"
   ]
  },
  {
   "cell_type": "code",
   "execution_count": 8,
   "metadata": {},
   "outputs": [
    {
     "output_type": "execute_result",
     "data": {
      "text/plain": [
       "                       query     BiGG_ID       hit mol_weight\n",
       "0                L-cysteate     Lcyst(e)  23619007     168.15\n",
       "1                 L-Cystine   Lcystin(e)     67678      240.3\n",
       "2                   Acetate        ac(e)       175      59.04\n",
       "3      N-acetyl-L-aspartate     acasp(e)     65065     175.14\n",
       "4  N-Acetyl-D-galactosamine     acgal(e)     35717     221.21"
      ],
      "text/html": "<div>\n<style scoped>\n    .dataframe tbody tr th:only-of-type {\n        vertical-align: middle;\n    }\n\n    .dataframe tbody tr th {\n        vertical-align: top;\n    }\n\n    .dataframe thead th {\n        text-align: right;\n    }\n</style>\n<table border=\"1\" class=\"dataframe\">\n  <thead>\n    <tr style=\"text-align: right;\">\n      <th></th>\n      <th>query</th>\n      <th>BiGG_ID</th>\n      <th>hit</th>\n      <th>mol_weight</th>\n    </tr>\n  </thead>\n  <tbody>\n    <tr>\n      <th>0</th>\n      <td>L-cysteate</td>\n      <td>Lcyst(e)</td>\n      <td>23619007</td>\n      <td>168.15</td>\n    </tr>\n    <tr>\n      <th>1</th>\n      <td>L-Cystine</td>\n      <td>Lcystin(e)</td>\n      <td>67678</td>\n      <td>240.3</td>\n    </tr>\n    <tr>\n      <th>2</th>\n      <td>Acetate</td>\n      <td>ac(e)</td>\n      <td>175</td>\n      <td>59.04</td>\n    </tr>\n    <tr>\n      <th>3</th>\n      <td>N-acetyl-L-aspartate</td>\n      <td>acasp(e)</td>\n      <td>65065</td>\n      <td>175.14</td>\n    </tr>\n    <tr>\n      <th>4</th>\n      <td>N-Acetyl-D-galactosamine</td>\n      <td>acgal(e)</td>\n      <td>35717</td>\n      <td>221.21</td>\n    </tr>\n  </tbody>\n</table>\n</div>"
     },
     "metadata": {},
     "execution_count": 8
    }
   ],
   "source": [
    "# Get molar masses from pubchem\n",
    "# This function takes some time to run, but it gets all of the molar masses for the metabolites in the media\n",
    "# The result is a dataframe that we'll use to manipulate concentrations and eventually calculate flux lower bounds, but for now we\n",
    "# need to deal with all of the molar masses that couldn't be found\n",
    "weights = get_molecular_weights(root_model, current_medium)\n",
    "weights.head()\n"
   ]
  },
  {
   "cell_type": "code",
   "execution_count": 9,
   "metadata": {},
   "outputs": [
    {
     "output_type": "execute_result",
     "data": {
      "text/plain": [
       "                                                query    BiGG_ID hit mol_weight\n",
       "27  Capsular polysaccharide (F. prausnitzii, putat...  cps_fp(e)  NA         NA\n",
       "44                  exchange reaction for glycylglyci  glygly(e)  NA         NA\n",
       "47             exchange reaction for glycylphenylalai  glyphe(e)  NA         NA\n",
       "56                  exchange reaction for leucylglyci  leugly(e)  NA         NA\n",
       "69                      exchange reaction for pectins    pect(e)  NA         NA\n",
       "81  starch, structure 1 (1,6-{7[1,4-Glc], 4[1,4-Gl...  strch1(e)  NA         NA"
      ],
      "text/html": "<div>\n<style scoped>\n    .dataframe tbody tr th:only-of-type {\n        vertical-align: middle;\n    }\n\n    .dataframe tbody tr th {\n        vertical-align: top;\n    }\n\n    .dataframe thead th {\n        text-align: right;\n    }\n</style>\n<table border=\"1\" class=\"dataframe\">\n  <thead>\n    <tr style=\"text-align: right;\">\n      <th></th>\n      <th>query</th>\n      <th>BiGG_ID</th>\n      <th>hit</th>\n      <th>mol_weight</th>\n    </tr>\n  </thead>\n  <tbody>\n    <tr>\n      <th>27</th>\n      <td>Capsular polysaccharide (F. prausnitzii, putat...</td>\n      <td>cps_fp(e)</td>\n      <td>NA</td>\n      <td>NA</td>\n    </tr>\n    <tr>\n      <th>44</th>\n      <td>exchange reaction for glycylglyci</td>\n      <td>glygly(e)</td>\n      <td>NA</td>\n      <td>NA</td>\n    </tr>\n    <tr>\n      <th>47</th>\n      <td>exchange reaction for glycylphenylalai</td>\n      <td>glyphe(e)</td>\n      <td>NA</td>\n      <td>NA</td>\n    </tr>\n    <tr>\n      <th>56</th>\n      <td>exchange reaction for leucylglyci</td>\n      <td>leugly(e)</td>\n      <td>NA</td>\n      <td>NA</td>\n    </tr>\n    <tr>\n      <th>69</th>\n      <td>exchange reaction for pectins</td>\n      <td>pect(e)</td>\n      <td>NA</td>\n      <td>NA</td>\n    </tr>\n    <tr>\n      <th>81</th>\n      <td>starch, structure 1 (1,6-{7[1,4-Glc], 4[1,4-Gl...</td>\n      <td>strch1(e)</td>\n      <td>NA</td>\n      <td>NA</td>\n    </tr>\n  </tbody>\n</table>\n</div>"
     },
     "metadata": {},
     "execution_count": 9
    }
   ],
   "source": [
    "# Still missing molar masses:\n",
    "weights[weights['mol_weight'] == 'NA']"
   ]
  },
  {
   "cell_type": "code",
   "execution_count": 10,
   "metadata": {},
   "outputs": [
    {
     "output_type": "execute_result",
     "data": {
      "text/plain": [
       "Empty DataFrame\n",
       "Columns: [query, BiGG_ID, hit, mol_weight]\n",
       "Index: []"
      ],
      "text/html": "<div>\n<style scoped>\n    .dataframe tbody tr th:only-of-type {\n        vertical-align: middle;\n    }\n\n    .dataframe tbody tr th {\n        vertical-align: top;\n    }\n\n    .dataframe thead th {\n        text-align: right;\n    }\n</style>\n<table border=\"1\" class=\"dataframe\">\n  <thead>\n    <tr style=\"text-align: right;\">\n      <th></th>\n      <th>query</th>\n      <th>BiGG_ID</th>\n      <th>hit</th>\n      <th>mol_weight</th>\n    </tr>\n  </thead>\n  <tbody>\n  </tbody>\n</table>\n</div>"
     },
     "metadata": {},
     "execution_count": 10
    }
   ],
   "source": [
    "### MANUALLY fill these in\n",
    "# I just did this by adding together the molar mass of each of the metabolites in the exchange reaction\n",
    "weights.loc[weights['BiGG_ID'] == 'glygly(e)', 'mol_weight'] = 75.07*2\n",
    "weights.loc[weights['BiGG_ID'] == 'glyphe(e)', 'mol_weight'] = 75.07+165.19\n",
    "weights.loc[weights['BiGG_ID'] == 'leugly(e)', 'mol_weight'] = 75.07+131.17\n",
    "weights.loc[weights['BiGG_ID'] == 'pect(e)', 'mol_weight'] = 194.14\n",
    "weights.loc[weights['BiGG_ID'] == 'strch1(e)', 'mol_weight'] = 359.33\n",
    "weights.loc[weights['BiGG_ID'] == 'cps_fp(e)', 'mol_weight'] = 1000\n",
    "\n",
    "# There should be nothing left; everything now has a molar mass\n",
    "weights[weights['mol_weight'] == 'NA']"
   ]
  },
  {
   "cell_type": "code",
   "execution_count": 11,
   "metadata": {},
   "outputs": [],
   "source": [
    "# Here, we set up the dataframes for some of the main components of the media: peptones and yeast extracts\n",
    "# For traces, each entry is named EXACTLY after a BiGG metabolite, so the concentration can be added to this metabolite exclusively\n",
    "# \n",
    "# For amino acids (AAs), each entry is named after a substring corresponding to an AA(asp, arg, leu, etc.). \n",
    "# This is because we have no way of telling how much of each form of AA and how to differentiate their proportion in the media \n",
    "# (ie. how much L-cysteate do we have compared to L-cysteine? We really don't know)\n",
    "# There is a function that does this for us, and is described in more detail in the cells below\n",
    "#\n",
    "# These tables are based on the oxoid data:\n",
    "# http://www.oxoid.com/UK/blue/prod_detail/prod_detail.asp?pr=LP0037&c=UK&lang=EN&minfo=Y\n",
    "# All values are in ppm\n",
    "traces_list = [{'BiGG_ID':'ca2(e)', \"conc_ppm_Bact_Peptone_L37\": 635, \"conc_ppm_Proteose_Peptone_L85\": 200, \"conc_ppm_soya_peptone_L44\": 225, \"conc_ppm_yeast_extract\": 155},\n",
    "{'BiGG_ID':'mg2(e)', \"conc_ppm_Bact_Peptone_L37\": 265, \"conc_ppm_Proteose_Peptone_L85\": 340, \"conc_ppm_soya_peptone_L44\": 1530, \"conc_ppm_yeast_extract\": 205},\n",
    "{'BiGG_ID':'fe3(e)', \"conc_ppm_Bact_Peptone_L37\": 22, \"conc_ppm_Proteose_Peptone_L85\": 42, \"conc_ppm_soya_peptone_L44\": 90, \"conc_ppm_yeast_extract\": 52},\n",
    "{'BiGG_ID':'cu2(e)', \"conc_ppm_Bact_Peptone_L37\": 1, \"conc_ppm_Proteose_Peptone_L85\": 10, \"conc_ppm_soya_peptone_L44\": 2, \"conc_ppm_yeast_extract\": 2},\n",
    "{'BiGG_ID':'pb(e)', \"conc_ppm_Bact_Peptone_L37\": 0.4, \"conc_ppm_Proteose_Peptone_L85\": 0.1, \"conc_ppm_soya_peptone_L44\": 0.3, \"conc_ppm_yeast_extract\": 0.7},\n",
    "{'BiGG_ID':'mn2(e)', \"conc_ppm_Bact_Peptone_L37\": 3.4, \"conc_ppm_Proteose_Peptone_L85\": 0.5, \"conc_ppm_soya_peptone_L44\": 1.0, \"conc_ppm_yeast_extract\": 1.3},\n",
    "{'BiGG_ID':'zn2(e)', \"conc_ppm_Bact_Peptone_L37\": 9.2, \"conc_ppm_Proteose_Peptone_L85\": 16, \"conc_ppm_soya_peptone_L44\": 12, \"conc_ppm_yeast_extract\": 94},\n",
    "{'BiGG_ID':'cobalt2(e)', \"conc_ppm_Bact_Peptone_L37\": 0.1, \"conc_ppm_Proteose_Peptone_L85\": 0.2, \"conc_ppm_soya_peptone_L44\": 0.2, \"conc_ppm_yeast_extract\": 3.1},\n",
    "{'BiGG_ID':'cl(e)', \"conc_ppm_Bact_Peptone_L37\": 10000, \"conc_ppm_Proteose_Peptone_L85\": 80000, \"conc_ppm_soya_peptone_L44\": 4000, \"conc_ppm_yeast_extract\": 3000},\n",
    "{'BiGG_ID':'k(e)', \"conc_ppm_Bact_Peptone_L37\": 36000, \"conc_ppm_Proteose_Peptone_L85\": 14000, \"conc_ppm_soya_peptone_L44\": 33000, \"conc_ppm_yeast_extract\": 73000},\n",
    "{'BiGG_ID':'na1(e)', \"conc_ppm_Bact_Peptone_L37\": 10000, \"conc_ppm_Proteose_Peptone_L85\": 80000, \"conc_ppm_soya_peptone_L44\": 4000, \"conc_ppm_yeast_extract\": 3000}]\n",
    "\n",
    "\n",
    "aa_list = [{'BiGG_ID':'ala', \"conc_ppm_Bact_Peptone_L37\": 39200 , \"conc_ppm_Proteose_Peptone_L85\": 38100, \"conc_ppm_soya_peptone_L44\": 28700, \"conc_ppm_yeast_extract\": 9100},\n",
    "{'BiGG_ID':'arg', \"conc_ppm_Bact_Peptone_L37\": 49900, \"conc_ppm_Proteose_Peptone_L85\": 58000, \"conc_ppm_soya_peptone_L44\": 46400, \"conc_ppm_yeast_extract\": 33100},\n",
    "{'BiGG_ID':'asp', \"conc_ppm_Bact_Peptone_L37\": 60600, \"conc_ppm_Proteose_Peptone_L85\": 58500, \"conc_ppm_soya_peptone_L44\": 70600, \"conc_ppm_yeast_extract\": 70700}, \n",
    "{'BiGG_ID':'cys', \"conc_ppm_Bact_Peptone_L37\": 16600, \"conc_ppm_Proteose_Peptone_L85\": 1500, \"conc_ppm_soya_peptone_L44\": 5300, \"conc_ppm_yeast_extract\": 7600},\n",
    "{'BiGG_ID':'glu', \"conc_ppm_Bact_Peptone_L37\": 99300, \"conc_ppm_Proteose_Peptone_L85\": 137800, \"conc_ppm_soya_peptone_L44\": 147100, \"conc_ppm_yeast_extract\": 134900},\n",
    "{'BiGG_ID':'gly', \"conc_ppm_Bact_Peptone_L37\": 77100 , \"conc_ppm_Proteose_Peptone_L85\": 44500, \"conc_ppm_soya_peptone_L44\": 28300, \"conc_ppm_yeast_extract\": 59500},\n",
    "{'BiGG_ID':'ile', \"conc_ppm_Bact_Peptone_L37\": 38100, \"conc_ppm_Proteose_Peptone_L85\": 45800, \"conc_ppm_soya_peptone_L44\": 25100, \"conc_ppm_yeast_extract\": 48100},\n",
    "{'BiGG_ID':'leu', \"conc_ppm_Bact_Peptone_L37\": 37900, \"conc_ppm_Proteose_Peptone_L85\": 60100, \"conc_ppm_soya_peptone_L44\": 43100, \"conc_ppm_yeast_extract\": 60400},\n",
    "{'BiGG_ID':'lys', \"conc_ppm_Bact_Peptone_L37\": 43800, \"conc_ppm_Proteose_Peptone_L85\": 46100, \"conc_ppm_soya_peptone_L44\": 37700, \"conc_ppm_yeast_extract\": 54000},\n",
    "{'BiGG_ID':'met', \"conc_ppm_Bact_Peptone_L37\": 15800, \"conc_ppm_Proteose_Peptone_L85\": 10800, \"conc_ppm_soya_peptone_L44\": 6200, \"conc_ppm_yeast_extract\": 8000},\n",
    "{'BiGG_ID':'phe', \"conc_ppm_Bact_Peptone_L37\": 26000, \"conc_ppm_Proteose_Peptone_L85\": 46600, \"conc_ppm_soya_peptone_L44\": 3800, \"conc_ppm_yeast_extract\": 37800},\n",
    "{'BiGG_ID':'pro', \"conc_ppm_Bact_Peptone_L37\": 58300, \"conc_ppm_Proteose_Peptone_L85\": 59900, \"conc_ppm_soya_peptone_L44\": 34000, \"conc_ppm_yeast_extract\": 8800},\n",
    "{'BiGG_ID':'ser', \"conc_ppm_Bact_Peptone_L37\": 28100, \"conc_ppm_Proteose_Peptone_L85\": 21800, \"conc_ppm_soya_peptone_L44\": 6700, \"conc_ppm_yeast_extract\": 34200},\n",
    "{'BiGG_ID':'thr', \"conc_ppm_Bact_Peptone_L37\": 12500, \"conc_ppm_Proteose_Peptone_L85\": 27500, \"conc_ppm_soya_peptone_L44\": 16800, \"conc_ppm_yeast_extract\": 27300},\n",
    "{'BiGG_ID':'trp', \"conc_ppm_Bact_Peptone_L37\": 6600, \"conc_ppm_Proteose_Peptone_L85\": 7500, \"conc_ppm_soya_peptone_L44\": 6400, \"conc_ppm_yeast_extract\": 8500},\n",
    "{'BiGG_ID':'tyr', \"conc_ppm_Bact_Peptone_L37\": 3900, \"conc_ppm_Proteose_Peptone_L85\": 17700, \"conc_ppm_soya_peptone_L44\": 20900, \"conc_ppm_yeast_extract\": 49500},\n",
    "{'BiGG_ID':'val', \"conc_ppm_Bact_Peptone_L37\": 33300, \"conc_ppm_Proteose_Peptone_L85\": 41100, \"conc_ppm_soya_peptone_L44\": 36500, \"conc_ppm_yeast_extract\": 10000}]\n",
    "\n",
    "#https://www.sigmaaldrich.com/catalog/product/sial/07533?lang=de&region=DE \n",
    "#Vitamins mg/100 g product conversion factor to ppm 1/10000\n",
    "#Vitamin B6 consists of 3 components see also wikipedia and vitamin B3 2 components https://en.wikipedia.org/wiki/B_vitamins \n",
    "\n",
    "vitamins_list=[{'BiGG_ID':'thm(e)', \"conc_ppm_Bact_Peptone_L37\": 36/10000, \"conc_ppm_Proteose_Peptone_L85\": 36/10000, \"conc_ppm_soya_peptone_L44\": 36/10000, \"conc_ppm_yeast_extract\": 36/10000},\n",
    "{'BiGG_ID':'ribflv(e)', \"conc_ppm_Bact_Peptone_L37\": 13/2/10000, \"conc_ppm_Proteose_Peptone_L85\": 13/2/10000, \"conc_ppm_soya_peptone_L44\": 13/2/10000, \"conc_ppm_yeast_extract\": 13/2/10000}, \n",
    "{'BiGG_ID':'rbflvrd(e)', \"conc_ppm_Bact_Peptone_L37\":13/2/10000, \"conc_ppm_Proteose_Peptone_L85\": 13/2/10000, \"conc_ppm_soya_peptone_L44\":13/2/10000, \"conc_ppm_yeast_extract\": 13/2/10000},\n",
    "{'BiGG_ID':'nac(e)', \"conc_ppm_Bact_Peptone_L37\": 650/2/10000, \"conc_ppm_Proteose_Peptone_L85\": 650/2/10000, \"conc_ppm_soya_peptone_L44\": 650/2/10000, \"conc_ppm_yeast_extract\": 650/2/10000},\n",
    "{'BiGG_ID':'ncam(e)', \"conc_ppm_Bact_Peptone_L37\": 650/2/10000 , \"conc_ppm_Proteose_Peptone_L85\": 650/2/10000, \"conc_ppm_soya_peptone_L44\": 650/2/10000, \"conc_ppm_yeast_extract\":650/2/10000},\n",
    "{'BiGG_ID':'pydam(e)', \"conc_ppm_Bact_Peptone_L37\": 3.9/3/10000, \"conc_ppm_Proteose_Peptone_L85\": 3.9/3/10000, \"conc_ppm_soya_peptone_L44\": 3.9/3/10000, \"conc_ppm_yeast_extract\": 3.9/3/10000},\n",
    "{'BiGG_ID':'pydx(e)', \"conc_ppm_Bact_Peptone_L37\": 3.9/3/10000+7/10000, \"conc_ppm_Proteose_Peptone_L85\": 3.9/3/10000+7/10000, \"conc_ppm_soya_peptone_L44\": 3.9/3/10000+7/10000, \"conc_ppm_yeast_extract\": 3.9/3/10000+7/10000},\n",
    "{'BiGG_ID':'pydxn(e)', \"conc_ppm_Bact_Peptone_L37\": 3.9/3/10000, \"conc_ppm_Proteose_Peptone_L85\": 3.9/3/10000, \"conc_ppm_soya_peptone_L44\": 3.9/3/10000, \"conc_ppm_yeast_extract\": 3.9/3/10000},\n",
    "{'BiGG_ID':'fol(e)', \"conc_ppm_Bact_Peptone_L37\": 2.8/10000, \"conc_ppm_Proteose_Peptone_L85\": 2.8/10000, \"conc_ppm_soya_peptone_L44\": 2.8/10000, \"conc_ppm_yeast_extract\": 2.8/10000},\n",
    "{'BiGG_ID':'pnto_R(e)', \"conc_ppm_Bact_Peptone_L37\": 11.2/10000 , \"conc_ppm_Proteose_Peptone_L85\": 11.2/10000, \"conc_ppm_soya_peptone_L44\": 11.2/10000, \"conc_ppm_yeast_extract\": 11.2/10000},\n",
    "{'BiGG_ID':'btn(e)', \"conc_ppm_Bact_Peptone_L37\": 2/10000, \"conc_ppm_Proteose_Peptone_L85\": 2/10000, \"conc_ppm_soya_peptone_L44\": 2/10000, \"conc_ppm_yeast_extract\": 2/10000}]\n",
    "\n",
    "medium_trace = pd.DataFrame(traces_list+vitamins_list)\n",
    "medium_aa = pd.DataFrame(aa_list)"
   ]
  },
  {
   "cell_type": "code",
   "execution_count": 12,
   "metadata": {},
   "outputs": [
    {
     "output_type": "execute_result",
     "data": {
      "text/plain": [
       "                  query     BiGG_ID        hit mol_weight  conc_ppm_Bact_Peptone_L37  conc_ppm_Proteose_Peptone_L85  conc_ppm_soya_peptone_L44  conc_ppm_yeast_extract\n",
       "22              Biotin       btn(e)     171548     244.31                    0.00020                        0.00020                    0.00020                 0.00020\n",
       "23             Calcium       ca2(e)    5460341      40.08                  635.00000                      200.00000                  225.00000               155.00000\n",
       "25            Chloride        cl(e)        312      35.45                10000.00000                    80000.00000                 4000.00000              3000.00000\n",
       "26                Co2+   cobalt2(e)     104729    58.9332                    0.10000                        0.20000                    0.20000                 3.10000\n",
       "28                Cu2+       cu2(e)      27099      63.55                    1.00000                       10.00000                    2.00000                 2.00000\n",
       "30                Fe3+       fe3(e)      29936      55.84                   22.00000                       42.00000                   90.00000                52.00000\n",
       "31              Folate       fol(e)  135398658      441.4                    0.00028                        0.00028                    0.00028                 0.00028\n",
       "54                  K+         k(e)        813     39.098                36000.00000                    14000.00000                33000.00000             73000.00000\n",
       "64                  Mg       mg2(e)    5462224     24.305                  265.00000                      340.00000                 1530.00000               205.00000\n",
       "65              Sodium       na1(e)    5360545    22.9898                10000.00000                    80000.00000                 4000.00000              3000.00000\n",
       "66          Nicotinate       nac(e)        937      122.1                    0.03250                        0.03250                    0.03250                 0.03250\n",
       "68                Lead        pb(e)    5352425        207                    0.40000                        0.10000                    0.30000                 0.70000\n",
       "74        Pyridoxamine     pydam(e)       1052     168.19                    0.00013                        0.00013                    0.00013                 0.00013\n",
       "75           Pyridoxal      pydx(e)       1050     167.16                    0.00083                        0.00083                    0.00083                 0.00083\n",
       "76          Pyridoxine     pydxn(e)       1054     169.18                    0.00013                        0.00013                    0.00013                 0.00013\n",
       "77  Reduced riboflavin   rbflvrd(e)   14080393      378.4                    0.00065                        0.00065                    0.00065                 0.00065\n",
       "78          Riboflavin    ribflv(e)     493570      376.4                    0.00065                        0.00065                    0.00065                 0.00065\n",
       "83             Thiamin       thm(e)       1130     265.36                    0.00360                        0.00360                    0.00360                 0.00360"
      ],
      "text/html": "<div>\n<style scoped>\n    .dataframe tbody tr th:only-of-type {\n        vertical-align: middle;\n    }\n\n    .dataframe tbody tr th {\n        vertical-align: top;\n    }\n\n    .dataframe thead th {\n        text-align: right;\n    }\n</style>\n<table border=\"1\" class=\"dataframe\">\n  <thead>\n    <tr style=\"text-align: right;\">\n      <th></th>\n      <th>query</th>\n      <th>BiGG_ID</th>\n      <th>hit</th>\n      <th>mol_weight</th>\n      <th>conc_ppm_Bact_Peptone_L37</th>\n      <th>conc_ppm_Proteose_Peptone_L85</th>\n      <th>conc_ppm_soya_peptone_L44</th>\n      <th>conc_ppm_yeast_extract</th>\n    </tr>\n  </thead>\n  <tbody>\n    <tr>\n      <th>22</th>\n      <td>Biotin</td>\n      <td>btn(e)</td>\n      <td>171548</td>\n      <td>244.31</td>\n      <td>0.00020</td>\n      <td>0.00020</td>\n      <td>0.00020</td>\n      <td>0.00020</td>\n    </tr>\n    <tr>\n      <th>23</th>\n      <td>Calcium</td>\n      <td>ca2(e)</td>\n      <td>5460341</td>\n      <td>40.08</td>\n      <td>635.00000</td>\n      <td>200.00000</td>\n      <td>225.00000</td>\n      <td>155.00000</td>\n    </tr>\n    <tr>\n      <th>25</th>\n      <td>Chloride</td>\n      <td>cl(e)</td>\n      <td>312</td>\n      <td>35.45</td>\n      <td>10000.00000</td>\n      <td>80000.00000</td>\n      <td>4000.00000</td>\n      <td>3000.00000</td>\n    </tr>\n    <tr>\n      <th>26</th>\n      <td>Co2+</td>\n      <td>cobalt2(e)</td>\n      <td>104729</td>\n      <td>58.9332</td>\n      <td>0.10000</td>\n      <td>0.20000</td>\n      <td>0.20000</td>\n      <td>3.10000</td>\n    </tr>\n    <tr>\n      <th>28</th>\n      <td>Cu2+</td>\n      <td>cu2(e)</td>\n      <td>27099</td>\n      <td>63.55</td>\n      <td>1.00000</td>\n      <td>10.00000</td>\n      <td>2.00000</td>\n      <td>2.00000</td>\n    </tr>\n    <tr>\n      <th>30</th>\n      <td>Fe3+</td>\n      <td>fe3(e)</td>\n      <td>29936</td>\n      <td>55.84</td>\n      <td>22.00000</td>\n      <td>42.00000</td>\n      <td>90.00000</td>\n      <td>52.00000</td>\n    </tr>\n    <tr>\n      <th>31</th>\n      <td>Folate</td>\n      <td>fol(e)</td>\n      <td>135398658</td>\n      <td>441.4</td>\n      <td>0.00028</td>\n      <td>0.00028</td>\n      <td>0.00028</td>\n      <td>0.00028</td>\n    </tr>\n    <tr>\n      <th>54</th>\n      <td>K+</td>\n      <td>k(e)</td>\n      <td>813</td>\n      <td>39.098</td>\n      <td>36000.00000</td>\n      <td>14000.00000</td>\n      <td>33000.00000</td>\n      <td>73000.00000</td>\n    </tr>\n    <tr>\n      <th>64</th>\n      <td>Mg</td>\n      <td>mg2(e)</td>\n      <td>5462224</td>\n      <td>24.305</td>\n      <td>265.00000</td>\n      <td>340.00000</td>\n      <td>1530.00000</td>\n      <td>205.00000</td>\n    </tr>\n    <tr>\n      <th>65</th>\n      <td>Sodium</td>\n      <td>na1(e)</td>\n      <td>5360545</td>\n      <td>22.9898</td>\n      <td>10000.00000</td>\n      <td>80000.00000</td>\n      <td>4000.00000</td>\n      <td>3000.00000</td>\n    </tr>\n    <tr>\n      <th>66</th>\n      <td>Nicotinate</td>\n      <td>nac(e)</td>\n      <td>937</td>\n      <td>122.1</td>\n      <td>0.03250</td>\n      <td>0.03250</td>\n      <td>0.03250</td>\n      <td>0.03250</td>\n    </tr>\n    <tr>\n      <th>68</th>\n      <td>Lead</td>\n      <td>pb(e)</td>\n      <td>5352425</td>\n      <td>207</td>\n      <td>0.40000</td>\n      <td>0.10000</td>\n      <td>0.30000</td>\n      <td>0.70000</td>\n    </tr>\n    <tr>\n      <th>74</th>\n      <td>Pyridoxamine</td>\n      <td>pydam(e)</td>\n      <td>1052</td>\n      <td>168.19</td>\n      <td>0.00013</td>\n      <td>0.00013</td>\n      <td>0.00013</td>\n      <td>0.00013</td>\n    </tr>\n    <tr>\n      <th>75</th>\n      <td>Pyridoxal</td>\n      <td>pydx(e)</td>\n      <td>1050</td>\n      <td>167.16</td>\n      <td>0.00083</td>\n      <td>0.00083</td>\n      <td>0.00083</td>\n      <td>0.00083</td>\n    </tr>\n    <tr>\n      <th>76</th>\n      <td>Pyridoxine</td>\n      <td>pydxn(e)</td>\n      <td>1054</td>\n      <td>169.18</td>\n      <td>0.00013</td>\n      <td>0.00013</td>\n      <td>0.00013</td>\n      <td>0.00013</td>\n    </tr>\n    <tr>\n      <th>77</th>\n      <td>Reduced riboflavin</td>\n      <td>rbflvrd(e)</td>\n      <td>14080393</td>\n      <td>378.4</td>\n      <td>0.00065</td>\n      <td>0.00065</td>\n      <td>0.00065</td>\n      <td>0.00065</td>\n    </tr>\n    <tr>\n      <th>78</th>\n      <td>Riboflavin</td>\n      <td>ribflv(e)</td>\n      <td>493570</td>\n      <td>376.4</td>\n      <td>0.00065</td>\n      <td>0.00065</td>\n      <td>0.00065</td>\n      <td>0.00065</td>\n    </tr>\n    <tr>\n      <th>83</th>\n      <td>Thiamin</td>\n      <td>thm(e)</td>\n      <td>1130</td>\n      <td>265.36</td>\n      <td>0.00360</td>\n      <td>0.00360</td>\n      <td>0.00360</td>\n      <td>0.00360</td>\n    </tr>\n  </tbody>\n</table>\n</div>"
     },
     "metadata": {},
     "execution_count": 12
    }
   ],
   "source": [
    "# This cell does a dataframe merge (essentially a SQL left join)\n",
    "# It combines the columns from the dataframe that contains each of the metabolites in the medium defined earlier and\n",
    "# the columns for each of the metabolite concentrations in each of the oxoid media ingredients\n",
    "# Note: this only deals with the \"traces\" df; the amino acids will be dealt with in the next operation\n",
    "weights_and_traces = weights.merge(medium_trace, how=\"left\", on=\"BiGG_ID\")\n",
    "weights_and_traces[weights_and_traces['conc_ppm_Bact_Peptone_L37'] > 0]"
   ]
  },
  {
   "cell_type": "code",
   "execution_count": 13,
   "metadata": {
    "tags": []
   },
   "outputs": [
    {
     "output_type": "execute_result",
     "data": {
      "text/plain": [
       "                       query     BiGG_ID       hit  mol_weight  conc_ppm_Bact_Peptone_L37  conc_ppm_Proteose_Peptone_L85  conc_ppm_soya_peptone_L44  conc_ppm_yeast_extract\n",
       "0                L-cysteate     Lcyst(e)  23619007      168.15                5533.333333                          500.0                1766.666667             2533.333333\n",
       "1                 L-Cystine   Lcystin(e)     67678      240.30                5533.333333                          500.0                1766.666667             2533.333333\n",
       "2                   Acetate        ac(e)       175       59.04                   0.000000                            0.0                   0.000000                0.000000\n",
       "3      N-acetyl-L-aspartate     acasp(e)     65065      175.14               15150.000000                        14625.0               17650.000000            17675.000000\n",
       "4  N-Acetyl-D-galactosamine     acgal(e)     35717      221.21                   0.000000                            0.0                   0.000000                0.000000"
      ],
      "text/html": "<div>\n<style scoped>\n    .dataframe tbody tr th:only-of-type {\n        vertical-align: middle;\n    }\n\n    .dataframe tbody tr th {\n        vertical-align: top;\n    }\n\n    .dataframe thead th {\n        text-align: right;\n    }\n</style>\n<table border=\"1\" class=\"dataframe\">\n  <thead>\n    <tr style=\"text-align: right;\">\n      <th></th>\n      <th>query</th>\n      <th>BiGG_ID</th>\n      <th>hit</th>\n      <th>mol_weight</th>\n      <th>conc_ppm_Bact_Peptone_L37</th>\n      <th>conc_ppm_Proteose_Peptone_L85</th>\n      <th>conc_ppm_soya_peptone_L44</th>\n      <th>conc_ppm_yeast_extract</th>\n    </tr>\n  </thead>\n  <tbody>\n    <tr>\n      <th>0</th>\n      <td>L-cysteate</td>\n      <td>Lcyst(e)</td>\n      <td>23619007</td>\n      <td>168.15</td>\n      <td>5533.333333</td>\n      <td>500.0</td>\n      <td>1766.666667</td>\n      <td>2533.333333</td>\n    </tr>\n    <tr>\n      <th>1</th>\n      <td>L-Cystine</td>\n      <td>Lcystin(e)</td>\n      <td>67678</td>\n      <td>240.30</td>\n      <td>5533.333333</td>\n      <td>500.0</td>\n      <td>1766.666667</td>\n      <td>2533.333333</td>\n    </tr>\n    <tr>\n      <th>2</th>\n      <td>Acetate</td>\n      <td>ac(e)</td>\n      <td>175</td>\n      <td>59.04</td>\n      <td>0.000000</td>\n      <td>0.0</td>\n      <td>0.000000</td>\n      <td>0.000000</td>\n    </tr>\n    <tr>\n      <th>3</th>\n      <td>N-acetyl-L-aspartate</td>\n      <td>acasp(e)</td>\n      <td>65065</td>\n      <td>175.14</td>\n      <td>15150.000000</td>\n      <td>14625.0</td>\n      <td>17650.000000</td>\n      <td>17675.000000</td>\n    </tr>\n    <tr>\n      <th>4</th>\n      <td>N-Acetyl-D-galactosamine</td>\n      <td>acgal(e)</td>\n      <td>35717</td>\n      <td>221.21</td>\n      <td>0.000000</td>\n      <td>0.0</td>\n      <td>0.000000</td>\n      <td>0.000000</td>\n    </tr>\n  </tbody>\n</table>\n</div>"
     },
     "metadata": {},
     "execution_count": 13
    }
   ],
   "source": [
    "# Returning to the problem outlined above when we were declaring the dictionaries full of ppm data above:\n",
    "# How much L-cysteate do we have compared to L-cysteine?\n",
    "# The solution to this is to take every metabolite containing this substring and assign it to an equal proportion of the given concentration in the media.\n",
    "# \n",
    "# (ie. If the technical data says that there is 16600 ppm of cysteine in bacterial peptone, and we assume that our media contains L-cysteine and L-cysteate that # contain the \"cys\" substring, they will each get an equal portion of that 16600ppm: 8300ppm each. \n",
    "# This scales independent of the number of \"cys\" variants we assume to be in the media.\n",
    "# So if there are 4 metabolites containing the \"cys\" substring, they will each be given 4150ppm from the 16600ppm, and so on.)\n",
    "#\n",
    "# The function \"split_concentration_proportions()\" does this for us. It's in the file \"functions.py\" and has some insight \n",
    "# into what the input and return values should be.\n",
    "weights_full = split_concentration_proportions(weights_and_traces, medium_aa)\n",
    "weights_full.head()"
   ]
  },
  {
   "source": [
    "It's easier to have this table here for now, for the cell below\n",
    "\n",
    "| Component                            | Concentration (g/L) |\n",
    "|--------------------------------------|---------------------|\n",
    "| Bacteriological Peptome              | 6.5                 |\n",
    "| Soy Peptome                          | 5.0                 |\n",
    "| Yeast Extract                        | 3.0                 |\n",
    "| Tryptone                             | 2.5                 |\n",
    "| NaCL                                 | 1.5                 |\n",
    "| K<sub>2</sub>PO<sub>4</sub>          | 1.0                 |\n",
    "| KH<sub>2</sub>PO<sub>4</sub>         | 1.0                 |\n",
    "| Na<sub>2</sub>SO<sub>4</sub>         | 2.0                 |\n",
    "| Mg<sub>2</sub>SO<sub>4</sub>         | 1.0                 |\n",
    "| CaCl<sub>2</sub>*2H<sub>2</sub>O     | 0.1                 |\n",
    "| NH<sub>4</sub>Cl                     | 1.0                 |\n",
    "| Cysteine-HCL                         | 0.4                 |\n",
    "| NaHCO<sub>3</sub>                    | 0.2                 |\n",
    "| MnSO<sub>4</sub>*H<sub>2</sub>O      | 0.05                |\n",
    "| FeSOMnSO<sub>4</sub>*7H<sub>2</sub>O | 0.005               |\n",
    "| ZnSO<sub>4</sub>*7H<sub>2</sub>O     | 0.005               |\n",
    "| Hemin                                | 0.005               |\n",
    "| Menadione                            | 0.005               |\n",
    "| Resazurin                            | 0.001               |\n"
   ],
   "cell_type": "markdown",
   "metadata": {}
  },
  {
   "cell_type": "code",
   "execution_count": 14,
   "metadata": {},
   "outputs": [
    {
     "output_type": "execute_result",
     "data": {
      "text/plain": [
       "                       query     BiGG_ID       hit  mol_weight  conc_ppm_Bact_Peptone_L37  conc_ppm_Proteose_Peptone_L85  conc_ppm_soya_peptone_L44  conc_ppm_yeast_extract  supplements\n",
       "0                L-cysteate     Lcyst(e)  23619007      168.15                  34.704264                            0.0                   8.523290                7.333246   133.333333\n",
       "1                 L-Cystine   Lcystin(e)     67678      240.30                  34.704264                            0.0                   8.523290                7.333246   133.333333\n",
       "2                   Acetate        ac(e)       175       59.04                   0.000000                            0.0                   0.000000                0.000000  1133.333333\n",
       "3      N-acetyl-L-aspartate     acasp(e)     65065      175.14                  95.018603                            0.0                  85.152493               51.163863  1133.333333\n",
       "4  N-Acetyl-D-galactosamine     acgal(e)     35717      221.21                   0.000000                            0.0                   0.000000                0.000000  1133.333333"
      ],
      "text/html": "<div>\n<style scoped>\n    .dataframe tbody tr th:only-of-type {\n        vertical-align: middle;\n    }\n\n    .dataframe tbody tr th {\n        vertical-align: top;\n    }\n\n    .dataframe thead th {\n        text-align: right;\n    }\n</style>\n<table border=\"1\" class=\"dataframe\">\n  <thead>\n    <tr style=\"text-align: right;\">\n      <th></th>\n      <th>query</th>\n      <th>BiGG_ID</th>\n      <th>hit</th>\n      <th>mol_weight</th>\n      <th>conc_ppm_Bact_Peptone_L37</th>\n      <th>conc_ppm_Proteose_Peptone_L85</th>\n      <th>conc_ppm_soya_peptone_L44</th>\n      <th>conc_ppm_yeast_extract</th>\n      <th>supplements</th>\n    </tr>\n  </thead>\n  <tbody>\n    <tr>\n      <th>0</th>\n      <td>L-cysteate</td>\n      <td>Lcyst(e)</td>\n      <td>23619007</td>\n      <td>168.15</td>\n      <td>34.704264</td>\n      <td>0.0</td>\n      <td>8.523290</td>\n      <td>7.333246</td>\n      <td>133.333333</td>\n    </tr>\n    <tr>\n      <th>1</th>\n      <td>L-Cystine</td>\n      <td>Lcystin(e)</td>\n      <td>67678</td>\n      <td>240.30</td>\n      <td>34.704264</td>\n      <td>0.0</td>\n      <td>8.523290</td>\n      <td>7.333246</td>\n      <td>133.333333</td>\n    </tr>\n    <tr>\n      <th>2</th>\n      <td>Acetate</td>\n      <td>ac(e)</td>\n      <td>175</td>\n      <td>59.04</td>\n      <td>0.000000</td>\n      <td>0.0</td>\n      <td>0.000000</td>\n      <td>0.000000</td>\n      <td>1133.333333</td>\n    </tr>\n    <tr>\n      <th>3</th>\n      <td>N-acetyl-L-aspartate</td>\n      <td>acasp(e)</td>\n      <td>65065</td>\n      <td>175.14</td>\n      <td>95.018603</td>\n      <td>0.0</td>\n      <td>85.152493</td>\n      <td>51.163863</td>\n      <td>1133.333333</td>\n    </tr>\n    <tr>\n      <th>4</th>\n      <td>N-Acetyl-D-galactosamine</td>\n      <td>acgal(e)</td>\n      <td>35717</td>\n      <td>221.21</td>\n      <td>0.000000</td>\n      <td>0.0</td>\n      <td>0.000000</td>\n      <td>0.000000</td>\n      <td>1133.333333</td>\n    </tr>\n  </tbody>\n</table>\n</div>"
     },
     "metadata": {},
     "execution_count": 14
    }
   ],
   "source": [
    "# Assign proportions based on mmcb medium concentrations:\n",
    "# This is pretty subjective and makes a lot of assumptions about dissociation reactions of these medium components\n",
    "# (ie. what happens to Cysteine-HCL in the medium? The model doesn't use Cysteine-HCL in any reaction, but it's added intentionally, so it must be a source\n",
    "# of some variant of cysteine)\n",
    "peptone_columns = {\"conc_ppm_Bact_Peptone_L37\": 6500, \"conc_ppm_Proteose_Peptone_L85\": 0, \"conc_ppm_soya_peptone_L44\": 5000, \"conc_ppm_yeast_extract\": 3000}\n",
    "update = {'trp': 2500, '^ac': 6800, 'cys': 400}\n",
    "supplements = {'na1(e)': 750, 'cl(e)':750, 'pi(e)': 660, 'k(e)': 660, 'h(e)': 660, 'so4(e)': 660, 'mg2(e)': 660, 'ca2(e)': 33, 'nh4(e)': 1000, 'fe3(e)': 2750, 'cobalt2(e)': 190, 'cu2(e)': 3, 'h2o(e)': 1000000, 'for(e)': 3400}\n",
    "\n",
    "# Scale by peptone columns ~~~\n",
    "# peptone_columns: each of the components from the Oxoid table. For example, there are 6.5g/L of bacterial peptone in the media, which we've input as 6500 (ppm). \n",
    "# We'll use this to scale each of the corresponding columns to this g/L proportion:\n",
    "\n",
    "total_concentration = sum([sum(i.values()) for i in [peptone_columns, update, supplements]])\n",
    "for i in peptone_columns.keys():\n",
    "    scale_value = peptone_columns[i]/total_concentration\n",
    "    weights_full[i] = weights_full[i]*scale_value\n",
    "\n",
    "# Update ambiguous supplement metabolites ~~~\n",
    "# For the rest of the medium components, their concentrations will be added to a new column in the dataframe called \"supplements\"\n",
    "# Using the \"update\" dictionary, we'll search for the key (ie. 'trp', 'cys') that is present in our defined media\n",
    "# Collecting all of the metabolites corresponding to these substrings, each individual metabolite will be given an extra amount in the \"supplements\" column\n",
    "#\n",
    "# (Similar to before: if L-cysteine and L-cysteate are the two metabolites corresponding to the \"cys\" substring and there's a 400ppm source of \"cys\", each \n",
    "# metabolite will be assigned 200 (ppm) in the \"supplements\" column)\n",
    "\n",
    "# Note: '^ac' is used because there was a 6.8g/L source of \"acetate\". The hat is there to signify that we're looking for metabolites that start with 'ac' as to \n",
    "# not accidentally detect 'nac(e)'\n",
    "\n",
    "weights_full['supplements'] = 0\n",
    "for i in update.keys():\n",
    "    aa_list = weights_full.loc[weights_full[\"BiGG_ID\"].str.contains(i), \"BiGG_ID\"]\n",
    "    aa_count = len(aa_list)\n",
    "    proportion = update[i]/aa_count\n",
    "    for aa in aa_list:\n",
    "        weights_full.loc[weights_full[\"BiGG_ID\"] == aa, \"supplements\"] = proportion\n",
    "\n",
    "# Add supplements ~~~\n",
    "# Finally, directly add the concentrations of metabolites to the \"supplements\" column \n",
    "\n",
    "for i in supplements.keys():\n",
    "    weights_full.loc[weights_full[\"BiGG_ID\"] == i, \"supplements\"] = supplements[i]\n",
    "\n",
    "weights_full.head()"
   ]
  },
  {
   "cell_type": "code",
   "execution_count": 15,
   "metadata": {},
   "outputs": [
    {
     "output_type": "stream",
     "name": "stdout",
     "text": [
      "12\n"
     ]
    },
    {
     "output_type": "display_data",
     "data": {
      "text/plain": "                                                query    BiGG_ID        hit  mol_weight  conc_ppm_Bact_Peptone_L37  conc_ppm_Proteose_Peptone_L85  conc_ppm_soya_peptone_L44  conc_ppm_yeast_extract  supplements\n8                                            Adenine      ade(e)        190      135.13                        0.0                            0.0                        0.0                     0.0          0.0\n20                                      L-Asparagine    asn_L(e)       6267      132.12                        0.0                            0.0                        0.0                     0.0          0.0\n27  Capsular polysaccharide (F. prausnitzii, putat...  cps_fp(e)         NA     1000.00                        0.0                            0.0                        0.0                     0.0          0.0\n33                                     D-Glucosamine      gam(e)     439213      179.17                        0.0                            0.0                        0.0                     0.0          0.0\n34                                         D-Glucose      glc(e)       5793      180.16                        0.0                            0.0                        0.0                     0.0          0.0\n35                                     D-Glucuronate    glcur(e)      94715      194.14                        0.0                            0.0                        0.0                     0.0          0.0\n36                                       L-Glutamine    gln_L(e)       5961      146.14                        0.0                            0.0                        0.0                     0.0          0.0\n50                                           Guanine      gua(e)  135398634      151.13                        0.0                            0.0                        0.0                     0.0          0.0\n69                      exchange reaction for pectins    pect(e)         NA      194.14                        0.0                            0.0                        0.0                     0.0          0.0\n81  starch, structure 1 (1,6-{7[1,4-Glc], 4[1,4-Gl...  strch1(e)         NA      359.33                        0.0                            0.0                        0.0                     0.0          0.0\n82                                           Taurine     taur(e)       1123      125.15                        0.0                            0.0                        0.0                     0.0          0.0\n88                                          D-Xylose    xyl_D(e)     135191      150.13                        0.0                            0.0                        0.0                     0.0          0.0",
      "text/html": "<div>\n<style scoped>\n    .dataframe tbody tr th:only-of-type {\n        vertical-align: middle;\n    }\n\n    .dataframe tbody tr th {\n        vertical-align: top;\n    }\n\n    .dataframe thead th {\n        text-align: right;\n    }\n</style>\n<table border=\"1\" class=\"dataframe\">\n  <thead>\n    <tr style=\"text-align: right;\">\n      <th></th>\n      <th>query</th>\n      <th>BiGG_ID</th>\n      <th>hit</th>\n      <th>mol_weight</th>\n      <th>conc_ppm_Bact_Peptone_L37</th>\n      <th>conc_ppm_Proteose_Peptone_L85</th>\n      <th>conc_ppm_soya_peptone_L44</th>\n      <th>conc_ppm_yeast_extract</th>\n      <th>supplements</th>\n    </tr>\n  </thead>\n  <tbody>\n    <tr>\n      <th>8</th>\n      <td>Adenine</td>\n      <td>ade(e)</td>\n      <td>190</td>\n      <td>135.13</td>\n      <td>0.0</td>\n      <td>0.0</td>\n      <td>0.0</td>\n      <td>0.0</td>\n      <td>0.0</td>\n    </tr>\n    <tr>\n      <th>20</th>\n      <td>L-Asparagine</td>\n      <td>asn_L(e)</td>\n      <td>6267</td>\n      <td>132.12</td>\n      <td>0.0</td>\n      <td>0.0</td>\n      <td>0.0</td>\n      <td>0.0</td>\n      <td>0.0</td>\n    </tr>\n    <tr>\n      <th>27</th>\n      <td>Capsular polysaccharide (F. prausnitzii, putat...</td>\n      <td>cps_fp(e)</td>\n      <td>NA</td>\n      <td>1000.00</td>\n      <td>0.0</td>\n      <td>0.0</td>\n      <td>0.0</td>\n      <td>0.0</td>\n      <td>0.0</td>\n    </tr>\n    <tr>\n      <th>33</th>\n      <td>D-Glucosamine</td>\n      <td>gam(e)</td>\n      <td>439213</td>\n      <td>179.17</td>\n      <td>0.0</td>\n      <td>0.0</td>\n      <td>0.0</td>\n      <td>0.0</td>\n      <td>0.0</td>\n    </tr>\n    <tr>\n      <th>34</th>\n      <td>D-Glucose</td>\n      <td>glc(e)</td>\n      <td>5793</td>\n      <td>180.16</td>\n      <td>0.0</td>\n      <td>0.0</td>\n      <td>0.0</td>\n      <td>0.0</td>\n      <td>0.0</td>\n    </tr>\n    <tr>\n      <th>35</th>\n      <td>D-Glucuronate</td>\n      <td>glcur(e)</td>\n      <td>94715</td>\n      <td>194.14</td>\n      <td>0.0</td>\n      <td>0.0</td>\n      <td>0.0</td>\n      <td>0.0</td>\n      <td>0.0</td>\n    </tr>\n    <tr>\n      <th>36</th>\n      <td>L-Glutamine</td>\n      <td>gln_L(e)</td>\n      <td>5961</td>\n      <td>146.14</td>\n      <td>0.0</td>\n      <td>0.0</td>\n      <td>0.0</td>\n      <td>0.0</td>\n      <td>0.0</td>\n    </tr>\n    <tr>\n      <th>50</th>\n      <td>Guanine</td>\n      <td>gua(e)</td>\n      <td>135398634</td>\n      <td>151.13</td>\n      <td>0.0</td>\n      <td>0.0</td>\n      <td>0.0</td>\n      <td>0.0</td>\n      <td>0.0</td>\n    </tr>\n    <tr>\n      <th>69</th>\n      <td>exchange reaction for pectins</td>\n      <td>pect(e)</td>\n      <td>NA</td>\n      <td>194.14</td>\n      <td>0.0</td>\n      <td>0.0</td>\n      <td>0.0</td>\n      <td>0.0</td>\n      <td>0.0</td>\n    </tr>\n    <tr>\n      <th>81</th>\n      <td>starch, structure 1 (1,6-{7[1,4-Glc], 4[1,4-Gl...</td>\n      <td>strch1(e)</td>\n      <td>NA</td>\n      <td>359.33</td>\n      <td>0.0</td>\n      <td>0.0</td>\n      <td>0.0</td>\n      <td>0.0</td>\n      <td>0.0</td>\n    </tr>\n    <tr>\n      <th>82</th>\n      <td>Taurine</td>\n      <td>taur(e)</td>\n      <td>1123</td>\n      <td>125.15</td>\n      <td>0.0</td>\n      <td>0.0</td>\n      <td>0.0</td>\n      <td>0.0</td>\n      <td>0.0</td>\n    </tr>\n    <tr>\n      <th>88</th>\n      <td>D-Xylose</td>\n      <td>xyl_D(e)</td>\n      <td>135191</td>\n      <td>150.13</td>\n      <td>0.0</td>\n      <td>0.0</td>\n      <td>0.0</td>\n      <td>0.0</td>\n      <td>0.0</td>\n    </tr>\n  </tbody>\n</table>\n</div>"
     },
     "metadata": {}
    }
   ],
   "source": [
    "# There are still some 0's left in the medium, meaning that there are still some metabolites used in the reaction that don't have a concentration defined in\n",
    "# the medium from the literature (that I've been able to figure out) so this is where I've taken the mean value for each of the concentration columns\n",
    "# and used that to fill in any 0's in that column\n",
    "# This is a huge, baseless assumption; I think we might be better off manually determining which metabolites that have a concentration are similar to metabolites # that don't have a concentration.\n",
    "\n",
    "# Note: I don't think this would be a huge problem normally, but there are some metabolites here that are necessary for growth \n",
    "# according to the \"mandatory\" metabolites from earlier\n",
    "print(len(weights_full[weights_full.iloc[:,4:10].sum(axis=1) == 0]))\n",
    "display(weights_full[weights_full.iloc[:,4:10].sum(axis=1) == 0])\n",
    "\n",
    "undef_list = weights_full.loc[weights_full.iloc[:,4:10].sum(axis=1) == 0, \"BiGG_ID\"]\n",
    "fill_value = {}\n",
    "# Mean averaging for each of the columns:\n",
    "for media in weights_full.columns[4:]:\n",
    "    fill_value[media] = weights_full[media].mean()\n",
    "\n",
    "for met in undef_list:\n",
    "    for media in fill_value.keys():\n",
    "        weights_full.loc[weights_full['BiGG_ID'] == met, media] = fill_value[media]"
   ]
  },
  {
   "cell_type": "code",
   "execution_count": 16,
   "metadata": {},
   "outputs": [
    {
     "output_type": "execute_result",
     "data": {
      "text/plain": [
       "                       query     BiGG_ID       hit  mol_weight  conc_ppm_Bact_Peptone_L37  conc_ppm_Proteose_Peptone_L85  conc_ppm_soya_peptone_L44  conc_ppm_yeast_extract  supplements       g/L   mmol/mL\n",
       "0                L-cysteate     Lcyst(e)  23619007      168.15                  34.704264                            0.0                   8.523290                7.333246   133.333333  0.183894  0.001094\n",
       "1                 L-Cystine   Lcystin(e)     67678      240.30                  34.704264                            0.0                   8.523290                7.333246   133.333333  0.183894  0.000765\n",
       "2                   Acetate        ac(e)       175       59.04                  49.605690                            0.0                  32.874253               24.098164  1133.333333  1.239911  0.021001\n",
       "3      N-acetyl-L-aspartate     acasp(e)     65065      175.14                  95.018603                            0.0                  85.152493               51.163863  1133.333333  1.364668  0.007792\n",
       "4  N-Acetyl-D-galactosamine     acgal(e)     35717      221.21                  49.605690                            0.0                  32.874253               24.098164  1133.333333  1.239911  0.005605"
      ],
      "text/html": "<div>\n<style scoped>\n    .dataframe tbody tr th:only-of-type {\n        vertical-align: middle;\n    }\n\n    .dataframe tbody tr th {\n        vertical-align: top;\n    }\n\n    .dataframe thead th {\n        text-align: right;\n    }\n</style>\n<table border=\"1\" class=\"dataframe\">\n  <thead>\n    <tr style=\"text-align: right;\">\n      <th></th>\n      <th>query</th>\n      <th>BiGG_ID</th>\n      <th>hit</th>\n      <th>mol_weight</th>\n      <th>conc_ppm_Bact_Peptone_L37</th>\n      <th>conc_ppm_Proteose_Peptone_L85</th>\n      <th>conc_ppm_soya_peptone_L44</th>\n      <th>conc_ppm_yeast_extract</th>\n      <th>supplements</th>\n      <th>g/L</th>\n      <th>mmol/mL</th>\n    </tr>\n  </thead>\n  <tbody>\n    <tr>\n      <th>0</th>\n      <td>L-cysteate</td>\n      <td>Lcyst(e)</td>\n      <td>23619007</td>\n      <td>168.15</td>\n      <td>34.704264</td>\n      <td>0.0</td>\n      <td>8.523290</td>\n      <td>7.333246</td>\n      <td>133.333333</td>\n      <td>0.183894</td>\n      <td>0.001094</td>\n    </tr>\n    <tr>\n      <th>1</th>\n      <td>L-Cystine</td>\n      <td>Lcystin(e)</td>\n      <td>67678</td>\n      <td>240.30</td>\n      <td>34.704264</td>\n      <td>0.0</td>\n      <td>8.523290</td>\n      <td>7.333246</td>\n      <td>133.333333</td>\n      <td>0.183894</td>\n      <td>0.000765</td>\n    </tr>\n    <tr>\n      <th>2</th>\n      <td>Acetate</td>\n      <td>ac(e)</td>\n      <td>175</td>\n      <td>59.04</td>\n      <td>49.605690</td>\n      <td>0.0</td>\n      <td>32.874253</td>\n      <td>24.098164</td>\n      <td>1133.333333</td>\n      <td>1.239911</td>\n      <td>0.021001</td>\n    </tr>\n    <tr>\n      <th>3</th>\n      <td>N-acetyl-L-aspartate</td>\n      <td>acasp(e)</td>\n      <td>65065</td>\n      <td>175.14</td>\n      <td>95.018603</td>\n      <td>0.0</td>\n      <td>85.152493</td>\n      <td>51.163863</td>\n      <td>1133.333333</td>\n      <td>1.364668</td>\n      <td>0.007792</td>\n    </tr>\n    <tr>\n      <th>4</th>\n      <td>N-Acetyl-D-galactosamine</td>\n      <td>acgal(e)</td>\n      <td>35717</td>\n      <td>221.21</td>\n      <td>49.605690</td>\n      <td>0.0</td>\n      <td>32.874253</td>\n      <td>24.098164</td>\n      <td>1133.333333</td>\n      <td>1.239911</td>\n      <td>0.005605</td>\n    </tr>\n  </tbody>\n</table>\n</div>"
     },
     "metadata": {},
     "execution_count": 14
    }
   ],
   "source": [
    "# Making calculations to eventually get to flux:\n",
    "weights_full['g/L'] = weights_full.iloc[:,4:9].sum(axis=1)/1000 # ppm/1000 = g/L (roughly)\n",
    "weights_full['mmol/mL'] = weights_full['g/L']/weights_full['mol_weight'] # (g/L)/(molar mass) = mol/L == mmol/mL\n",
    "weights_full.head()"
   ]
  },
  {
   "cell_type": "code",
   "execution_count": 37,
   "metadata": {},
   "outputs": [],
   "source": [
    "# Cells per mL of medium: cells_per_ml = 1640992\n",
    "# file: FP_14.xlsx, sheet: Determination of Cell Count, excel cell: P4\n",
    "# updated: FP_14.xlsx, Determination of Cell Count, excell cell: P11\n",
    "cells_per_ml = 1001930111\n",
    "\n",
    "time = 80\n",
    "# gDw: based on EColi gDw\n",
    "# https://www.ncbi.nlm.nih.gov/pmc/articles/PMC106103/\n",
    "# 1172 fg EColi ~= 1172E-15 g\n",
    "gdw_per_cell = 1172E-15\n",
    "\n",
    "# Calculating flux per metabolite in the medium based on the reference equation (flux = mmol/gDw)\n",
    "weights_full['flux'] = weights_full['mmol/mL']/(cells_per_ml * gdw_per_cell * time)\n"
   ]
  },
  {
   "cell_type": "code",
   "execution_count": 38,
   "metadata": {},
   "outputs": [
    {
     "output_type": "stream",
     "name": "stdout",
     "text": [
      "mMCB\n"
     ]
    },
    {
     "output_type": "execute_result",
     "data": {
      "text/plain": [
       "<Solution 0.089 at 0x7f8b4d3c48b0>"
      ],
      "text/html": "<strong><em>Optimal</em> solution with objective value 0.089</strong><br><div>\n<style scoped>\n    .dataframe tbody tr th:only-of-type {\n        vertical-align: middle;\n    }\n\n    .dataframe tbody tr th {\n        vertical-align: top;\n    }\n\n    .dataframe thead th {\n        text-align: right;\n    }\n</style>\n<table border=\"1\" class=\"dataframe\">\n  <thead>\n    <tr style=\"text-align: right;\">\n      <th></th>\n      <th>fluxes</th>\n      <th>reduced_costs</th>\n    </tr>\n  </thead>\n  <tbody>\n    <tr>\n      <th>26DAPLLATi</th>\n      <td>0.037884</td>\n      <td>-1.577722e-30</td>\n    </tr>\n    <tr>\n      <th>3HAD100</th>\n      <td>0.092006</td>\n      <td>0.000000e+00</td>\n    </tr>\n    <tr>\n      <th>3HAD120</th>\n      <td>0.054843</td>\n      <td>-1.262177e-29</td>\n    </tr>\n    <tr>\n      <th>3HAD121</th>\n      <td>0.037163</td>\n      <td>-1.262177e-29</td>\n    </tr>\n    <tr>\n      <th>3HAD140</th>\n      <td>0.052317</td>\n      <td>0.000000e+00</td>\n    </tr>\n    <tr>\n      <th>...</th>\n      <td>...</td>\n      <td>...</td>\n    </tr>\n    <tr>\n      <th>XYLt2</th>\n      <td>0.000000</td>\n      <td>-3.338268e-16</td>\n    </tr>\n    <tr>\n      <th>YUMPS</th>\n      <td>0.000000</td>\n      <td>0.000000e+00</td>\n    </tr>\n    <tr>\n      <th>r0502</th>\n      <td>0.000000</td>\n      <td>0.000000e+00</td>\n    </tr>\n    <tr>\n      <th>r0839</th>\n      <td>0.001000</td>\n      <td>-5.084281e-16</td>\n    </tr>\n    <tr>\n      <th>sink_hpyr</th>\n      <td>0.000000</td>\n      <td>0.000000e+00</td>\n    </tr>\n  </tbody>\n</table>\n<p>1030 rows × 2 columns</p>\n</div>"
     },
     "metadata": {},
     "execution_count": 16
    }
   ],
   "source": [
    "# FINALLY\n",
    "# Use the \"flux\" column from the \"weights_full\" df to set the lower bound for each of the metabolites in the model \n",
    "print(\"mMCB\")\n",
    "for met in root_model.exchanges:\n",
    "    if '_o2(e)' in met.id:\n",
    "        root_model.reactions.get_by_id(met.id).lower_bound = 0\n",
    "    else:\n",
    "        root_model.reactions.get_by_id(met.id).lower_bound = -0.001\n",
    "\n",
    "for id in [\"EX_\"+metab for metab in list(weights_full['BiGG_ID'])]:\n",
    "    root_model.reactions.get_by_id(id).upper_bound = 1000\n",
    "    root_model.reactions.get_by_id(id).lower_bound = weights_full.loc[weights_full[\"BiGG_ID\"] == id.lstrip(\"EX_\"), \"flux\"].values[0]*-1\n",
    "root_model.objective = {root_model.reactions.get_by_id('Biomass_FP'): 1}\n",
    "root_model.optimize()"
   ]
  },
  {
   "cell_type": "code",
   "execution_count": 39,
   "metadata": {},
   "outputs": [
    {
     "output_type": "execute_result",
     "data": {
      "text/plain": [
       "2.1683617789587515e-08"
      ]
     },
     "metadata": {},
     "execution_count": 17
    }
   ],
   "source": [
    "root_model.slim_optimize()"
   ]
  },
  {
   "cell_type": "code",
   "execution_count": 18,
   "metadata": {},
   "outputs": [],
   "source": [
    "# Model outputs\n",
    "root_model.summary().to_frame().to_csv('mmcb_model_summary.csv')\n",
    "# root_model.summary().to_frame()"
   ]
  },
  {
   "cell_type": "code",
   "execution_count": 19,
   "metadata": {},
   "outputs": [],
   "source": [
    "# Post-mortem\n",
    "# Each metabolite in the model, its flux, and how much growth decreases when it's removed from the medium (one of the first steps)\n",
    "# Sorted by growth (descending), we can take a look at the \"most important\" metabolites and what their fluxes were in the medium\n",
    "# weights_full[['query','BiGG_ID','flux']].merge(growth_check_df, how=\"left\", left_on=\"BiGG_ID\", right_on=\"metab\").sort_values(by=\"BiGG_ID\")"
   ]
  },
  {
   "cell_type": "code",
   "execution_count": 20,
   "metadata": {},
   "outputs": [],
   "source": [
    "# Intended inputs\n",
    "weights_full[['BiGG_ID','flux']].to_csv('mmcb.csv')"
   ]
  },
  {
   "cell_type": "code",
   "execution_count": 21,
   "metadata": {},
   "outputs": [
    {
     "output_type": "execute_result",
     "data": {
      "text/plain": [
       "<Reaction EX_for(e) at 0x7f8b4e86b550>"
      ],
      "text/html": "\n        <table>\n            <tr>\n                <td><strong>Reaction identifier</strong></td><td>EX_for(e)</td>\n            </tr><tr>\n                <td><strong>Name</strong></td><td>Formate exchange</td>\n            </tr><tr>\n                <td><strong>Memory address</strong></td>\n                <td>0x07f8b4e86b550</td>\n            </tr><tr>\n                <td><strong>Stoichiometry</strong></td>\n                <td>\n                    <p style='text-align:right'>for[e] <=></p>\n                    <p style='text-align:right'>Formate <=></p>\n                </td>\n            </tr><tr>\n                <td><strong>GPR</strong></td><td></td>\n            </tr><tr>\n                <td><strong>Lower bound</strong></td><td>-0.829185960117312</td>\n            </tr><tr>\n                <td><strong>Upper bound</strong></td><td>1000</td>\n            </tr>\n        </table>\n        "
     },
     "metadata": {},
     "execution_count": 21
    }
   ],
   "source": [
    "root_model.reactions.get_by_id('EX_for(e)')"
   ]
  },
  {
   "cell_type": "code",
   "execution_count": 24,
   "metadata": {},
   "outputs": [
    {
     "output_type": "stream",
     "name": "stdout",
     "text": [
      "EX_ade(e) -0.9128808238059144 -0.9128808238059144\nEX_btn(e) -1.2192264610729274e-10 -1.2192264610729274e-10\nEX_cellb(e) -0.001 -0.001\nEX_fru(e) -0.001 -0.001\nEX_fum(e) -0.001 -0.001\nEX_glc(e) -0.68471128841526 -0.68471128841526\nEX_ins(e) -0.001 -0.001\nEX_inulin(e) -0.001 -0.001\nEX_mal_L(e) -0.001 -0.001\nEX_na1(e) -0.3892707342126576 -0.3892707342126576\nEX_ser_L(e) -0.031154187322075883 -0.031154187322075883\n"
     ]
    }
   ],
   "source": [
    "fba=root_model.optimize()\n",
    "for rxn in root_model.exchanges:\n",
    "    #print(rxn.id,rxn.lower_bound,fba.fluxes[rxn.id])\n",
    "    if fba.fluxes[rxn.id]>= rxn.lower_bound and fba.fluxes[rxn.id]<=rxn.lower_bound-0.01*rxn.lower_bound and rxn.lower_bound<0:\n",
    "        print(rxn.id,rxn.lower_bound, fba.fluxes[rxn.id] )"
   ]
  },
  {
   "cell_type": "code",
   "execution_count": 33,
   "metadata": {},
   "outputs": [],
   "source": [
    "# Manually extracted outputs\n",
    "csv_list = []\n",
    "for rxn in root_model.exchanges:\n",
    "    csv_dict = {}\n",
    "    csv_dict[\"metabolite\"] = rxn.id\n",
    "    csv_dict[\"lower_bound\"] = rxn.lower_bound\n",
    "    csv_dict[\"upper_bound\"] = rxn.upper_bound\n",
    "    csv_dict[\"flux\"] = rxn.flux\n",
    "    csv_list.append(csv_dict)\n",
    "\n",
    "pd.DataFrame(csv_list).to_csv(\"mmcb_file_final.csv\")"
   ]
  },
  {
   "cell_type": "code",
   "execution_count": null,
   "metadata": {},
   "outputs": [],
   "source": [
    "mandatory.to_csv('mandatory_mmcb.csv', index=False)"
   ]
  }
 ]
}