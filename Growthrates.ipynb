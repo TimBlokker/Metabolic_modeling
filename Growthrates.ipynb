{
 "cells": [
  {
   "cell_type": "markdown",
   "metadata": {},
   "source": [
    "## Install package growthrates and the jupyter notebook extension for R"
   ]
  },
  {
   "cell_type": "code",
   "execution_count": 1,
   "metadata": {},
   "outputs": [
    {
     "name": "stderr",
     "output_type": "stream",
     "text": [
      "Warning message:\n",
      "\"package 'growthrates' was built under R version 3.6.3\"\n",
      "Loading required package: lattice\n",
      "\n",
      "Warning message:\n",
      "\"package 'lattice' was built under R version 3.6.3\"\n",
      "Loading required package: deSolve\n",
      "\n",
      "Warning message:\n",
      "\"package 'deSolve' was built under R version 3.6.3\"\n",
      "Warning message:\n",
      "\"package 'lubridate' was built under R version 3.6.3\"\n",
      "\n",
      "Attaching package: 'lubridate'\n",
      "\n",
      "\n",
      "The following objects are masked from 'package:base':\n",
      "\n",
      "    date, intersect, setdiff, union\n",
      "\n",
      "\n",
      "Warning message:\n",
      "\"package 'ggplot2' was built under R version 3.6.3\"\n",
      "Warning message:\n",
      "\"package 'reshape2' was built under R version 3.6.3\"\n"
     ]
    }
   ],
   "source": [
    "#install.packages('IRkernel')\n",
    "#IRkernel::installspec()  # to register the kernel in the current R installation\n",
    "#install.packages(\"growthrates\")\n",
    "library(growthrates)\n",
    "library(lubridate)\n",
    "library(ggplot2)\n",
    "library(reshape2)"
   ]
  },
  {
   "cell_type": "markdown",
   "metadata": {},
   "source": [
    "## Load the data and create dataframe for each medium"
   ]
  },
  {
   "cell_type": "code",
   "execution_count": 2,
   "metadata": {},
   "outputs": [],
   "source": [
    "rcm_mgam<-read.table(\"Data/FECALIBACTERIUM PRAUSNITZII_mGAM_rcm\", header = T)\n",
    "time_temp<-read.table(\"Data/time_temp\", header=T)\n",
    "time<-as.numeric(lubridate::as.difftime(as.character(time_temp[,1])))\n",
    "rcm_mgam<-cbind(time,rcm_mgam)"
   ]
  },
  {
   "cell_type": "code",
   "execution_count": 3,
   "metadata": {},
   "outputs": [
    {
     "data": {
      "text/html": [
       "<table>\n",
       "<caption>A data.frame: 6 × 7</caption>\n",
       "<thead>\n",
       "\t<tr><th></th><th scope=col>time</th><th scope=col>rcm1</th><th scope=col>rcm2</th><th scope=col>rcm3</th><th scope=col>mgam1</th><th scope=col>mgam2</th><th scope=col>mgam3</th></tr>\n",
       "\t<tr><th></th><th scope=col>&lt;dbl&gt;</th><th scope=col>&lt;dbl&gt;</th><th scope=col>&lt;dbl&gt;</th><th scope=col>&lt;dbl&gt;</th><th scope=col>&lt;dbl&gt;</th><th scope=col>&lt;dbl&gt;</th><th scope=col>&lt;dbl&gt;</th></tr>\n",
       "</thead>\n",
       "<tbody>\n",
       "\t<tr><th scope=row>1</th><td>  2.066667</td><td>0.135</td><td>0.158</td><td>0.154</td><td>0.075</td><td>0.068</td><td>0.054</td></tr>\n",
       "\t<tr><th scope=row>2</th><td> 62.066667</td><td>0.176</td><td>0.220</td><td>0.219</td><td>0.094</td><td>0.091</td><td>0.072</td></tr>\n",
       "\t<tr><th scope=row>3</th><td>122.066667</td><td>0.262</td><td>0.320</td><td>0.281</td><td>0.126</td><td>0.127</td><td>0.097</td></tr>\n",
       "\t<tr><th scope=row>4</th><td>182.066667</td><td>0.321</td><td>0.390</td><td>0.375</td><td>0.152</td><td>0.157</td><td>0.115</td></tr>\n",
       "\t<tr><th scope=row>5</th><td>242.066667</td><td>0.400</td><td>0.484</td><td>0.471</td><td>0.170</td><td>0.177</td><td>0.133</td></tr>\n",
       "\t<tr><th scope=row>6</th><td>302.066667</td><td>0.488</td><td>0.564</td><td>0.579</td><td>0.203</td><td>0.212</td><td>0.180</td></tr>\n",
       "</tbody>\n",
       "</table>\n"
      ],
      "text/latex": [
       "A data.frame: 6 × 7\n",
       "\\begin{tabular}{r|lllllll}\n",
       "  & time & rcm1 & rcm2 & rcm3 & mgam1 & mgam2 & mgam3\\\\\n",
       "  & <dbl> & <dbl> & <dbl> & <dbl> & <dbl> & <dbl> & <dbl>\\\\\n",
       "\\hline\n",
       "\t1 &   2.066667 & 0.135 & 0.158 & 0.154 & 0.075 & 0.068 & 0.054\\\\\n",
       "\t2 &  62.066667 & 0.176 & 0.220 & 0.219 & 0.094 & 0.091 & 0.072\\\\\n",
       "\t3 & 122.066667 & 0.262 & 0.320 & 0.281 & 0.126 & 0.127 & 0.097\\\\\n",
       "\t4 & 182.066667 & 0.321 & 0.390 & 0.375 & 0.152 & 0.157 & 0.115\\\\\n",
       "\t5 & 242.066667 & 0.400 & 0.484 & 0.471 & 0.170 & 0.177 & 0.133\\\\\n",
       "\t6 & 302.066667 & 0.488 & 0.564 & 0.579 & 0.203 & 0.212 & 0.180\\\\\n",
       "\\end{tabular}\n"
      ],
      "text/markdown": [
       "\n",
       "A data.frame: 6 × 7\n",
       "\n",
       "| <!--/--> | time &lt;dbl&gt; | rcm1 &lt;dbl&gt; | rcm2 &lt;dbl&gt; | rcm3 &lt;dbl&gt; | mgam1 &lt;dbl&gt; | mgam2 &lt;dbl&gt; | mgam3 &lt;dbl&gt; |\n",
       "|---|---|---|---|---|---|---|---|\n",
       "| 1 |   2.066667 | 0.135 | 0.158 | 0.154 | 0.075 | 0.068 | 0.054 |\n",
       "| 2 |  62.066667 | 0.176 | 0.220 | 0.219 | 0.094 | 0.091 | 0.072 |\n",
       "| 3 | 122.066667 | 0.262 | 0.320 | 0.281 | 0.126 | 0.127 | 0.097 |\n",
       "| 4 | 182.066667 | 0.321 | 0.390 | 0.375 | 0.152 | 0.157 | 0.115 |\n",
       "| 5 | 242.066667 | 0.400 | 0.484 | 0.471 | 0.170 | 0.177 | 0.133 |\n",
       "| 6 | 302.066667 | 0.488 | 0.564 | 0.579 | 0.203 | 0.212 | 0.180 |\n",
       "\n"
      ],
      "text/plain": [
       "  time       rcm1  rcm2  rcm3  mgam1 mgam2 mgam3\n",
       "1   2.066667 0.135 0.158 0.154 0.075 0.068 0.054\n",
       "2  62.066667 0.176 0.220 0.219 0.094 0.091 0.072\n",
       "3 122.066667 0.262 0.320 0.281 0.126 0.127 0.097\n",
       "4 182.066667 0.321 0.390 0.375 0.152 0.157 0.115\n",
       "5 242.066667 0.400 0.484 0.471 0.170 0.177 0.133\n",
       "6 302.066667 0.488 0.564 0.579 0.203 0.212 0.180"
      ]
     },
     "metadata": {},
     "output_type": "display_data"
    },
    {
     "data": {
      "text/html": [
       "<table>\n",
       "<caption>A data.frame: 6 × 7</caption>\n",
       "<thead>\n",
       "\t<tr><th></th><th scope=col>time</th><th scope=col>rcm1</th><th scope=col>rcm2</th><th scope=col>rcm3</th><th scope=col>mgam1</th><th scope=col>mgam2</th><th scope=col>mgam3</th></tr>\n",
       "\t<tr><th></th><th scope=col>&lt;dbl&gt;</th><th scope=col>&lt;dbl&gt;</th><th scope=col>&lt;dbl&gt;</th><th scope=col>&lt;dbl&gt;</th><th scope=col>&lt;dbl&gt;</th><th scope=col>&lt;dbl&gt;</th><th scope=col>&lt;dbl&gt;</th></tr>\n",
       "</thead>\n",
       "<tbody>\n",
       "\t<tr><th scope=row>18</th><td>1022.067</td><td>0.838</td><td>1.313</td><td>1.353</td><td>0.165</td><td>0.179</td><td>0.131</td></tr>\n",
       "\t<tr><th scope=row>19</th><td>1082.067</td><td>0.966</td><td>1.349</td><td>1.385</td><td>0.163</td><td>0.179</td><td>0.131</td></tr>\n",
       "\t<tr><th scope=row>20</th><td>1142.067</td><td>1.002</td><td>1.344</td><td>1.402</td><td>0.160</td><td>0.178</td><td>0.130</td></tr>\n",
       "\t<tr><th scope=row>21</th><td>1202.067</td><td>1.031</td><td>1.341</td><td>1.394</td><td>0.158</td><td>0.176</td><td>0.128</td></tr>\n",
       "\t<tr><th scope=row>22</th><td>1262.067</td><td>1.252</td><td>1.326</td><td>1.372</td><td>0.157</td><td>0.175</td><td>0.127</td></tr>\n",
       "\t<tr><th scope=row>23</th><td>1322.067</td><td>1.244</td><td>1.320</td><td>1.357</td><td>0.152</td><td>0.170</td><td>0.123</td></tr>\n",
       "</tbody>\n",
       "</table>\n"
      ],
      "text/latex": [
       "A data.frame: 6 × 7\n",
       "\\begin{tabular}{r|lllllll}\n",
       "  & time & rcm1 & rcm2 & rcm3 & mgam1 & mgam2 & mgam3\\\\\n",
       "  & <dbl> & <dbl> & <dbl> & <dbl> & <dbl> & <dbl> & <dbl>\\\\\n",
       "\\hline\n",
       "\t18 & 1022.067 & 0.838 & 1.313 & 1.353 & 0.165 & 0.179 & 0.131\\\\\n",
       "\t19 & 1082.067 & 0.966 & 1.349 & 1.385 & 0.163 & 0.179 & 0.131\\\\\n",
       "\t20 & 1142.067 & 1.002 & 1.344 & 1.402 & 0.160 & 0.178 & 0.130\\\\\n",
       "\t21 & 1202.067 & 1.031 & 1.341 & 1.394 & 0.158 & 0.176 & 0.128\\\\\n",
       "\t22 & 1262.067 & 1.252 & 1.326 & 1.372 & 0.157 & 0.175 & 0.127\\\\\n",
       "\t23 & 1322.067 & 1.244 & 1.320 & 1.357 & 0.152 & 0.170 & 0.123\\\\\n",
       "\\end{tabular}\n"
      ],
      "text/markdown": [
       "\n",
       "A data.frame: 6 × 7\n",
       "\n",
       "| <!--/--> | time &lt;dbl&gt; | rcm1 &lt;dbl&gt; | rcm2 &lt;dbl&gt; | rcm3 &lt;dbl&gt; | mgam1 &lt;dbl&gt; | mgam2 &lt;dbl&gt; | mgam3 &lt;dbl&gt; |\n",
       "|---|---|---|---|---|---|---|---|\n",
       "| 18 | 1022.067 | 0.838 | 1.313 | 1.353 | 0.165 | 0.179 | 0.131 |\n",
       "| 19 | 1082.067 | 0.966 | 1.349 | 1.385 | 0.163 | 0.179 | 0.131 |\n",
       "| 20 | 1142.067 | 1.002 | 1.344 | 1.402 | 0.160 | 0.178 | 0.130 |\n",
       "| 21 | 1202.067 | 1.031 | 1.341 | 1.394 | 0.158 | 0.176 | 0.128 |\n",
       "| 22 | 1262.067 | 1.252 | 1.326 | 1.372 | 0.157 | 0.175 | 0.127 |\n",
       "| 23 | 1322.067 | 1.244 | 1.320 | 1.357 | 0.152 | 0.170 | 0.123 |\n",
       "\n"
      ],
      "text/plain": [
       "   time     rcm1  rcm2  rcm3  mgam1 mgam2 mgam3\n",
       "18 1022.067 0.838 1.313 1.353 0.165 0.179 0.131\n",
       "19 1082.067 0.966 1.349 1.385 0.163 0.179 0.131\n",
       "20 1142.067 1.002 1.344 1.402 0.160 0.178 0.130\n",
       "21 1202.067 1.031 1.341 1.394 0.158 0.176 0.128\n",
       "22 1262.067 1.252 1.326 1.372 0.157 0.175 0.127\n",
       "23 1322.067 1.244 1.320 1.357 0.152 0.170 0.123"
      ]
     },
     "metadata": {},
     "output_type": "display_data"
    }
   ],
   "source": [
    "head(rcm_mgam)\n",
    "tail(rcm_mgam) #last time point: 1322.067 minutes (22 hours)"
   ]
  },
  {
   "cell_type": "markdown",
   "metadata": {},
   "source": [
    "## RCM"
   ]
  },
  {
   "cell_type": "markdown",
   "metadata": {},
   "source": [
    "Bring data in high format using melt():"
   ]
  },
  {
   "cell_type": "code",
   "execution_count": 4,
   "metadata": {},
   "outputs": [
    {
     "data": {
      "text/html": [
       "<table>\n",
       "<caption>A data.frame: 6 × 3</caption>\n",
       "<thead>\n",
       "\t<tr><th></th><th scope=col>time</th><th scope=col>variable</th><th scope=col>value</th></tr>\n",
       "\t<tr><th></th><th scope=col>&lt;dbl&gt;</th><th scope=col>&lt;fct&gt;</th><th scope=col>&lt;dbl&gt;</th></tr>\n",
       "</thead>\n",
       "<tbody>\n",
       "\t<tr><th scope=row>1</th><td>  2.066667</td><td>rcm1</td><td>0.135</td></tr>\n",
       "\t<tr><th scope=row>2</th><td> 62.066667</td><td>rcm1</td><td>0.176</td></tr>\n",
       "\t<tr><th scope=row>3</th><td>122.066667</td><td>rcm1</td><td>0.262</td></tr>\n",
       "\t<tr><th scope=row>4</th><td>182.066667</td><td>rcm1</td><td>0.321</td></tr>\n",
       "\t<tr><th scope=row>5</th><td>242.066667</td><td>rcm1</td><td>0.400</td></tr>\n",
       "\t<tr><th scope=row>6</th><td>302.066667</td><td>rcm1</td><td>0.488</td></tr>\n",
       "</tbody>\n",
       "</table>\n"
      ],
      "text/latex": [
       "A data.frame: 6 × 3\n",
       "\\begin{tabular}{r|lll}\n",
       "  & time & variable & value\\\\\n",
       "  & <dbl> & <fct> & <dbl>\\\\\n",
       "\\hline\n",
       "\t1 &   2.066667 & rcm1 & 0.135\\\\\n",
       "\t2 &  62.066667 & rcm1 & 0.176\\\\\n",
       "\t3 & 122.066667 & rcm1 & 0.262\\\\\n",
       "\t4 & 182.066667 & rcm1 & 0.321\\\\\n",
       "\t5 & 242.066667 & rcm1 & 0.400\\\\\n",
       "\t6 & 302.066667 & rcm1 & 0.488\\\\\n",
       "\\end{tabular}\n"
      ],
      "text/markdown": [
       "\n",
       "A data.frame: 6 × 3\n",
       "\n",
       "| <!--/--> | time &lt;dbl&gt; | variable &lt;fct&gt; | value &lt;dbl&gt; |\n",
       "|---|---|---|---|\n",
       "| 1 |   2.066667 | rcm1 | 0.135 |\n",
       "| 2 |  62.066667 | rcm1 | 0.176 |\n",
       "| 3 | 122.066667 | rcm1 | 0.262 |\n",
       "| 4 | 182.066667 | rcm1 | 0.321 |\n",
       "| 5 | 242.066667 | rcm1 | 0.400 |\n",
       "| 6 | 302.066667 | rcm1 | 0.488 |\n",
       "\n"
      ],
      "text/plain": [
       "  time       variable value\n",
       "1   2.066667 rcm1     0.135\n",
       "2  62.066667 rcm1     0.176\n",
       "3 122.066667 rcm1     0.262\n",
       "4 182.066667 rcm1     0.321\n",
       "5 242.066667 rcm1     0.400\n",
       "6 302.066667 rcm1     0.488"
      ]
     },
     "metadata": {},
     "output_type": "display_data"
    }
   ],
   "source": [
    "rcm_high <- melt(rcm_mgam[,1:4], id.vars=\"time\")\n",
    "head(rcm_high)"
   ]
  },
  {
   "cell_type": "code",
   "execution_count": 5,
   "metadata": {},
   "outputs": [
    {
     "data": {
      "image/png": "[encoded data removed]",
      "text/plain": [
       "plot without title"
      ]
     },
     "metadata": {
      "image/png": {
       "height": 420,
       "width": 420
      }
     },
     "output_type": "display_data"
    }
   ],
   "source": [
    "ggplot2::theme_set(theme_classic())\n",
    "ggrcm<-ggplot(rcm_high, aes(x = time, y = value, col=variable)) + geom_point()+ geom_line(alpha=0.7)\n",
    "ggrcm"
   ]
  },
  {
   "cell_type": "markdown",
   "metadata": {},
   "source": [
    "## MGAM"
   ]
  },
  {
   "cell_type": "markdown",
   "metadata": {},
   "source": [
    "Again bring in high format and plot the growth"
   ]
  },
  {
   "cell_type": "code",
   "execution_count": 6,
   "metadata": {},
   "outputs": [
    {
     "data": {
      "text/html": [
       "<table>\n",
       "<caption>A data.frame: 6 × 3</caption>\n",
       "<thead>\n",
       "\t<tr><th></th><th scope=col>time</th><th scope=col>variable</th><th scope=col>value</th></tr>\n",
       "\t<tr><th></th><th scope=col>&lt;dbl&gt;</th><th scope=col>&lt;fct&gt;</th><th scope=col>&lt;dbl&gt;</th></tr>\n",
       "</thead>\n",
       "<tbody>\n",
       "\t<tr><th scope=row>1</th><td>  2.066667</td><td>mgam1</td><td>0.075</td></tr>\n",
       "\t<tr><th scope=row>2</th><td> 62.066667</td><td>mgam1</td><td>0.094</td></tr>\n",
       "\t<tr><th scope=row>3</th><td>122.066667</td><td>mgam1</td><td>0.126</td></tr>\n",
       "\t<tr><th scope=row>4</th><td>182.066667</td><td>mgam1</td><td>0.152</td></tr>\n",
       "\t<tr><th scope=row>5</th><td>242.066667</td><td>mgam1</td><td>0.170</td></tr>\n",
       "\t<tr><th scope=row>6</th><td>302.066667</td><td>mgam1</td><td>0.203</td></tr>\n",
       "</tbody>\n",
       "</table>\n"
      ],
      "text/latex": [
       "A data.frame: 6 × 3\n",
       "\\begin{tabular}{r|lll}\n",
       "  & time & variable & value\\\\\n",
       "  & <dbl> & <fct> & <dbl>\\\\\n",
       "\\hline\n",
       "\t1 &   2.066667 & mgam1 & 0.075\\\\\n",
       "\t2 &  62.066667 & mgam1 & 0.094\\\\\n",
       "\t3 & 122.066667 & mgam1 & 0.126\\\\\n",
       "\t4 & 182.066667 & mgam1 & 0.152\\\\\n",
       "\t5 & 242.066667 & mgam1 & 0.170\\\\\n",
       "\t6 & 302.066667 & mgam1 & 0.203\\\\\n",
       "\\end{tabular}\n"
      ],
      "text/markdown": [
       "\n",
       "A data.frame: 6 × 3\n",
       "\n",
       "| <!--/--> | time &lt;dbl&gt; | variable &lt;fct&gt; | value &lt;dbl&gt; |\n",
       "|---|---|---|---|\n",
       "| 1 |   2.066667 | mgam1 | 0.075 |\n",
       "| 2 |  62.066667 | mgam1 | 0.094 |\n",
       "| 3 | 122.066667 | mgam1 | 0.126 |\n",
       "| 4 | 182.066667 | mgam1 | 0.152 |\n",
       "| 5 | 242.066667 | mgam1 | 0.170 |\n",
       "| 6 | 302.066667 | mgam1 | 0.203 |\n",
       "\n"
      ],
      "text/plain": [
       "  time       variable value\n",
       "1   2.066667 mgam1    0.075\n",
       "2  62.066667 mgam1    0.094\n",
       "3 122.066667 mgam1    0.126\n",
       "4 182.066667 mgam1    0.152\n",
       "5 242.066667 mgam1    0.170\n",
       "6 302.066667 mgam1    0.203"
      ]
     },
     "metadata": {},
     "output_type": "display_data"
    }
   ],
   "source": [
    "mgam_high <- melt(rcm_mgam[,c(1,5:7)], id.vars=\"time\")\n",
    "head(mgam_high)"
   ]
  },
  {
   "cell_type": "code",
   "execution_count": 7,
   "metadata": {},
   "outputs": [
    {
     "data": {
      "image/png": "[encoded data removed]",
      "text/plain": [
       "plot without title"
      ]
     },
     "metadata": {
      "image/png": {
       "height": 420,
       "width": 420
      }
     },
     "output_type": "display_data"
    }
   ],
   "source": [
    "ggrcm<-ggplot(mgam_high, aes(x = time, y = value, col=variable)) + geom_point(alpha=0.7) +geom_line()\n",
    "ggrcm"
   ]
  },
  {
   "cell_type": "markdown",
   "metadata": {},
   "source": [
    "## Max Growthrate using Growthrate package"
   ]
  },
  {
   "cell_type": "code",
   "execution_count": 8,
   "metadata": {},
   "outputs": [
    {
     "data": {
      "image/png": "[encoded data removed]",
      "text/plain": [
       "plot without title"
      ]
     },
     "metadata": {
      "image/png": {
       "height": 420,
       "width": 420
      }
     },
     "output_type": "display_data"
    }
   ],
   "source": [
    "fit <- fit_easylinear(rcm_mgam$time, rcm_mgam$rcm1)\n",
    "par(mfrow = c(1, 2))\n",
    "plot(fit, log = \"y\")\n",
    "plot(fit)"
   ]
  },
  {
   "cell_type": "code",
   "execution_count": 9,
   "metadata": {},
   "outputs": [
    {
     "data": {
      "text/html": [
       "<style>\n",
       ".dl-inline {width: auto; margin:0; padding: 0}\n",
       ".dl-inline>dt, .dl-inline>dd {float: none; width: auto; display: inline-block}\n",
       ".dl-inline>dt::after {content: \":\\0020\"; padding-right: .5ex}\n",
       ".dl-inline>dt:not(:first-of-type) {padding-left: .5ex}\n",
       "</style><dl class=dl-inline><dt>y0</dt><dd>0.135</dd><dt>y0_lm</dt><dd>0.136617063116266</dd><dt>mumax</dt><dd>0.00462222777571828</dd><dt>lag</dt><dd>-2.57604654691509</dd></dl>\n"
      ],
      "text/latex": [
       "\\begin{description*}\n",
       "\\item[y0] 0.135\n",
       "\\item[y0\\textbackslash{}\\_lm] 0.136617063116266\n",
       "\\item[mumax] 0.00462222777571828\n",
       "\\item[lag] -2.57604654691509\n",
       "\\end{description*}\n"
      ],
      "text/markdown": [
       "y0\n",
       ":   0.135y0_lm\n",
       ":   0.136617063116266mumax\n",
       ":   0.00462222777571828lag\n",
       ":   -2.57604654691509\n",
       "\n"
      ],
      "text/plain": [
       "          y0        y0_lm        mumax          lag \n",
       " 0.135000000  0.136617063  0.004622228 -2.576046547 "
      ]
     },
     "metadata": {},
     "output_type": "display_data"
    },
    {
     "data": {
      "text/html": [
       "<strong>r2:</strong> 0.985522939641054"
      ],
      "text/latex": [
       "\\textbf{r2:} 0.985522939641054"
      ],
      "text/markdown": [
       "**r2:** 0.985522939641054"
      ],
      "text/plain": [
       "       r2 \n",
       "0.9855229 "
      ]
     },
     "metadata": {},
     "output_type": "display_data"
    }
   ],
   "source": [
    "coef(fit)      # exponential growth parameters\n",
    "rsquared(fit)"
   ]
  },
  {
   "cell_type": "markdown",
   "metadata": {},
   "source": [
    "## Extension to entire dataset"
   ]
  },
  {
   "cell_type": "code",
   "execution_count": 10,
   "metadata": {},
   "outputs": [
    {
     "data": {
      "text/html": [
       "<table>\n",
       "<caption>A matrix: 4 × 6 of type dbl</caption>\n",
       "<thead>\n",
       "\t<tr><th></th><th scope=col>rcm1</th><th scope=col>rcm2</th><th scope=col>rcm3</th><th scope=col>mgam1</th><th scope=col>mgam2</th><th scope=col>mgam3</th></tr>\n",
       "</thead>\n",
       "<tbody>\n",
       "\t<tr><th scope=row>y0</th><td> 0.135000000</td><td> 0.158000000</td><td> 0.154000000</td><td> 0.075000000</td><td>  0.068000000</td><td>  0.054000000</td></tr>\n",
       "\t<tr><th scope=row>y0_lm</th><td> 0.136617063</td><td> 0.164444184</td><td> 0.158371863</td><td> 0.076754719</td><td>  0.070894095</td><td>  0.056435982</td></tr>\n",
       "\t<tr><th scope=row>mumax</th><td> 0.004622228</td><td> 0.004685832</td><td> 0.004622775</td><td> 0.003528677</td><td>  0.004097784</td><td>  0.003784994</td></tr>\n",
       "\t<tr><th scope=row>lag</th><td>-2.576046547</td><td>-8.531286426</td><td>-6.055502862</td><td>-6.553946330</td><td>-10.171214163</td><td>-11.657319220</td></tr>\n",
       "</tbody>\n",
       "</table>\n"
      ],
      "text/latex": [
       "A matrix: 4 × 6 of type dbl\n",
       "\\begin{tabular}{r|llllll}\n",
       "  & rcm1 & rcm2 & rcm3 & mgam1 & mgam2 & mgam3\\\\\n",
       "\\hline\n",
       "\ty0 &  0.135000000 &  0.158000000 &  0.154000000 &  0.075000000 &   0.068000000 &   0.054000000\\\\\n",
       "\ty0\\_lm &  0.136617063 &  0.164444184 &  0.158371863 &  0.076754719 &   0.070894095 &   0.056435982\\\\\n",
       "\tmumax &  0.004622228 &  0.004685832 &  0.004622775 &  0.003528677 &   0.004097784 &   0.003784994\\\\\n",
       "\tlag & -2.576046547 & -8.531286426 & -6.055502862 & -6.553946330 & -10.171214163 & -11.657319220\\\\\n",
       "\\end{tabular}\n"
      ],
      "text/markdown": [
       "\n",
       "A matrix: 4 × 6 of type dbl\n",
       "\n",
       "| <!--/--> | rcm1 | rcm2 | rcm3 | mgam1 | mgam2 | mgam3 |\n",
       "|---|---|---|---|---|---|---|\n",
       "| y0 |  0.135000000 |  0.158000000 |  0.154000000 |  0.075000000 |   0.068000000 |   0.054000000 |\n",
       "| y0_lm |  0.136617063 |  0.164444184 |  0.158371863 |  0.076754719 |   0.070894095 |   0.056435982 |\n",
       "| mumax |  0.004622228 |  0.004685832 |  0.004622775 |  0.003528677 |   0.004097784 |   0.003784994 |\n",
       "| lag | -2.576046547 | -8.531286426 | -6.055502862 | -6.553946330 | -10.171214163 | -11.657319220 |\n",
       "\n"
      ],
      "text/plain": [
       "      rcm1         rcm2         rcm3         mgam1        mgam2        \n",
       "y0     0.135000000  0.158000000  0.154000000  0.075000000   0.068000000\n",
       "y0_lm  0.136617063  0.164444184  0.158371863  0.076754719   0.070894095\n",
       "mumax  0.004622228  0.004685832  0.004622775  0.003528677   0.004097784\n",
       "lag   -2.576046547 -8.531286426 -6.055502862 -6.553946330 -10.171214163\n",
       "      mgam3        \n",
       "y0      0.054000000\n",
       "y0_lm   0.056435982\n",
       "mumax   0.003784994\n",
       "lag   -11.657319220"
      ]
     },
     "metadata": {},
     "output_type": "display_data"
    }
   ],
   "source": [
    "rcm_mgam_fitted<-apply(rcm_mgam[,2:7],MARGIN=2, function(x) fit_easylinear(rcm_mgam[,1], x))\n",
    "coef.list<-sapply(rcm_mgam_fitted, function(x) coef(x))\n",
    "coef.list"
   ]
  },
  {
   "cell_type": "code",
   "execution_count": 11,
   "metadata": {},
   "outputs": [
    {
     "data": {
      "text/html": [
       "<style>\n",
       ".dl-inline {width: auto; margin:0; padding: 0}\n",
       ".dl-inline>dt, .dl-inline>dd {float: none; width: auto; display: inline-block}\n",
       ".dl-inline>dt::after {content: \":\\0020\"; padding-right: .5ex}\n",
       ".dl-inline>dt:not(:first-of-type) {padding-left: .5ex}\n",
       "</style><dl class=dl-inline><dt>rcm1</dt><dd>0.00462222777571829</dd><dt>rcm2</dt><dd>0.00468583156691777</dd><dt>rcm3</dt><dd>0.00462277546559915</dd></dl>\n"
      ],
      "text/latex": [
       "\\begin{description*}\n",
       "\\item[rcm1] 0.00462222777571829\n",
       "\\item[rcm2] 0.00468583156691777\n",
       "\\item[rcm3] 0.00462277546559915\n",
       "\\end{description*}\n"
      ],
      "text/markdown": [
       "rcm1\n",
       ":   0.00462222777571829rcm2\n",
       ":   0.00468583156691777rcm3\n",
       ":   0.00462277546559915\n",
       "\n"
      ],
      "text/plain": [
       "       rcm1        rcm2        rcm3 \n",
       "0.004622228 0.004685832 0.004622775 "
      ]
     },
     "metadata": {},
     "output_type": "display_data"
    },
    {
     "data": {
      "text/html": [
       "<style>\n",
       ".dl-inline {width: auto; margin:0; padding: 0}\n",
       ".dl-inline>dt, .dl-inline>dd {float: none; width: auto; display: inline-block}\n",
       ".dl-inline>dt::after {content: \":\\0020\"; padding-right: .5ex}\n",
       ".dl-inline>dt:not(:first-of-type) {padding-left: .5ex}\n",
       "</style><dl class=dl-inline><dt>mgam1</dt><dd>0.00352867730934029</dd><dt>mgam2</dt><dd>0.00409778392271151</dd><dt>mgam3</dt><dd>0.00378499362110359</dd></dl>\n"
      ],
      "text/latex": [
       "\\begin{description*}\n",
       "\\item[mgam1] 0.00352867730934029\n",
       "\\item[mgam2] 0.00409778392271151\n",
       "\\item[mgam3] 0.00378499362110359\n",
       "\\end{description*}\n"
      ],
      "text/markdown": [
       "mgam1\n",
       ":   0.00352867730934029mgam2\n",
       ":   0.00409778392271151mgam3\n",
       ":   0.00378499362110359\n",
       "\n"
      ],
      "text/plain": [
       "      mgam1       mgam2       mgam3 \n",
       "0.003528677 0.004097784 0.003784994 "
      ]
     },
     "metadata": {},
     "output_type": "display_data"
    },
    {
     "data": {
      "text/html": [
       "'double'"
      ],
      "text/latex": [
       "'double'"
      ],
      "text/markdown": [
       "'double'"
      ],
      "text/plain": [
       "[1] \"double\""
      ]
     },
     "metadata": {},
     "output_type": "display_data"
    }
   ],
   "source": [
    "mumax_rcm<-coef.list[3,1:3]\n",
    "mumax_mgam<-coef.list[3,4:6]\n",
    "mumax_rcm\n",
    "mumax_mgam\n",
    "typeof(mumax_rcm)"
   ]
  },
  {
   "cell_type": "code",
   "execution_count": 12,
   "metadata": {},
   "outputs": [
    {
     "data": {
      "image/png": "[encoded data removed]",
      "text/plain": [
       "Plot with title \"rcm1 log\""
      ]
     },
     "metadata": {
      "image/png": {
       "height": 420,
       "width": 420
      }
     },
     "output_type": "display_data"
    },
    {
     "data": {
      "image/png": "[encoded data removed]",
      "text/plain": [
       "Plot with title \"rcm2 log\""
      ]
     },
     "metadata": {
      "image/png": {
       "height": 420,
       "width": 420
      }
     },
     "output_type": "display_data"
    },
    {
     "data": {
      "image/png": "[encoded data removed]",
      "text/plain": [
       "Plot with title \"rcm3 log\""
      ]
     },
     "metadata": {
      "image/png": {
       "height": 420,
       "width": 420
      }
     },
     "output_type": "display_data"
    },
    {
     "data": {
      "image/png": "[encoded data removed]",
      "text/plain": [
       "Plot with title \"mgam1 log\""
      ]
     },
     "metadata": {
      "image/png": {
       "height": 420,
       "width": 420
      }
     },
     "output_type": "display_data"
    },
    {
     "data": {
      "image/png": "[encoded data removed]",
      "text/plain": [
       "Plot with title \"mgam2 log\""
      ]
     },
     "metadata": {
      "image/png": {
       "height": 420,
       "width": 420
      }
     },
     "output_type": "display_data"
    },
    {
     "data": {
      "text/html": [
       "<ol>\n",
       "\t<li>NULL</li>\n",
       "\t<li>NULL</li>\n",
       "\t<li>NULL</li>\n",
       "\t<li>NULL</li>\n",
       "\t<li>NULL</li>\n",
       "\t<li>NULL</li>\n",
       "</ol>\n"
      ],
      "text/latex": [
       "\\begin{enumerate}\n",
       "\\item NULL\n",
       "\\item NULL\n",
       "\\item NULL\n",
       "\\item NULL\n",
       "\\item NULL\n",
       "\\item NULL\n",
       "\\end{enumerate}\n"
      ],
      "text/markdown": [
       "1. NULL\n",
       "2. NULL\n",
       "3. NULL\n",
       "4. NULL\n",
       "5. NULL\n",
       "6. NULL\n",
       "\n",
       "\n"
      ],
      "text/plain": [
       "[[1]]\n",
       "NULL\n",
       "\n",
       "[[2]]\n",
       "NULL\n",
       "\n",
       "[[3]]\n",
       "NULL\n",
       "\n",
       "[[4]]\n",
       "NULL\n",
       "\n",
       "[[5]]\n",
       "NULL\n",
       "\n",
       "[[6]]\n",
       "NULL\n"
      ]
     },
     "metadata": {},
     "output_type": "display_data"
    },
    {
     "data": {
      "image/png": "[encoded data removed]",
      "text/plain": [
       "Plot with title \"mgam3 log\""
      ]
     },
     "metadata": {
      "image/png": {
       "height": 420,
       "width": 420
      }
     },
     "output_type": "display_data"
    }
   ],
   "source": [
    "par(mfrow=c(1,2))\n",
    "lapply(names(rcm_mgam_fitted), function(x) {\n",
    "    plot(rcm_mgam_fitted[[x]], main=x)\n",
    "    plot(rcm_mgam_fitted[[x]], log=\"y\", main=paste(x,\"log\", sep=\" \"))})"
   ]
  },
  {
   "cell_type": "markdown",
   "metadata": {},
   "source": [
    "## mMCB\n",
    "We have 3 tables, FP4, FP14, FP15; time in now in minutes, starting from -10 to 2880 (48 hours). In this case we have to consider the dilution of the culture, by multiplying the dilution value for the measured OD value to obtain the actual concentration"
   ]
  },
  {
   "cell_type": "code",
   "execution_count": 13,
   "metadata": {},
   "outputs": [
    {
     "data": {
      "text/html": [
       "<table>\n",
       "<caption>A data.frame: 6 × 5</caption>\n",
       "<thead>\n",
       "\t<tr><th></th><th scope=col>Time</th><th scope=col>Dilution</th><th scope=col>OD1</th><th scope=col>OD2</th><th scope=col>OD3</th></tr>\n",
       "\t<tr><th></th><th scope=col>&lt;int&gt;</th><th scope=col>&lt;int&gt;</th><th scope=col>&lt;dbl&gt;</th><th scope=col>&lt;dbl&gt;</th><th scope=col>&lt;dbl&gt;</th></tr>\n",
       "</thead>\n",
       "<tbody>\n",
       "\t<tr><th scope=row>1</th><td>-10</td><td>1</td><td>0.088</td><td>0.088</td><td>0.088</td></tr>\n",
       "\t<tr><th scope=row>2</th><td> 10</td><td>1</td><td>0.104</td><td>0.104</td><td>0.104</td></tr>\n",
       "\t<tr><th scope=row>3</th><td>120</td><td>1</td><td>0.138</td><td>0.138</td><td>0.138</td></tr>\n",
       "\t<tr><th scope=row>4</th><td>200</td><td>1</td><td>0.175</td><td>0.175</td><td>0.175</td></tr>\n",
       "\t<tr><th scope=row>5</th><td>280</td><td>1</td><td>0.216</td><td>0.216</td><td>0.216</td></tr>\n",
       "\t<tr><th scope=row>6</th><td>360</td><td>1</td><td>0.238</td><td>0.238</td><td>0.238</td></tr>\n",
       "</tbody>\n",
       "</table>\n"
      ],
      "text/latex": [
       "A data.frame: 6 × 5\n",
       "\\begin{tabular}{r|lllll}\n",
       "  & Time & Dilution & OD1 & OD2 & OD3\\\\\n",
       "  & <int> & <int> & <dbl> & <dbl> & <dbl>\\\\\n",
       "\\hline\n",
       "\t1 & -10 & 1 & 0.088 & 0.088 & 0.088\\\\\n",
       "\t2 &  10 & 1 & 0.104 & 0.104 & 0.104\\\\\n",
       "\t3 & 120 & 1 & 0.138 & 0.138 & 0.138\\\\\n",
       "\t4 & 200 & 1 & 0.175 & 0.175 & 0.175\\\\\n",
       "\t5 & 280 & 1 & 0.216 & 0.216 & 0.216\\\\\n",
       "\t6 & 360 & 1 & 0.238 & 0.238 & 0.238\\\\\n",
       "\\end{tabular}\n"
      ],
      "text/markdown": [
       "\n",
       "A data.frame: 6 × 5\n",
       "\n",
       "| <!--/--> | Time &lt;int&gt; | Dilution &lt;int&gt; | OD1 &lt;dbl&gt; | OD2 &lt;dbl&gt; | OD3 &lt;dbl&gt; |\n",
       "|---|---|---|---|---|---|\n",
       "| 1 | -10 | 1 | 0.088 | 0.088 | 0.088 |\n",
       "| 2 |  10 | 1 | 0.104 | 0.104 | 0.104 |\n",
       "| 3 | 120 | 1 | 0.138 | 0.138 | 0.138 |\n",
       "| 4 | 200 | 1 | 0.175 | 0.175 | 0.175 |\n",
       "| 5 | 280 | 1 | 0.216 | 0.216 | 0.216 |\n",
       "| 6 | 360 | 1 | 0.238 | 0.238 | 0.238 |\n",
       "\n"
      ],
      "text/plain": [
       "  Time Dilution OD1   OD2   OD3  \n",
       "1 -10  1        0.088 0.088 0.088\n",
       "2  10  1        0.104 0.104 0.104\n",
       "3 120  1        0.138 0.138 0.138\n",
       "4 200  1        0.175 0.175 0.175\n",
       "5 280  1        0.216 0.216 0.216\n",
       "6 360  1        0.238 0.238 0.238"
      ]
     },
     "metadata": {},
     "output_type": "display_data"
    }
   ],
   "source": [
    "FP4<-read.table(\"Data/FP4_OD600\", header = T)\n",
    "FP14<-read.table(\"Data/FP14_OD600\", header = T)\n",
    "FP15<-read.table(\"Data/FP14_OD600\", header = T)\n",
    "head(FP4)"
   ]
  },
  {
   "cell_type": "code",
   "execution_count": 14,
   "metadata": {},
   "outputs": [
    {
     "data": {
      "text/html": [
       "<dl>\n",
       "\t<dt>$FP4</dt>\n",
       "\t\t<dd><table>\n",
       "<caption>A data.frame: 19 × 8</caption>\n",
       "<thead>\n",
       "\t<tr><th scope=col>Time</th><th scope=col>Dilution</th><th scope=col>OD1</th><th scope=col>OD2</th><th scope=col>OD3</th><th scope=col>od1</th><th scope=col>od2</th><th scope=col>od3</th></tr>\n",
       "\t<tr><th scope=col>&lt;int&gt;</th><th scope=col>&lt;int&gt;</th><th scope=col>&lt;dbl&gt;</th><th scope=col>&lt;dbl&gt;</th><th scope=col>&lt;dbl&gt;</th><th scope=col>&lt;dbl&gt;</th><th scope=col>&lt;dbl&gt;</th><th scope=col>&lt;dbl&gt;</th></tr>\n",
       "</thead>\n",
       "<tbody>\n",
       "\t<tr><td> -10</td><td> 1</td><td>0.088</td><td>0.088</td><td>0.088</td><td>0.088</td><td>0.088</td><td>0.088</td></tr>\n",
       "\t<tr><td>  10</td><td> 1</td><td>0.104</td><td>0.104</td><td>0.104</td><td>0.104</td><td>0.104</td><td>0.104</td></tr>\n",
       "\t<tr><td> 120</td><td> 1</td><td>0.138</td><td>0.138</td><td>0.138</td><td>0.138</td><td>0.138</td><td>0.138</td></tr>\n",
       "\t<tr><td> 200</td><td> 1</td><td>0.175</td><td>0.175</td><td>0.175</td><td>0.175</td><td>0.175</td><td>0.175</td></tr>\n",
       "\t<tr><td> 280</td><td> 1</td><td>0.216</td><td>0.216</td><td>0.216</td><td>0.216</td><td>0.216</td><td>0.216</td></tr>\n",
       "\t<tr><td> 360</td><td> 1</td><td>0.238</td><td>0.238</td><td>0.238</td><td>0.238</td><td>0.238</td><td>0.238</td></tr>\n",
       "\t<tr><td> 440</td><td> 1</td><td>0.265</td><td>0.265</td><td>0.265</td><td>0.265</td><td>0.265</td><td>0.265</td></tr>\n",
       "\t<tr><td> 520</td><td> 1</td><td>0.301</td><td>0.301</td><td>0.301</td><td>0.301</td><td>0.301</td><td>0.301</td></tr>\n",
       "\t<tr><td> 600</td><td> 1</td><td>0.372</td><td>0.372</td><td>0.372</td><td>0.372</td><td>0.372</td><td>0.372</td></tr>\n",
       "\t<tr><td> 680</td><td>10</td><td>0.075</td><td>0.072</td><td>0.068</td><td>0.750</td><td>0.720</td><td>0.680</td></tr>\n",
       "\t<tr><td> 760</td><td>10</td><td>0.117</td><td>0.121</td><td>0.115</td><td>1.170</td><td>1.210</td><td>1.150</td></tr>\n",
       "\t<tr><td> 840</td><td>10</td><td>0.155</td><td>0.159</td><td>0.150</td><td>1.550</td><td>1.590</td><td>1.500</td></tr>\n",
       "\t<tr><td> 920</td><td>10</td><td>0.195</td><td>0.203</td><td>0.207</td><td>1.950</td><td>2.030</td><td>2.070</td></tr>\n",
       "\t<tr><td>1000</td><td>10</td><td>0.232</td><td>0.224</td><td>0.248</td><td>2.320</td><td>2.240</td><td>2.480</td></tr>\n",
       "\t<tr><td>1080</td><td>10</td><td>0.303</td><td>0.267</td><td>0.273</td><td>3.030</td><td>2.670</td><td>2.730</td></tr>\n",
       "\t<tr><td>1160</td><td>10</td><td>0.276</td><td>0.277</td><td>0.254</td><td>2.760</td><td>2.770</td><td>2.540</td></tr>\n",
       "\t<tr><td>1440</td><td>10</td><td>0.230</td><td>0.233</td><td>0.234</td><td>2.300</td><td>2.330</td><td>2.340</td></tr>\n",
       "\t<tr><td>1800</td><td>10</td><td>0.214</td><td>0.220</td><td>0.210</td><td>2.140</td><td>2.200</td><td>2.100</td></tr>\n",
       "\t<tr><td>2880</td><td>10</td><td>0.150</td><td>0.162</td><td>0.169</td><td>1.500</td><td>1.620</td><td>1.690</td></tr>\n",
       "</tbody>\n",
       "</table>\n",
       "</dd>\n",
       "\t<dt>$FP14</dt>\n",
       "\t\t<dd><table>\n",
       "<caption>A data.frame: 19 × 8</caption>\n",
       "<thead>\n",
       "\t<tr><th scope=col>Time</th><th scope=col>Dilution</th><th scope=col>OD1</th><th scope=col>OD2</th><th scope=col>OD3</th><th scope=col>od1</th><th scope=col>od2</th><th scope=col>od3</th></tr>\n",
       "\t<tr><th scope=col>&lt;int&gt;</th><th scope=col>&lt;int&gt;</th><th scope=col>&lt;dbl&gt;</th><th scope=col>&lt;dbl&gt;</th><th scope=col>&lt;dbl&gt;</th><th scope=col>&lt;dbl&gt;</th><th scope=col>&lt;dbl&gt;</th><th scope=col>&lt;dbl&gt;</th></tr>\n",
       "</thead>\n",
       "<tbody>\n",
       "\t<tr><td> -10</td><td> 1</td><td>0.110</td><td>0.110</td><td>0.110</td><td>0.110</td><td>0.110</td><td>0.110</td></tr>\n",
       "\t<tr><td>  10</td><td> 1</td><td>0.122</td><td>0.122</td><td>0.122</td><td>0.122</td><td>0.122</td><td>0.122</td></tr>\n",
       "\t<tr><td> 120</td><td> 1</td><td>0.140</td><td>0.140</td><td>0.140</td><td>0.140</td><td>0.140</td><td>0.140</td></tr>\n",
       "\t<tr><td> 200</td><td> 1</td><td>0.175</td><td>0.175</td><td>0.175</td><td>0.175</td><td>0.175</td><td>0.175</td></tr>\n",
       "\t<tr><td> 280</td><td> 1</td><td>0.218</td><td>0.218</td><td>0.218</td><td>0.218</td><td>0.218</td><td>0.218</td></tr>\n",
       "\t<tr><td> 360</td><td> 1</td><td>0.232</td><td>0.232</td><td>0.232</td><td>0.232</td><td>0.232</td><td>0.232</td></tr>\n",
       "\t<tr><td> 440</td><td> 1</td><td>0.249</td><td>0.249</td><td>0.249</td><td>0.249</td><td>0.249</td><td>0.249</td></tr>\n",
       "\t<tr><td> 520</td><td> 1</td><td>0.271</td><td>0.271</td><td>0.271</td><td>0.271</td><td>0.271</td><td>0.271</td></tr>\n",
       "\t<tr><td> 600</td><td> 1</td><td>0.303</td><td>0.303</td><td>0.303</td><td>0.303</td><td>0.303</td><td>0.303</td></tr>\n",
       "\t<tr><td> 680</td><td> 2</td><td>0.193</td><td>0.186</td><td>0.183</td><td>0.386</td><td>0.372</td><td>0.366</td></tr>\n",
       "\t<tr><td> 760</td><td>10</td><td>0.055</td><td>0.055</td><td>0.056</td><td>0.550</td><td>0.550</td><td>0.560</td></tr>\n",
       "\t<tr><td> 840</td><td>20</td><td>0.039</td><td>0.041</td><td>0.042</td><td>0.780</td><td>0.820</td><td>0.840</td></tr>\n",
       "\t<tr><td> 920</td><td>20</td><td>0.063</td><td>0.072</td><td>0.070</td><td>1.260</td><td>1.440</td><td>1.400</td></tr>\n",
       "\t<tr><td>1000</td><td>20</td><td>0.083</td><td>0.084</td><td>0.081</td><td>1.660</td><td>1.680</td><td>1.620</td></tr>\n",
       "\t<tr><td>1080</td><td>20</td><td>0.099</td><td>0.096</td><td>0.100</td><td>1.980</td><td>1.920</td><td>2.000</td></tr>\n",
       "\t<tr><td>1160</td><td>20</td><td>0.104</td><td>0.112</td><td>0.106</td><td>2.080</td><td>2.240</td><td>2.120</td></tr>\n",
       "\t<tr><td>1460</td><td>20</td><td>0.105</td><td>0.105</td><td>0.114</td><td>2.100</td><td>2.100</td><td>2.280</td></tr>\n",
       "\t<tr><td>1810</td><td>20</td><td>0.102</td><td>0.108</td><td>0.104</td><td>2.040</td><td>2.160</td><td>2.080</td></tr>\n",
       "\t<tr><td>2880</td><td>10</td><td>0.147</td><td>0.146</td><td>0.147</td><td>1.470</td><td>1.460</td><td>1.470</td></tr>\n",
       "</tbody>\n",
       "</table>\n",
       "</dd>\n",
       "\t<dt>$FP15</dt>\n",
       "\t\t<dd><table>\n",
       "<caption>A data.frame: 19 × 8</caption>\n",
       "<thead>\n",
       "\t<tr><th scope=col>Time</th><th scope=col>Dilution</th><th scope=col>OD1</th><th scope=col>OD2</th><th scope=col>OD3</th><th scope=col>od1</th><th scope=col>od2</th><th scope=col>od3</th></tr>\n",
       "\t<tr><th scope=col>&lt;int&gt;</th><th scope=col>&lt;int&gt;</th><th scope=col>&lt;dbl&gt;</th><th scope=col>&lt;dbl&gt;</th><th scope=col>&lt;dbl&gt;</th><th scope=col>&lt;dbl&gt;</th><th scope=col>&lt;dbl&gt;</th><th scope=col>&lt;dbl&gt;</th></tr>\n",
       "</thead>\n",
       "<tbody>\n",
       "\t<tr><td> -10</td><td> 1</td><td>0.110</td><td>0.110</td><td>0.110</td><td>0.110</td><td>0.110</td><td>0.110</td></tr>\n",
       "\t<tr><td>  10</td><td> 1</td><td>0.122</td><td>0.122</td><td>0.122</td><td>0.122</td><td>0.122</td><td>0.122</td></tr>\n",
       "\t<tr><td> 120</td><td> 1</td><td>0.140</td><td>0.140</td><td>0.140</td><td>0.140</td><td>0.140</td><td>0.140</td></tr>\n",
       "\t<tr><td> 200</td><td> 1</td><td>0.175</td><td>0.175</td><td>0.175</td><td>0.175</td><td>0.175</td><td>0.175</td></tr>\n",
       "\t<tr><td> 280</td><td> 1</td><td>0.218</td><td>0.218</td><td>0.218</td><td>0.218</td><td>0.218</td><td>0.218</td></tr>\n",
       "\t<tr><td> 360</td><td> 1</td><td>0.232</td><td>0.232</td><td>0.232</td><td>0.232</td><td>0.232</td><td>0.232</td></tr>\n",
       "\t<tr><td> 440</td><td> 1</td><td>0.249</td><td>0.249</td><td>0.249</td><td>0.249</td><td>0.249</td><td>0.249</td></tr>\n",
       "\t<tr><td> 520</td><td> 1</td><td>0.271</td><td>0.271</td><td>0.271</td><td>0.271</td><td>0.271</td><td>0.271</td></tr>\n",
       "\t<tr><td> 600</td><td> 1</td><td>0.303</td><td>0.303</td><td>0.303</td><td>0.303</td><td>0.303</td><td>0.303</td></tr>\n",
       "\t<tr><td> 680</td><td> 2</td><td>0.193</td><td>0.186</td><td>0.183</td><td>0.386</td><td>0.372</td><td>0.366</td></tr>\n",
       "\t<tr><td> 760</td><td>10</td><td>0.055</td><td>0.055</td><td>0.056</td><td>0.550</td><td>0.550</td><td>0.560</td></tr>\n",
       "\t<tr><td> 840</td><td>20</td><td>0.039</td><td>0.041</td><td>0.042</td><td>0.780</td><td>0.820</td><td>0.840</td></tr>\n",
       "\t<tr><td> 920</td><td>20</td><td>0.063</td><td>0.072</td><td>0.070</td><td>1.260</td><td>1.440</td><td>1.400</td></tr>\n",
       "\t<tr><td>1000</td><td>20</td><td>0.083</td><td>0.084</td><td>0.081</td><td>1.660</td><td>1.680</td><td>1.620</td></tr>\n",
       "\t<tr><td>1080</td><td>20</td><td>0.099</td><td>0.096</td><td>0.100</td><td>1.980</td><td>1.920</td><td>2.000</td></tr>\n",
       "\t<tr><td>1160</td><td>20</td><td>0.104</td><td>0.112</td><td>0.106</td><td>2.080</td><td>2.240</td><td>2.120</td></tr>\n",
       "\t<tr><td>1460</td><td>20</td><td>0.105</td><td>0.105</td><td>0.114</td><td>2.100</td><td>2.100</td><td>2.280</td></tr>\n",
       "\t<tr><td>1810</td><td>20</td><td>0.102</td><td>0.108</td><td>0.104</td><td>2.040</td><td>2.160</td><td>2.080</td></tr>\n",
       "\t<tr><td>2880</td><td>10</td><td>0.147</td><td>0.146</td><td>0.147</td><td>1.470</td><td>1.460</td><td>1.470</td></tr>\n",
       "</tbody>\n",
       "</table>\n",
       "</dd>\n",
       "</dl>\n"
      ],
      "text/latex": [
       "\\begin{description}\n",
       "\\item[\\$FP4] A data.frame: 19 × 8\n",
       "\\begin{tabular}{llllllll}\n",
       " Time & Dilution & OD1 & OD2 & OD3 & od1 & od2 & od3\\\\\n",
       " <int> & <int> & <dbl> & <dbl> & <dbl> & <dbl> & <dbl> & <dbl>\\\\\n",
       "\\hline\n",
       "\t  -10 &  1 & 0.088 & 0.088 & 0.088 & 0.088 & 0.088 & 0.088\\\\\n",
       "\t   10 &  1 & 0.104 & 0.104 & 0.104 & 0.104 & 0.104 & 0.104\\\\\n",
       "\t  120 &  1 & 0.138 & 0.138 & 0.138 & 0.138 & 0.138 & 0.138\\\\\n",
       "\t  200 &  1 & 0.175 & 0.175 & 0.175 & 0.175 & 0.175 & 0.175\\\\\n",
       "\t  280 &  1 & 0.216 & 0.216 & 0.216 & 0.216 & 0.216 & 0.216\\\\\n",
       "\t  360 &  1 & 0.238 & 0.238 & 0.238 & 0.238 & 0.238 & 0.238\\\\\n",
       "\t  440 &  1 & 0.265 & 0.265 & 0.265 & 0.265 & 0.265 & 0.265\\\\\n",
       "\t  520 &  1 & 0.301 & 0.301 & 0.301 & 0.301 & 0.301 & 0.301\\\\\n",
       "\t  600 &  1 & 0.372 & 0.372 & 0.372 & 0.372 & 0.372 & 0.372\\\\\n",
       "\t  680 & 10 & 0.075 & 0.072 & 0.068 & 0.750 & 0.720 & 0.680\\\\\n",
       "\t  760 & 10 & 0.117 & 0.121 & 0.115 & 1.170 & 1.210 & 1.150\\\\\n",
       "\t  840 & 10 & 0.155 & 0.159 & 0.150 & 1.550 & 1.590 & 1.500\\\\\n",
       "\t  920 & 10 & 0.195 & 0.203 & 0.207 & 1.950 & 2.030 & 2.070\\\\\n",
       "\t 1000 & 10 & 0.232 & 0.224 & 0.248 & 2.320 & 2.240 & 2.480\\\\\n",
       "\t 1080 & 10 & 0.303 & 0.267 & 0.273 & 3.030 & 2.670 & 2.730\\\\\n",
       "\t 1160 & 10 & 0.276 & 0.277 & 0.254 & 2.760 & 2.770 & 2.540\\\\\n",
       "\t 1440 & 10 & 0.230 & 0.233 & 0.234 & 2.300 & 2.330 & 2.340\\\\\n",
       "\t 1800 & 10 & 0.214 & 0.220 & 0.210 & 2.140 & 2.200 & 2.100\\\\\n",
       "\t 2880 & 10 & 0.150 & 0.162 & 0.169 & 1.500 & 1.620 & 1.690\\\\\n",
       "\\end{tabular}\n",
       "\n",
       "\\item[\\$FP14] A data.frame: 19 × 8\n",
       "\\begin{tabular}{llllllll}\n",
       " Time & Dilution & OD1 & OD2 & OD3 & od1 & od2 & od3\\\\\n",
       " <int> & <int> & <dbl> & <dbl> & <dbl> & <dbl> & <dbl> & <dbl>\\\\\n",
       "\\hline\n",
       "\t  -10 &  1 & 0.110 & 0.110 & 0.110 & 0.110 & 0.110 & 0.110\\\\\n",
       "\t   10 &  1 & 0.122 & 0.122 & 0.122 & 0.122 & 0.122 & 0.122\\\\\n",
       "\t  120 &  1 & 0.140 & 0.140 & 0.140 & 0.140 & 0.140 & 0.140\\\\\n",
       "\t  200 &  1 & 0.175 & 0.175 & 0.175 & 0.175 & 0.175 & 0.175\\\\\n",
       "\t  280 &  1 & 0.218 & 0.218 & 0.218 & 0.218 & 0.218 & 0.218\\\\\n",
       "\t  360 &  1 & 0.232 & 0.232 & 0.232 & 0.232 & 0.232 & 0.232\\\\\n",
       "\t  440 &  1 & 0.249 & 0.249 & 0.249 & 0.249 & 0.249 & 0.249\\\\\n",
       "\t  520 &  1 & 0.271 & 0.271 & 0.271 & 0.271 & 0.271 & 0.271\\\\\n",
       "\t  600 &  1 & 0.303 & 0.303 & 0.303 & 0.303 & 0.303 & 0.303\\\\\n",
       "\t  680 &  2 & 0.193 & 0.186 & 0.183 & 0.386 & 0.372 & 0.366\\\\\n",
       "\t  760 & 10 & 0.055 & 0.055 & 0.056 & 0.550 & 0.550 & 0.560\\\\\n",
       "\t  840 & 20 & 0.039 & 0.041 & 0.042 & 0.780 & 0.820 & 0.840\\\\\n",
       "\t  920 & 20 & 0.063 & 0.072 & 0.070 & 1.260 & 1.440 & 1.400\\\\\n",
       "\t 1000 & 20 & 0.083 & 0.084 & 0.081 & 1.660 & 1.680 & 1.620\\\\\n",
       "\t 1080 & 20 & 0.099 & 0.096 & 0.100 & 1.980 & 1.920 & 2.000\\\\\n",
       "\t 1160 & 20 & 0.104 & 0.112 & 0.106 & 2.080 & 2.240 & 2.120\\\\\n",
       "\t 1460 & 20 & 0.105 & 0.105 & 0.114 & 2.100 & 2.100 & 2.280\\\\\n",
       "\t 1810 & 20 & 0.102 & 0.108 & 0.104 & 2.040 & 2.160 & 2.080\\\\\n",
       "\t 2880 & 10 & 0.147 & 0.146 & 0.147 & 1.470 & 1.460 & 1.470\\\\\n",
       "\\end{tabular}\n",
       "\n",
       "\\item[\\$FP15] A data.frame: 19 × 8\n",
       "\\begin{tabular}{llllllll}\n",
       " Time & Dilution & OD1 & OD2 & OD3 & od1 & od2 & od3\\\\\n",
       " <int> & <int> & <dbl> & <dbl> & <dbl> & <dbl> & <dbl> & <dbl>\\\\\n",
       "\\hline\n",
       "\t  -10 &  1 & 0.110 & 0.110 & 0.110 & 0.110 & 0.110 & 0.110\\\\\n",
       "\t   10 &  1 & 0.122 & 0.122 & 0.122 & 0.122 & 0.122 & 0.122\\\\\n",
       "\t  120 &  1 & 0.140 & 0.140 & 0.140 & 0.140 & 0.140 & 0.140\\\\\n",
       "\t  200 &  1 & 0.175 & 0.175 & 0.175 & 0.175 & 0.175 & 0.175\\\\\n",
       "\t  280 &  1 & 0.218 & 0.218 & 0.218 & 0.218 & 0.218 & 0.218\\\\\n",
       "\t  360 &  1 & 0.232 & 0.232 & 0.232 & 0.232 & 0.232 & 0.232\\\\\n",
       "\t  440 &  1 & 0.249 & 0.249 & 0.249 & 0.249 & 0.249 & 0.249\\\\\n",
       "\t  520 &  1 & 0.271 & 0.271 & 0.271 & 0.271 & 0.271 & 0.271\\\\\n",
       "\t  600 &  1 & 0.303 & 0.303 & 0.303 & 0.303 & 0.303 & 0.303\\\\\n",
       "\t  680 &  2 & 0.193 & 0.186 & 0.183 & 0.386 & 0.372 & 0.366\\\\\n",
       "\t  760 & 10 & 0.055 & 0.055 & 0.056 & 0.550 & 0.550 & 0.560\\\\\n",
       "\t  840 & 20 & 0.039 & 0.041 & 0.042 & 0.780 & 0.820 & 0.840\\\\\n",
       "\t  920 & 20 & 0.063 & 0.072 & 0.070 & 1.260 & 1.440 & 1.400\\\\\n",
       "\t 1000 & 20 & 0.083 & 0.084 & 0.081 & 1.660 & 1.680 & 1.620\\\\\n",
       "\t 1080 & 20 & 0.099 & 0.096 & 0.100 & 1.980 & 1.920 & 2.000\\\\\n",
       "\t 1160 & 20 & 0.104 & 0.112 & 0.106 & 2.080 & 2.240 & 2.120\\\\\n",
       "\t 1460 & 20 & 0.105 & 0.105 & 0.114 & 2.100 & 2.100 & 2.280\\\\\n",
       "\t 1810 & 20 & 0.102 & 0.108 & 0.104 & 2.040 & 2.160 & 2.080\\\\\n",
       "\t 2880 & 10 & 0.147 & 0.146 & 0.147 & 1.470 & 1.460 & 1.470\\\\\n",
       "\\end{tabular}\n",
       "\n",
       "\\end{description}\n"
      ],
      "text/markdown": [
       "$FP4\n",
       ":   \n",
       "A data.frame: 19 × 8\n",
       "\n",
       "| Time &lt;int&gt; | Dilution &lt;int&gt; | OD1 &lt;dbl&gt; | OD2 &lt;dbl&gt; | OD3 &lt;dbl&gt; | od1 &lt;dbl&gt; | od2 &lt;dbl&gt; | od3 &lt;dbl&gt; |\n",
       "|---|---|---|---|---|---|---|---|\n",
       "|  -10 |  1 | 0.088 | 0.088 | 0.088 | 0.088 | 0.088 | 0.088 |\n",
       "|   10 |  1 | 0.104 | 0.104 | 0.104 | 0.104 | 0.104 | 0.104 |\n",
       "|  120 |  1 | 0.138 | 0.138 | 0.138 | 0.138 | 0.138 | 0.138 |\n",
       "|  200 |  1 | 0.175 | 0.175 | 0.175 | 0.175 | 0.175 | 0.175 |\n",
       "|  280 |  1 | 0.216 | 0.216 | 0.216 | 0.216 | 0.216 | 0.216 |\n",
       "|  360 |  1 | 0.238 | 0.238 | 0.238 | 0.238 | 0.238 | 0.238 |\n",
       "|  440 |  1 | 0.265 | 0.265 | 0.265 | 0.265 | 0.265 | 0.265 |\n",
       "|  520 |  1 | 0.301 | 0.301 | 0.301 | 0.301 | 0.301 | 0.301 |\n",
       "|  600 |  1 | 0.372 | 0.372 | 0.372 | 0.372 | 0.372 | 0.372 |\n",
       "|  680 | 10 | 0.075 | 0.072 | 0.068 | 0.750 | 0.720 | 0.680 |\n",
       "|  760 | 10 | 0.117 | 0.121 | 0.115 | 1.170 | 1.210 | 1.150 |\n",
       "|  840 | 10 | 0.155 | 0.159 | 0.150 | 1.550 | 1.590 | 1.500 |\n",
       "|  920 | 10 | 0.195 | 0.203 | 0.207 | 1.950 | 2.030 | 2.070 |\n",
       "| 1000 | 10 | 0.232 | 0.224 | 0.248 | 2.320 | 2.240 | 2.480 |\n",
       "| 1080 | 10 | 0.303 | 0.267 | 0.273 | 3.030 | 2.670 | 2.730 |\n",
       "| 1160 | 10 | 0.276 | 0.277 | 0.254 | 2.760 | 2.770 | 2.540 |\n",
       "| 1440 | 10 | 0.230 | 0.233 | 0.234 | 2.300 | 2.330 | 2.340 |\n",
       "| 1800 | 10 | 0.214 | 0.220 | 0.210 | 2.140 | 2.200 | 2.100 |\n",
       "| 2880 | 10 | 0.150 | 0.162 | 0.169 | 1.500 | 1.620 | 1.690 |\n",
       "\n",
       "\n",
       "$FP14\n",
       ":   \n",
       "A data.frame: 19 × 8\n",
       "\n",
       "| Time &lt;int&gt; | Dilution &lt;int&gt; | OD1 &lt;dbl&gt; | OD2 &lt;dbl&gt; | OD3 &lt;dbl&gt; | od1 &lt;dbl&gt; | od2 &lt;dbl&gt; | od3 &lt;dbl&gt; |\n",
       "|---|---|---|---|---|---|---|---|\n",
       "|  -10 |  1 | 0.110 | 0.110 | 0.110 | 0.110 | 0.110 | 0.110 |\n",
       "|   10 |  1 | 0.122 | 0.122 | 0.122 | 0.122 | 0.122 | 0.122 |\n",
       "|  120 |  1 | 0.140 | 0.140 | 0.140 | 0.140 | 0.140 | 0.140 |\n",
       "|  200 |  1 | 0.175 | 0.175 | 0.175 | 0.175 | 0.175 | 0.175 |\n",
       "|  280 |  1 | 0.218 | 0.218 | 0.218 | 0.218 | 0.218 | 0.218 |\n",
       "|  360 |  1 | 0.232 | 0.232 | 0.232 | 0.232 | 0.232 | 0.232 |\n",
       "|  440 |  1 | 0.249 | 0.249 | 0.249 | 0.249 | 0.249 | 0.249 |\n",
       "|  520 |  1 | 0.271 | 0.271 | 0.271 | 0.271 | 0.271 | 0.271 |\n",
       "|  600 |  1 | 0.303 | 0.303 | 0.303 | 0.303 | 0.303 | 0.303 |\n",
       "|  680 |  2 | 0.193 | 0.186 | 0.183 | 0.386 | 0.372 | 0.366 |\n",
       "|  760 | 10 | 0.055 | 0.055 | 0.056 | 0.550 | 0.550 | 0.560 |\n",
       "|  840 | 20 | 0.039 | 0.041 | 0.042 | 0.780 | 0.820 | 0.840 |\n",
       "|  920 | 20 | 0.063 | 0.072 | 0.070 | 1.260 | 1.440 | 1.400 |\n",
       "| 1000 | 20 | 0.083 | 0.084 | 0.081 | 1.660 | 1.680 | 1.620 |\n",
       "| 1080 | 20 | 0.099 | 0.096 | 0.100 | 1.980 | 1.920 | 2.000 |\n",
       "| 1160 | 20 | 0.104 | 0.112 | 0.106 | 2.080 | 2.240 | 2.120 |\n",
       "| 1460 | 20 | 0.105 | 0.105 | 0.114 | 2.100 | 2.100 | 2.280 |\n",
       "| 1810 | 20 | 0.102 | 0.108 | 0.104 | 2.040 | 2.160 | 2.080 |\n",
       "| 2880 | 10 | 0.147 | 0.146 | 0.147 | 1.470 | 1.460 | 1.470 |\n",
       "\n",
       "\n",
       "$FP15\n",
       ":   \n",
       "A data.frame: 19 × 8\n",
       "\n",
       "| Time &lt;int&gt; | Dilution &lt;int&gt; | OD1 &lt;dbl&gt; | OD2 &lt;dbl&gt; | OD3 &lt;dbl&gt; | od1 &lt;dbl&gt; | od2 &lt;dbl&gt; | od3 &lt;dbl&gt; |\n",
       "|---|---|---|---|---|---|---|---|\n",
       "|  -10 |  1 | 0.110 | 0.110 | 0.110 | 0.110 | 0.110 | 0.110 |\n",
       "|   10 |  1 | 0.122 | 0.122 | 0.122 | 0.122 | 0.122 | 0.122 |\n",
       "|  120 |  1 | 0.140 | 0.140 | 0.140 | 0.140 | 0.140 | 0.140 |\n",
       "|  200 |  1 | 0.175 | 0.175 | 0.175 | 0.175 | 0.175 | 0.175 |\n",
       "|  280 |  1 | 0.218 | 0.218 | 0.218 | 0.218 | 0.218 | 0.218 |\n",
       "|  360 |  1 | 0.232 | 0.232 | 0.232 | 0.232 | 0.232 | 0.232 |\n",
       "|  440 |  1 | 0.249 | 0.249 | 0.249 | 0.249 | 0.249 | 0.249 |\n",
       "|  520 |  1 | 0.271 | 0.271 | 0.271 | 0.271 | 0.271 | 0.271 |\n",
       "|  600 |  1 | 0.303 | 0.303 | 0.303 | 0.303 | 0.303 | 0.303 |\n",
       "|  680 |  2 | 0.193 | 0.186 | 0.183 | 0.386 | 0.372 | 0.366 |\n",
       "|  760 | 10 | 0.055 | 0.055 | 0.056 | 0.550 | 0.550 | 0.560 |\n",
       "|  840 | 20 | 0.039 | 0.041 | 0.042 | 0.780 | 0.820 | 0.840 |\n",
       "|  920 | 20 | 0.063 | 0.072 | 0.070 | 1.260 | 1.440 | 1.400 |\n",
       "| 1000 | 20 | 0.083 | 0.084 | 0.081 | 1.660 | 1.680 | 1.620 |\n",
       "| 1080 | 20 | 0.099 | 0.096 | 0.100 | 1.980 | 1.920 | 2.000 |\n",
       "| 1160 | 20 | 0.104 | 0.112 | 0.106 | 2.080 | 2.240 | 2.120 |\n",
       "| 1460 | 20 | 0.105 | 0.105 | 0.114 | 2.100 | 2.100 | 2.280 |\n",
       "| 1810 | 20 | 0.102 | 0.108 | 0.104 | 2.040 | 2.160 | 2.080 |\n",
       "| 2880 | 10 | 0.147 | 0.146 | 0.147 | 1.470 | 1.460 | 1.470 |\n",
       "\n",
       "\n",
       "\n",
       "\n"
      ],
      "text/plain": [
       "$FP4\n",
       "   Time Dilution   OD1   OD2   OD3   od1   od2   od3\n",
       "1   -10        1 0.088 0.088 0.088 0.088 0.088 0.088\n",
       "2    10        1 0.104 0.104 0.104 0.104 0.104 0.104\n",
       "3   120        1 0.138 0.138 0.138 0.138 0.138 0.138\n",
       "4   200        1 0.175 0.175 0.175 0.175 0.175 0.175\n",
       "5   280        1 0.216 0.216 0.216 0.216 0.216 0.216\n",
       "6   360        1 0.238 0.238 0.238 0.238 0.238 0.238\n",
       "7   440        1 0.265 0.265 0.265 0.265 0.265 0.265\n",
       "8   520        1 0.301 0.301 0.301 0.301 0.301 0.301\n",
       "9   600        1 0.372 0.372 0.372 0.372 0.372 0.372\n",
       "10  680       10 0.075 0.072 0.068 0.750 0.720 0.680\n",
       "11  760       10 0.117 0.121 0.115 1.170 1.210 1.150\n",
       "12  840       10 0.155 0.159 0.150 1.550 1.590 1.500\n",
       "13  920       10 0.195 0.203 0.207 1.950 2.030 2.070\n",
       "14 1000       10 0.232 0.224 0.248 2.320 2.240 2.480\n",
       "15 1080       10 0.303 0.267 0.273 3.030 2.670 2.730\n",
       "16 1160       10 0.276 0.277 0.254 2.760 2.770 2.540\n",
       "17 1440       10 0.230 0.233 0.234 2.300 2.330 2.340\n",
       "18 1800       10 0.214 0.220 0.210 2.140 2.200 2.100\n",
       "19 2880       10 0.150 0.162 0.169 1.500 1.620 1.690\n",
       "\n",
       "$FP14\n",
       "   Time Dilution   OD1   OD2   OD3   od1   od2   od3\n",
       "1   -10        1 0.110 0.110 0.110 0.110 0.110 0.110\n",
       "2    10        1 0.122 0.122 0.122 0.122 0.122 0.122\n",
       "3   120        1 0.140 0.140 0.140 0.140 0.140 0.140\n",
       "4   200        1 0.175 0.175 0.175 0.175 0.175 0.175\n",
       "5   280        1 0.218 0.218 0.218 0.218 0.218 0.218\n",
       "6   360        1 0.232 0.232 0.232 0.232 0.232 0.232\n",
       "7   440        1 0.249 0.249 0.249 0.249 0.249 0.249\n",
       "8   520        1 0.271 0.271 0.271 0.271 0.271 0.271\n",
       "9   600        1 0.303 0.303 0.303 0.303 0.303 0.303\n",
       "10  680        2 0.193 0.186 0.183 0.386 0.372 0.366\n",
       "11  760       10 0.055 0.055 0.056 0.550 0.550 0.560\n",
       "12  840       20 0.039 0.041 0.042 0.780 0.820 0.840\n",
       "13  920       20 0.063 0.072 0.070 1.260 1.440 1.400\n",
       "14 1000       20 0.083 0.084 0.081 1.660 1.680 1.620\n",
       "15 1080       20 0.099 0.096 0.100 1.980 1.920 2.000\n",
       "16 1160       20 0.104 0.112 0.106 2.080 2.240 2.120\n",
       "17 1460       20 0.105 0.105 0.114 2.100 2.100 2.280\n",
       "18 1810       20 0.102 0.108 0.104 2.040 2.160 2.080\n",
       "19 2880       10 0.147 0.146 0.147 1.470 1.460 1.470\n",
       "\n",
       "$FP15\n",
       "   Time Dilution   OD1   OD2   OD3   od1   od2   od3\n",
       "1   -10        1 0.110 0.110 0.110 0.110 0.110 0.110\n",
       "2    10        1 0.122 0.122 0.122 0.122 0.122 0.122\n",
       "3   120        1 0.140 0.140 0.140 0.140 0.140 0.140\n",
       "4   200        1 0.175 0.175 0.175 0.175 0.175 0.175\n",
       "5   280        1 0.218 0.218 0.218 0.218 0.218 0.218\n",
       "6   360        1 0.232 0.232 0.232 0.232 0.232 0.232\n",
       "7   440        1 0.249 0.249 0.249 0.249 0.249 0.249\n",
       "8   520        1 0.271 0.271 0.271 0.271 0.271 0.271\n",
       "9   600        1 0.303 0.303 0.303 0.303 0.303 0.303\n",
       "10  680        2 0.193 0.186 0.183 0.386 0.372 0.366\n",
       "11  760       10 0.055 0.055 0.056 0.550 0.550 0.560\n",
       "12  840       20 0.039 0.041 0.042 0.780 0.820 0.840\n",
       "13  920       20 0.063 0.072 0.070 1.260 1.440 1.400\n",
       "14 1000       20 0.083 0.084 0.081 1.660 1.680 1.620\n",
       "15 1080       20 0.099 0.096 0.100 1.980 1.920 2.000\n",
       "16 1160       20 0.104 0.112 0.106 2.080 2.240 2.120\n",
       "17 1460       20 0.105 0.105 0.114 2.100 2.100 2.280\n",
       "18 1810       20 0.102 0.108 0.104 2.040 2.160 2.080\n",
       "19 2880       10 0.147 0.146 0.147 1.470 1.460 1.470\n"
      ]
     },
     "metadata": {},
     "output_type": "display_data"
    }
   ],
   "source": [
    "mMCB<-lapply(list(FP4,FP14,FP15), function(df){\n",
    "  df = within(df, {od3<-Dilution*OD3\n",
    "  od2<-Dilution*OD2\n",
    "  od1<-Dilution*OD1}, keepAttrs=TRUE)})\n",
    "names(mMCB)<-c(\"FP4\",\"FP14\",\"FP15\")\n",
    "head(mMCB)"
   ]
  },
  {
   "cell_type": "markdown",
   "metadata": {},
   "source": [
    "Dropping Dilution and the measured OD values"
   ]
  },
  {
   "cell_type": "code",
   "execution_count": 15,
   "metadata": {},
   "outputs": [
    {
     "data": {
      "text/html": [
       "<dl>\n",
       "\t<dt>$FP4</dt>\n",
       "\t\t<dd><table>\n",
       "<caption>A data.frame: 19 × 4</caption>\n",
       "<thead>\n",
       "\t<tr><th scope=col>Time</th><th scope=col>od1</th><th scope=col>od2</th><th scope=col>od3</th></tr>\n",
       "\t<tr><th scope=col>&lt;int&gt;</th><th scope=col>&lt;dbl&gt;</th><th scope=col>&lt;dbl&gt;</th><th scope=col>&lt;dbl&gt;</th></tr>\n",
       "</thead>\n",
       "<tbody>\n",
       "\t<tr><td> -10</td><td>0.088</td><td>0.088</td><td>0.088</td></tr>\n",
       "\t<tr><td>  10</td><td>0.104</td><td>0.104</td><td>0.104</td></tr>\n",
       "\t<tr><td> 120</td><td>0.138</td><td>0.138</td><td>0.138</td></tr>\n",
       "\t<tr><td> 200</td><td>0.175</td><td>0.175</td><td>0.175</td></tr>\n",
       "\t<tr><td> 280</td><td>0.216</td><td>0.216</td><td>0.216</td></tr>\n",
       "\t<tr><td> 360</td><td>0.238</td><td>0.238</td><td>0.238</td></tr>\n",
       "\t<tr><td> 440</td><td>0.265</td><td>0.265</td><td>0.265</td></tr>\n",
       "\t<tr><td> 520</td><td>0.301</td><td>0.301</td><td>0.301</td></tr>\n",
       "\t<tr><td> 600</td><td>0.372</td><td>0.372</td><td>0.372</td></tr>\n",
       "\t<tr><td> 680</td><td>0.750</td><td>0.720</td><td>0.680</td></tr>\n",
       "\t<tr><td> 760</td><td>1.170</td><td>1.210</td><td>1.150</td></tr>\n",
       "\t<tr><td> 840</td><td>1.550</td><td>1.590</td><td>1.500</td></tr>\n",
       "\t<tr><td> 920</td><td>1.950</td><td>2.030</td><td>2.070</td></tr>\n",
       "\t<tr><td>1000</td><td>2.320</td><td>2.240</td><td>2.480</td></tr>\n",
       "\t<tr><td>1080</td><td>3.030</td><td>2.670</td><td>2.730</td></tr>\n",
       "\t<tr><td>1160</td><td>2.760</td><td>2.770</td><td>2.540</td></tr>\n",
       "\t<tr><td>1440</td><td>2.300</td><td>2.330</td><td>2.340</td></tr>\n",
       "\t<tr><td>1800</td><td>2.140</td><td>2.200</td><td>2.100</td></tr>\n",
       "\t<tr><td>2880</td><td>1.500</td><td>1.620</td><td>1.690</td></tr>\n",
       "</tbody>\n",
       "</table>\n",
       "</dd>\n",
       "\t<dt>$FP14</dt>\n",
       "\t\t<dd><table>\n",
       "<caption>A data.frame: 19 × 4</caption>\n",
       "<thead>\n",
       "\t<tr><th scope=col>Time</th><th scope=col>od1</th><th scope=col>od2</th><th scope=col>od3</th></tr>\n",
       "\t<tr><th scope=col>&lt;int&gt;</th><th scope=col>&lt;dbl&gt;</th><th scope=col>&lt;dbl&gt;</th><th scope=col>&lt;dbl&gt;</th></tr>\n",
       "</thead>\n",
       "<tbody>\n",
       "\t<tr><td> -10</td><td>0.110</td><td>0.110</td><td>0.110</td></tr>\n",
       "\t<tr><td>  10</td><td>0.122</td><td>0.122</td><td>0.122</td></tr>\n",
       "\t<tr><td> 120</td><td>0.140</td><td>0.140</td><td>0.140</td></tr>\n",
       "\t<tr><td> 200</td><td>0.175</td><td>0.175</td><td>0.175</td></tr>\n",
       "\t<tr><td> 280</td><td>0.218</td><td>0.218</td><td>0.218</td></tr>\n",
       "\t<tr><td> 360</td><td>0.232</td><td>0.232</td><td>0.232</td></tr>\n",
       "\t<tr><td> 440</td><td>0.249</td><td>0.249</td><td>0.249</td></tr>\n",
       "\t<tr><td> 520</td><td>0.271</td><td>0.271</td><td>0.271</td></tr>\n",
       "\t<tr><td> 600</td><td>0.303</td><td>0.303</td><td>0.303</td></tr>\n",
       "\t<tr><td> 680</td><td>0.386</td><td>0.372</td><td>0.366</td></tr>\n",
       "\t<tr><td> 760</td><td>0.550</td><td>0.550</td><td>0.560</td></tr>\n",
       "\t<tr><td> 840</td><td>0.780</td><td>0.820</td><td>0.840</td></tr>\n",
       "\t<tr><td> 920</td><td>1.260</td><td>1.440</td><td>1.400</td></tr>\n",
       "\t<tr><td>1000</td><td>1.660</td><td>1.680</td><td>1.620</td></tr>\n",
       "\t<tr><td>1080</td><td>1.980</td><td>1.920</td><td>2.000</td></tr>\n",
       "\t<tr><td>1160</td><td>2.080</td><td>2.240</td><td>2.120</td></tr>\n",
       "\t<tr><td>1460</td><td>2.100</td><td>2.100</td><td>2.280</td></tr>\n",
       "\t<tr><td>1810</td><td>2.040</td><td>2.160</td><td>2.080</td></tr>\n",
       "\t<tr><td>2880</td><td>1.470</td><td>1.460</td><td>1.470</td></tr>\n",
       "</tbody>\n",
       "</table>\n",
       "</dd>\n",
       "\t<dt>$FP15</dt>\n",
       "\t\t<dd><table>\n",
       "<caption>A data.frame: 19 × 4</caption>\n",
       "<thead>\n",
       "\t<tr><th scope=col>Time</th><th scope=col>od1</th><th scope=col>od2</th><th scope=col>od3</th></tr>\n",
       "\t<tr><th scope=col>&lt;int&gt;</th><th scope=col>&lt;dbl&gt;</th><th scope=col>&lt;dbl&gt;</th><th scope=col>&lt;dbl&gt;</th></tr>\n",
       "</thead>\n",
       "<tbody>\n",
       "\t<tr><td> -10</td><td>0.110</td><td>0.110</td><td>0.110</td></tr>\n",
       "\t<tr><td>  10</td><td>0.122</td><td>0.122</td><td>0.122</td></tr>\n",
       "\t<tr><td> 120</td><td>0.140</td><td>0.140</td><td>0.140</td></tr>\n",
       "\t<tr><td> 200</td><td>0.175</td><td>0.175</td><td>0.175</td></tr>\n",
       "\t<tr><td> 280</td><td>0.218</td><td>0.218</td><td>0.218</td></tr>\n",
       "\t<tr><td> 360</td><td>0.232</td><td>0.232</td><td>0.232</td></tr>\n",
       "\t<tr><td> 440</td><td>0.249</td><td>0.249</td><td>0.249</td></tr>\n",
       "\t<tr><td> 520</td><td>0.271</td><td>0.271</td><td>0.271</td></tr>\n",
       "\t<tr><td> 600</td><td>0.303</td><td>0.303</td><td>0.303</td></tr>\n",
       "\t<tr><td> 680</td><td>0.386</td><td>0.372</td><td>0.366</td></tr>\n",
       "\t<tr><td> 760</td><td>0.550</td><td>0.550</td><td>0.560</td></tr>\n",
       "\t<tr><td> 840</td><td>0.780</td><td>0.820</td><td>0.840</td></tr>\n",
       "\t<tr><td> 920</td><td>1.260</td><td>1.440</td><td>1.400</td></tr>\n",
       "\t<tr><td>1000</td><td>1.660</td><td>1.680</td><td>1.620</td></tr>\n",
       "\t<tr><td>1080</td><td>1.980</td><td>1.920</td><td>2.000</td></tr>\n",
       "\t<tr><td>1160</td><td>2.080</td><td>2.240</td><td>2.120</td></tr>\n",
       "\t<tr><td>1460</td><td>2.100</td><td>2.100</td><td>2.280</td></tr>\n",
       "\t<tr><td>1810</td><td>2.040</td><td>2.160</td><td>2.080</td></tr>\n",
       "\t<tr><td>2880</td><td>1.470</td><td>1.460</td><td>1.470</td></tr>\n",
       "</tbody>\n",
       "</table>\n",
       "</dd>\n",
       "</dl>\n"
      ],
      "text/latex": [
       "\\begin{description}\n",
       "\\item[\\$FP4] A data.frame: 19 × 4\n",
       "\\begin{tabular}{llll}\n",
       " Time & od1 & od2 & od3\\\\\n",
       " <int> & <dbl> & <dbl> & <dbl>\\\\\n",
       "\\hline\n",
       "\t  -10 & 0.088 & 0.088 & 0.088\\\\\n",
       "\t   10 & 0.104 & 0.104 & 0.104\\\\\n",
       "\t  120 & 0.138 & 0.138 & 0.138\\\\\n",
       "\t  200 & 0.175 & 0.175 & 0.175\\\\\n",
       "\t  280 & 0.216 & 0.216 & 0.216\\\\\n",
       "\t  360 & 0.238 & 0.238 & 0.238\\\\\n",
       "\t  440 & 0.265 & 0.265 & 0.265\\\\\n",
       "\t  520 & 0.301 & 0.301 & 0.301\\\\\n",
       "\t  600 & 0.372 & 0.372 & 0.372\\\\\n",
       "\t  680 & 0.750 & 0.720 & 0.680\\\\\n",
       "\t  760 & 1.170 & 1.210 & 1.150\\\\\n",
       "\t  840 & 1.550 & 1.590 & 1.500\\\\\n",
       "\t  920 & 1.950 & 2.030 & 2.070\\\\\n",
       "\t 1000 & 2.320 & 2.240 & 2.480\\\\\n",
       "\t 1080 & 3.030 & 2.670 & 2.730\\\\\n",
       "\t 1160 & 2.760 & 2.770 & 2.540\\\\\n",
       "\t 1440 & 2.300 & 2.330 & 2.340\\\\\n",
       "\t 1800 & 2.140 & 2.200 & 2.100\\\\\n",
       "\t 2880 & 1.500 & 1.620 & 1.690\\\\\n",
       "\\end{tabular}\n",
       "\n",
       "\\item[\\$FP14] A data.frame: 19 × 4\n",
       "\\begin{tabular}{llll}\n",
       " Time & od1 & od2 & od3\\\\\n",
       " <int> & <dbl> & <dbl> & <dbl>\\\\\n",
       "\\hline\n",
       "\t  -10 & 0.110 & 0.110 & 0.110\\\\\n",
       "\t   10 & 0.122 & 0.122 & 0.122\\\\\n",
       "\t  120 & 0.140 & 0.140 & 0.140\\\\\n",
       "\t  200 & 0.175 & 0.175 & 0.175\\\\\n",
       "\t  280 & 0.218 & 0.218 & 0.218\\\\\n",
       "\t  360 & 0.232 & 0.232 & 0.232\\\\\n",
       "\t  440 & 0.249 & 0.249 & 0.249\\\\\n",
       "\t  520 & 0.271 & 0.271 & 0.271\\\\\n",
       "\t  600 & 0.303 & 0.303 & 0.303\\\\\n",
       "\t  680 & 0.386 & 0.372 & 0.366\\\\\n",
       "\t  760 & 0.550 & 0.550 & 0.560\\\\\n",
       "\t  840 & 0.780 & 0.820 & 0.840\\\\\n",
       "\t  920 & 1.260 & 1.440 & 1.400\\\\\n",
       "\t 1000 & 1.660 & 1.680 & 1.620\\\\\n",
       "\t 1080 & 1.980 & 1.920 & 2.000\\\\\n",
       "\t 1160 & 2.080 & 2.240 & 2.120\\\\\n",
       "\t 1460 & 2.100 & 2.100 & 2.280\\\\\n",
       "\t 1810 & 2.040 & 2.160 & 2.080\\\\\n",
       "\t 2880 & 1.470 & 1.460 & 1.470\\\\\n",
       "\\end{tabular}\n",
       "\n",
       "\\item[\\$FP15] A data.frame: 19 × 4\n",
       "\\begin{tabular}{llll}\n",
       " Time & od1 & od2 & od3\\\\\n",
       " <int> & <dbl> & <dbl> & <dbl>\\\\\n",
       "\\hline\n",
       "\t  -10 & 0.110 & 0.110 & 0.110\\\\\n",
       "\t   10 & 0.122 & 0.122 & 0.122\\\\\n",
       "\t  120 & 0.140 & 0.140 & 0.140\\\\\n",
       "\t  200 & 0.175 & 0.175 & 0.175\\\\\n",
       "\t  280 & 0.218 & 0.218 & 0.218\\\\\n",
       "\t  360 & 0.232 & 0.232 & 0.232\\\\\n",
       "\t  440 & 0.249 & 0.249 & 0.249\\\\\n",
       "\t  520 & 0.271 & 0.271 & 0.271\\\\\n",
       "\t  600 & 0.303 & 0.303 & 0.303\\\\\n",
       "\t  680 & 0.386 & 0.372 & 0.366\\\\\n",
       "\t  760 & 0.550 & 0.550 & 0.560\\\\\n",
       "\t  840 & 0.780 & 0.820 & 0.840\\\\\n",
       "\t  920 & 1.260 & 1.440 & 1.400\\\\\n",
       "\t 1000 & 1.660 & 1.680 & 1.620\\\\\n",
       "\t 1080 & 1.980 & 1.920 & 2.000\\\\\n",
       "\t 1160 & 2.080 & 2.240 & 2.120\\\\\n",
       "\t 1460 & 2.100 & 2.100 & 2.280\\\\\n",
       "\t 1810 & 2.040 & 2.160 & 2.080\\\\\n",
       "\t 2880 & 1.470 & 1.460 & 1.470\\\\\n",
       "\\end{tabular}\n",
       "\n",
       "\\end{description}\n"
      ],
      "text/markdown": [
       "$FP4\n",
       ":   \n",
       "A data.frame: 19 × 4\n",
       "\n",
       "| Time &lt;int&gt; | od1 &lt;dbl&gt; | od2 &lt;dbl&gt; | od3 &lt;dbl&gt; |\n",
       "|---|---|---|---|\n",
       "|  -10 | 0.088 | 0.088 | 0.088 |\n",
       "|   10 | 0.104 | 0.104 | 0.104 |\n",
       "|  120 | 0.138 | 0.138 | 0.138 |\n",
       "|  200 | 0.175 | 0.175 | 0.175 |\n",
       "|  280 | 0.216 | 0.216 | 0.216 |\n",
       "|  360 | 0.238 | 0.238 | 0.238 |\n",
       "|  440 | 0.265 | 0.265 | 0.265 |\n",
       "|  520 | 0.301 | 0.301 | 0.301 |\n",
       "|  600 | 0.372 | 0.372 | 0.372 |\n",
       "|  680 | 0.750 | 0.720 | 0.680 |\n",
       "|  760 | 1.170 | 1.210 | 1.150 |\n",
       "|  840 | 1.550 | 1.590 | 1.500 |\n",
       "|  920 | 1.950 | 2.030 | 2.070 |\n",
       "| 1000 | 2.320 | 2.240 | 2.480 |\n",
       "| 1080 | 3.030 | 2.670 | 2.730 |\n",
       "| 1160 | 2.760 | 2.770 | 2.540 |\n",
       "| 1440 | 2.300 | 2.330 | 2.340 |\n",
       "| 1800 | 2.140 | 2.200 | 2.100 |\n",
       "| 2880 | 1.500 | 1.620 | 1.690 |\n",
       "\n",
       "\n",
       "$FP14\n",
       ":   \n",
       "A data.frame: 19 × 4\n",
       "\n",
       "| Time &lt;int&gt; | od1 &lt;dbl&gt; | od2 &lt;dbl&gt; | od3 &lt;dbl&gt; |\n",
       "|---|---|---|---|\n",
       "|  -10 | 0.110 | 0.110 | 0.110 |\n",
       "|   10 | 0.122 | 0.122 | 0.122 |\n",
       "|  120 | 0.140 | 0.140 | 0.140 |\n",
       "|  200 | 0.175 | 0.175 | 0.175 |\n",
       "|  280 | 0.218 | 0.218 | 0.218 |\n",
       "|  360 | 0.232 | 0.232 | 0.232 |\n",
       "|  440 | 0.249 | 0.249 | 0.249 |\n",
       "|  520 | 0.271 | 0.271 | 0.271 |\n",
       "|  600 | 0.303 | 0.303 | 0.303 |\n",
       "|  680 | 0.386 | 0.372 | 0.366 |\n",
       "|  760 | 0.550 | 0.550 | 0.560 |\n",
       "|  840 | 0.780 | 0.820 | 0.840 |\n",
       "|  920 | 1.260 | 1.440 | 1.400 |\n",
       "| 1000 | 1.660 | 1.680 | 1.620 |\n",
       "| 1080 | 1.980 | 1.920 | 2.000 |\n",
       "| 1160 | 2.080 | 2.240 | 2.120 |\n",
       "| 1460 | 2.100 | 2.100 | 2.280 |\n",
       "| 1810 | 2.040 | 2.160 | 2.080 |\n",
       "| 2880 | 1.470 | 1.460 | 1.470 |\n",
       "\n",
       "\n",
       "$FP15\n",
       ":   \n",
       "A data.frame: 19 × 4\n",
       "\n",
       "| Time &lt;int&gt; | od1 &lt;dbl&gt; | od2 &lt;dbl&gt; | od3 &lt;dbl&gt; |\n",
       "|---|---|---|---|\n",
       "|  -10 | 0.110 | 0.110 | 0.110 |\n",
       "|   10 | 0.122 | 0.122 | 0.122 |\n",
       "|  120 | 0.140 | 0.140 | 0.140 |\n",
       "|  200 | 0.175 | 0.175 | 0.175 |\n",
       "|  280 | 0.218 | 0.218 | 0.218 |\n",
       "|  360 | 0.232 | 0.232 | 0.232 |\n",
       "|  440 | 0.249 | 0.249 | 0.249 |\n",
       "|  520 | 0.271 | 0.271 | 0.271 |\n",
       "|  600 | 0.303 | 0.303 | 0.303 |\n",
       "|  680 | 0.386 | 0.372 | 0.366 |\n",
       "|  760 | 0.550 | 0.550 | 0.560 |\n",
       "|  840 | 0.780 | 0.820 | 0.840 |\n",
       "|  920 | 1.260 | 1.440 | 1.400 |\n",
       "| 1000 | 1.660 | 1.680 | 1.620 |\n",
       "| 1080 | 1.980 | 1.920 | 2.000 |\n",
       "| 1160 | 2.080 | 2.240 | 2.120 |\n",
       "| 1460 | 2.100 | 2.100 | 2.280 |\n",
       "| 1810 | 2.040 | 2.160 | 2.080 |\n",
       "| 2880 | 1.470 | 1.460 | 1.470 |\n",
       "\n",
       "\n",
       "\n",
       "\n"
      ],
      "text/plain": [
       "$FP4\n",
       "   Time   od1   od2   od3\n",
       "1   -10 0.088 0.088 0.088\n",
       "2    10 0.104 0.104 0.104\n",
       "3   120 0.138 0.138 0.138\n",
       "4   200 0.175 0.175 0.175\n",
       "5   280 0.216 0.216 0.216\n",
       "6   360 0.238 0.238 0.238\n",
       "7   440 0.265 0.265 0.265\n",
       "8   520 0.301 0.301 0.301\n",
       "9   600 0.372 0.372 0.372\n",
       "10  680 0.750 0.720 0.680\n",
       "11  760 1.170 1.210 1.150\n",
       "12  840 1.550 1.590 1.500\n",
       "13  920 1.950 2.030 2.070\n",
       "14 1000 2.320 2.240 2.480\n",
       "15 1080 3.030 2.670 2.730\n",
       "16 1160 2.760 2.770 2.540\n",
       "17 1440 2.300 2.330 2.340\n",
       "18 1800 2.140 2.200 2.100\n",
       "19 2880 1.500 1.620 1.690\n",
       "\n",
       "$FP14\n",
       "   Time   od1   od2   od3\n",
       "1   -10 0.110 0.110 0.110\n",
       "2    10 0.122 0.122 0.122\n",
       "3   120 0.140 0.140 0.140\n",
       "4   200 0.175 0.175 0.175\n",
       "5   280 0.218 0.218 0.218\n",
       "6   360 0.232 0.232 0.232\n",
       "7   440 0.249 0.249 0.249\n",
       "8   520 0.271 0.271 0.271\n",
       "9   600 0.303 0.303 0.303\n",
       "10  680 0.386 0.372 0.366\n",
       "11  760 0.550 0.550 0.560\n",
       "12  840 0.780 0.820 0.840\n",
       "13  920 1.260 1.440 1.400\n",
       "14 1000 1.660 1.680 1.620\n",
       "15 1080 1.980 1.920 2.000\n",
       "16 1160 2.080 2.240 2.120\n",
       "17 1460 2.100 2.100 2.280\n",
       "18 1810 2.040 2.160 2.080\n",
       "19 2880 1.470 1.460 1.470\n",
       "\n",
       "$FP15\n",
       "   Time   od1   od2   od3\n",
       "1   -10 0.110 0.110 0.110\n",
       "2    10 0.122 0.122 0.122\n",
       "3   120 0.140 0.140 0.140\n",
       "4   200 0.175 0.175 0.175\n",
       "5   280 0.218 0.218 0.218\n",
       "6   360 0.232 0.232 0.232\n",
       "7   440 0.249 0.249 0.249\n",
       "8   520 0.271 0.271 0.271\n",
       "9   600 0.303 0.303 0.303\n",
       "10  680 0.386 0.372 0.366\n",
       "11  760 0.550 0.550 0.560\n",
       "12  840 0.780 0.820 0.840\n",
       "13  920 1.260 1.440 1.400\n",
       "14 1000 1.660 1.680 1.620\n",
       "15 1080 1.980 1.920 2.000\n",
       "16 1160 2.080 2.240 2.120\n",
       "17 1460 2.100 2.100 2.280\n",
       "18 1810 2.040 2.160 2.080\n",
       "19 2880 1.470 1.460 1.470\n"
      ]
     },
     "metadata": {},
     "output_type": "display_data"
    }
   ],
   "source": [
    "mMCB<-lapply(mMCB, function(x) x[!(names(x) %in% c(\"Dilution\", \"OD1\", \"OD2\", \"OD3\"))])\n",
    "head(mMCB)"
   ]
  },
  {
   "cell_type": "markdown",
   "metadata": {},
   "source": [
    "Plotting the growth for the three tables, three replicates each. For the first time points (until min 680) there is no difference."
   ]
  },
  {
   "cell_type": "code",
   "execution_count": 16,
   "metadata": {
    "scrolled": true
   },
   "outputs": [
    {
     "data": {
      "image/png": "[encoded data removed]",
      "text/plain": [
       "plot without title"
      ]
     },
     "metadata": {
      "image/png": {
       "height": 420,
       "width": 420
      }
     },
     "output_type": "display_data"
    },
    {
     "data": {
      "text/plain": [
       "[[1]]\n",
       "\n",
       "[[2]]\n",
       "\n",
       "[[3]]\n"
      ]
     },
     "metadata": {},
     "output_type": "display_data"
    },
    {
     "data": {
      "image/png": "[encoded data removed]",
      "text/plain": [
       "plot without title"
      ]
     },
     "metadata": {
      "image/png": {
       "height": 420,
       "width": 420
      }
     },
     "output_type": "display_data"
    },
    {
     "data": {
      "image/png": "[encoded data removed]",
      "text/plain": [
       "plot without title"
      ]
     },
     "metadata": {
      "image/png": {
       "height": 420,
       "width": 420
      }
     },
     "output_type": "display_data"
    }
   ],
   "source": [
    "mMCB_high<-melt(mMCB, id.vars=\"Time\")\n",
    "#par(mfrow=c(1,3))\n",
    "lapply(c(\"FP4\", \"FP14\",\"FP15\"), function(x){\n",
    "  ggplot(mMCB_high[mMCB_high$L1==x,], aes(x = Time, y = value, col=variable)) + \n",
    "    geom_point(alpha=0.7) + \n",
    "    geom_line() +\n",
    "    ggtitle(x)\n",
    "})"
   ]
  },
  {
   "cell_type": "markdown",
   "metadata": {},
   "source": [
    "### Fitting easy linear\n",
    "fit_easylinear doesn't like replicates in time, this is why for mMCB I used the minutes and not the hours as time points."
   ]
  },
  {
   "cell_type": "code",
   "execution_count": 17,
   "metadata": {},
   "outputs": [],
   "source": [
    "FP4_fitted<-apply(mMCB$FP4[,2:4],MARGIN=2, function(x) fit_easylinear(mMCB$FP4[,1], x)) # put all together in one function\n",
    "coef4<-sapply(FP4_fitted, function(x) coef(x))\n",
    "\n",
    "FP14_fitted<-apply(mMCB$FP14[,2:4],MARGIN=2, function(x) fit_easylinear(mMCB$FP14[,1], x))\n",
    "coef14<-sapply(FP14_fitted, function(x) coef(x))\n",
    "\n",
    "FP15_fitted<-apply(mMCB$FP15[,2:4],MARGIN=2, function(x) fit_easylinear(mMCB$FP15[,1], x))\n",
    "coef15<-sapply(FP15_fitted, function(x) coef(x)) "
   ]
  },
  {
   "cell_type": "code",
   "execution_count": 18,
   "metadata": {},
   "outputs": [
    {
     "data": {
      "text/html": [
       "<table>\n",
       "<caption>A matrix: 3 × 3 of type dbl</caption>\n",
       "<thead>\n",
       "\t<tr><th scope=col>od1</th><th scope=col>od2</th><th scope=col>od3</th></tr>\n",
       "</thead>\n",
       "<tbody>\n",
       "\t<tr><td>0.005529581</td><td>0.005635300</td><td>0.005124776</td></tr>\n",
       "\t<tr><td>0.004683025</td><td>0.004651422</td><td>0.004575890</td></tr>\n",
       "\t<tr><td>0.004683025</td><td>0.004651422</td><td>0.004575890</td></tr>\n",
       "</tbody>\n",
       "</table>\n"
      ],
      "text/latex": [
       "A matrix: 3 × 3 of type dbl\n",
       "\\begin{tabular}{lll}\n",
       " od1 & od2 & od3\\\\\n",
       "\\hline\n",
       "\t 0.005529581 & 0.005635300 & 0.005124776\\\\\n",
       "\t 0.004683025 & 0.004651422 & 0.004575890\\\\\n",
       "\t 0.004683025 & 0.004651422 & 0.004575890\\\\\n",
       "\\end{tabular}\n"
      ],
      "text/markdown": [
       "\n",
       "A matrix: 3 × 3 of type dbl\n",
       "\n",
       "| od1 | od2 | od3 |\n",
       "|---|---|---|\n",
       "| 0.005529581 | 0.005635300 | 0.005124776 |\n",
       "| 0.004683025 | 0.004651422 | 0.004575890 |\n",
       "| 0.004683025 | 0.004651422 | 0.004575890 |\n",
       "\n"
      ],
      "text/plain": [
       "     od1         od2         od3        \n",
       "[1,] 0.005529581 0.005635300 0.005124776\n",
       "[2,] 0.004683025 0.004651422 0.004575890\n",
       "[3,] 0.004683025 0.004651422 0.004575890"
      ]
     },
     "metadata": {},
     "output_type": "display_data"
    }
   ],
   "source": [
    "mumax_mmcb=rbind(coef4[3,],coef14[3,],coef15[3,])\n",
    "mumax_mmcb"
   ]
  },
  {
   "cell_type": "markdown",
   "metadata": {},
   "source": [
    "I want the mean for each experiment (mean of the three replicates of one day)"
   ]
  },
  {
   "cell_type": "code",
   "execution_count": 19,
   "metadata": {},
   "outputs": [],
   "source": [
    "mumax_mmcb<-data.frame(mumax_mmcb)\n",
    "mumax_mmcb$mean<-apply(mumax_mmcb[,1:3],1,mean)\n",
    "#mumax_mmcb<-data.frame(mumax_mMCB$mean, row.names=(c(\"mmcb1\", \"mmcb2\", \"mmcb3\")))\n",
    "mumax_mmcb<-mumax_mmcb$mean"
   ]
  },
  {
   "cell_type": "code",
   "execution_count": 20,
   "metadata": {},
   "outputs": [
    {
     "data": {
      "text/html": [
       "<style>\n",
       ".list-inline {list-style: none; margin:0; padding: 0}\n",
       ".list-inline>li {display: inline-block}\n",
       ".list-inline>li:not(:last-child)::after {content: \"\\00b7\"; padding: 0 .5ex}\n",
       "</style>\n",
       "<ol class=list-inline><li>0.00542988563226513</li><li>0.00463677867724743</li><li>0.00463677867724743</li></ol>\n"
      ],
      "text/latex": [
       "\\begin{enumerate*}\n",
       "\\item 0.00542988563226513\n",
       "\\item 0.00463677867724743\n",
       "\\item 0.00463677867724743\n",
       "\\end{enumerate*}\n"
      ],
      "text/markdown": [
       "1. 0.00542988563226513\n",
       "2. 0.00463677867724743\n",
       "3. 0.00463677867724743\n",
       "\n",
       "\n"
      ],
      "text/plain": [
       "[1] 0.005429886 0.004636779 0.004636779"
      ]
     },
     "metadata": {},
     "output_type": "display_data"
    }
   ],
   "source": [
    "mumax_mmcb"
   ]
  },
  {
   "cell_type": "markdown",
   "metadata": {},
   "source": [
    "## Comparing the max growthrates"
   ]
  },
  {
   "cell_type": "markdown",
   "metadata": {},
   "source": [
    "Plotting the three mumax separately"
   ]
  },
  {
   "cell_type": "code",
   "execution_count": 21,
   "metadata": {
    "scrolled": true
   },
   "outputs": [
    {
     "data": {
      "text/html": [
       "<ol>\n",
       "\t<li><dl>\n",
       "\t<dt>$stats</dt>\n",
       "\t\t<dd><table>\n",
       "<caption>A matrix: 5 × 1 of type dbl</caption>\n",
       "<tbody>\n",
       "\t<tr><td>0.004622228</td></tr>\n",
       "\t<tr><td>0.004622502</td></tr>\n",
       "\t<tr><td>0.004622775</td></tr>\n",
       "\t<tr><td>0.004654304</td></tr>\n",
       "\t<tr><td>0.004685832</td></tr>\n",
       "</tbody>\n",
       "</table>\n",
       "</dd>\n",
       "\t<dt>$n</dt>\n",
       "\t\t<dd>3</dd>\n",
       "\t<dt>$conf</dt>\n",
       "\t\t<dd><table>\n",
       "<caption>A matrix: 2 × 1 of type dbl</caption>\n",
       "<tbody>\n",
       "\t<tr><td>0.004593765</td></tr>\n",
       "\t<tr><td>0.004651786</td></tr>\n",
       "</tbody>\n",
       "</table>\n",
       "</dd>\n",
       "\t<dt>$out</dt>\n",
       "\t\t<dd></dd>\n",
       "\t<dt>$group</dt>\n",
       "\t\t<dd></dd>\n",
       "\t<dt>$names</dt>\n",
       "\t\t<dd>'1'</dd>\n",
       "</dl>\n",
       "</li>\n",
       "\t<li><dl>\n",
       "\t<dt>$stats</dt>\n",
       "\t\t<dd><table>\n",
       "<caption>A matrix: 5 × 1 of type dbl</caption>\n",
       "<tbody>\n",
       "\t<tr><td>0.003528677</td></tr>\n",
       "\t<tr><td>0.003656835</td></tr>\n",
       "\t<tr><td>0.003784994</td></tr>\n",
       "\t<tr><td>0.003941389</td></tr>\n",
       "\t<tr><td>0.004097784</td></tr>\n",
       "</tbody>\n",
       "</table>\n",
       "</dd>\n",
       "\t<dt>$n</dt>\n",
       "\t\t<dd>3</dd>\n",
       "\t<dt>$conf</dt>\n",
       "\t\t<dd><table>\n",
       "<caption>A matrix: 2 × 1 of type dbl</caption>\n",
       "<tbody>\n",
       "\t<tr><td>0.003525420</td></tr>\n",
       "\t<tr><td>0.004044567</td></tr>\n",
       "</tbody>\n",
       "</table>\n",
       "</dd>\n",
       "\t<dt>$out</dt>\n",
       "\t\t<dd></dd>\n",
       "\t<dt>$group</dt>\n",
       "\t\t<dd></dd>\n",
       "\t<dt>$names</dt>\n",
       "\t\t<dd>'1'</dd>\n",
       "</dl>\n",
       "</li>\n",
       "\t<li><dl>\n",
       "\t<dt>$stats</dt>\n",
       "\t\t<dd><table>\n",
       "<caption>A matrix: 5 × 1 of type dbl</caption>\n",
       "<tbody>\n",
       "\t<tr><td>0.004636779</td></tr>\n",
       "\t<tr><td>0.004636779</td></tr>\n",
       "\t<tr><td>0.004636779</td></tr>\n",
       "\t<tr><td>0.005033332</td></tr>\n",
       "\t<tr><td>0.005429886</td></tr>\n",
       "</tbody>\n",
       "</table>\n",
       "</dd>\n",
       "\t<dt>$n</dt>\n",
       "\t\t<dd>3</dd>\n",
       "\t<dt>$conf</dt>\n",
       "\t\t<dd><table>\n",
       "<caption>A matrix: 2 × 1 of type dbl</caption>\n",
       "<tbody>\n",
       "\t<tr><td>0.004275037</td></tr>\n",
       "\t<tr><td>0.004998520</td></tr>\n",
       "</tbody>\n",
       "</table>\n",
       "</dd>\n",
       "\t<dt>$out</dt>\n",
       "\t\t<dd></dd>\n",
       "\t<dt>$group</dt>\n",
       "\t\t<dd></dd>\n",
       "\t<dt>$names</dt>\n",
       "\t\t<dd>'1'</dd>\n",
       "</dl>\n",
       "</li>\n",
       "</ol>\n"
      ],
      "text/latex": [
       "\\begin{enumerate}\n",
       "\\item \\begin{description}\n",
       "\\item[\\$stats] A matrix: 5 × 1 of type dbl\n",
       "\\begin{tabular}{l}\n",
       "\t 0.004622228\\\\\n",
       "\t 0.004622502\\\\\n",
       "\t 0.004622775\\\\\n",
       "\t 0.004654304\\\\\n",
       "\t 0.004685832\\\\\n",
       "\\end{tabular}\n",
       "\n",
       "\\item[\\$n] 3\n",
       "\\item[\\$conf] A matrix: 2 × 1 of type dbl\n",
       "\\begin{tabular}{l}\n",
       "\t 0.004593765\\\\\n",
       "\t 0.004651786\\\\\n",
       "\\end{tabular}\n",
       "\n",
       "\\item[\\$out] \n",
       "\\item[\\$group] \n",
       "\\item[\\$names] '1'\n",
       "\\end{description}\n",
       "\n",
       "\\item \\begin{description}\n",
       "\\item[\\$stats] A matrix: 5 × 1 of type dbl\n",
       "\\begin{tabular}{l}\n",
       "\t 0.003528677\\\\\n",
       "\t 0.003656835\\\\\n",
       "\t 0.003784994\\\\\n",
       "\t 0.003941389\\\\\n",
       "\t 0.004097784\\\\\n",
       "\\end{tabular}\n",
       "\n",
       "\\item[\\$n] 3\n",
       "\\item[\\$conf] A matrix: 2 × 1 of type dbl\n",
       "\\begin{tabular}{l}\n",
       "\t 0.003525420\\\\\n",
       "\t 0.004044567\\\\\n",
       "\\end{tabular}\n",
       "\n",
       "\\item[\\$out] \n",
       "\\item[\\$group] \n",
       "\\item[\\$names] '1'\n",
       "\\end{description}\n",
       "\n",
       "\\item \\begin{description}\n",
       "\\item[\\$stats] A matrix: 5 × 1 of type dbl\n",
       "\\begin{tabular}{l}\n",
       "\t 0.004636779\\\\\n",
       "\t 0.004636779\\\\\n",
       "\t 0.004636779\\\\\n",
       "\t 0.005033332\\\\\n",
       "\t 0.005429886\\\\\n",
       "\\end{tabular}\n",
       "\n",
       "\\item[\\$n] 3\n",
       "\\item[\\$conf] A matrix: 2 × 1 of type dbl\n",
       "\\begin{tabular}{l}\n",
       "\t 0.004275037\\\\\n",
       "\t 0.004998520\\\\\n",
       "\\end{tabular}\n",
       "\n",
       "\\item[\\$out] \n",
       "\\item[\\$group] \n",
       "\\item[\\$names] '1'\n",
       "\\end{description}\n",
       "\n",
       "\\end{enumerate}\n"
      ],
      "text/markdown": [
       "1. $stats\n",
       ":   \n",
       "A matrix: 5 × 1 of type dbl\n",
       "\n",
       "| 0.004622228 |\n",
       "| 0.004622502 |\n",
       "| 0.004622775 |\n",
       "| 0.004654304 |\n",
       "| 0.004685832 |\n",
       "\n",
       "\n",
       "$n\n",
       ":   3\n",
       "$conf\n",
       ":   \n",
       "A matrix: 2 × 1 of type dbl\n",
       "\n",
       "| 0.004593765 |\n",
       "| 0.004651786 |\n",
       "\n",
       "\n",
       "$out\n",
       ":   \n",
       "$group\n",
       ":   \n",
       "$names\n",
       ":   '1'\n",
       "\n",
       "\n",
       "\n",
       "2. $stats\n",
       ":   \n",
       "A matrix: 5 × 1 of type dbl\n",
       "\n",
       "| 0.003528677 |\n",
       "| 0.003656835 |\n",
       "| 0.003784994 |\n",
       "| 0.003941389 |\n",
       "| 0.004097784 |\n",
       "\n",
       "\n",
       "$n\n",
       ":   3\n",
       "$conf\n",
       ":   \n",
       "A matrix: 2 × 1 of type dbl\n",
       "\n",
       "| 0.003525420 |\n",
       "| 0.004044567 |\n",
       "\n",
       "\n",
       "$out\n",
       ":   \n",
       "$group\n",
       ":   \n",
       "$names\n",
       ":   '1'\n",
       "\n",
       "\n",
       "\n",
       "3. $stats\n",
       ":   \n",
       "A matrix: 5 × 1 of type dbl\n",
       "\n",
       "| 0.004636779 |\n",
       "| 0.004636779 |\n",
       "| 0.004636779 |\n",
       "| 0.005033332 |\n",
       "| 0.005429886 |\n",
       "\n",
       "\n",
       "$n\n",
       ":   3\n",
       "$conf\n",
       ":   \n",
       "A matrix: 2 × 1 of type dbl\n",
       "\n",
       "| 0.004275037 |\n",
       "| 0.004998520 |\n",
       "\n",
       "\n",
       "$out\n",
       ":   \n",
       "$group\n",
       ":   \n",
       "$names\n",
       ":   '1'\n",
       "\n",
       "\n",
       "\n",
       "\n",
       "\n"
      ],
      "text/plain": [
       "[[1]]\n",
       "[[1]]$stats\n",
       "            [,1]\n",
       "[1,] 0.004622228\n",
       "[2,] 0.004622502\n",
       "[3,] 0.004622775\n",
       "[4,] 0.004654304\n",
       "[5,] 0.004685832\n",
       "\n",
       "[[1]]$n\n",
       "[1] 3\n",
       "\n",
       "[[1]]$conf\n",
       "            [,1]\n",
       "[1,] 0.004593765\n",
       "[2,] 0.004651786\n",
       "\n",
       "[[1]]$out\n",
       "numeric(0)\n",
       "\n",
       "[[1]]$group\n",
       "numeric(0)\n",
       "\n",
       "[[1]]$names\n",
       "[1] \"1\"\n",
       "\n",
       "\n",
       "[[2]]\n",
       "[[2]]$stats\n",
       "            [,1]\n",
       "[1,] 0.003528677\n",
       "[2,] 0.003656835\n",
       "[3,] 0.003784994\n",
       "[4,] 0.003941389\n",
       "[5,] 0.004097784\n",
       "\n",
       "[[2]]$n\n",
       "[1] 3\n",
       "\n",
       "[[2]]$conf\n",
       "            [,1]\n",
       "[1,] 0.003525420\n",
       "[2,] 0.004044567\n",
       "\n",
       "[[2]]$out\n",
       "numeric(0)\n",
       "\n",
       "[[2]]$group\n",
       "numeric(0)\n",
       "\n",
       "[[2]]$names\n",
       "[1] \"1\"\n",
       "\n",
       "\n",
       "[[3]]\n",
       "[[3]]$stats\n",
       "            [,1]\n",
       "[1,] 0.004636779\n",
       "[2,] 0.004636779\n",
       "[3,] 0.004636779\n",
       "[4,] 0.005033332\n",
       "[5,] 0.005429886\n",
       "\n",
       "[[3]]$n\n",
       "[1] 3\n",
       "\n",
       "[[3]]$conf\n",
       "            [,1]\n",
       "[1,] 0.004275037\n",
       "[2,] 0.004998520\n",
       "\n",
       "[[3]]$out\n",
       "numeric(0)\n",
       "\n",
       "[[3]]$group\n",
       "numeric(0)\n",
       "\n",
       "[[3]]$names\n",
       "[1] \"1\"\n",
       "\n"
      ]
     },
     "metadata": {},
     "output_type": "display_data"
    },
    {
     "data": {
      "image/png": "[encoded data removed]",
      "text/plain": [
       "plot without title"
      ]
     },
     "metadata": {
      "image/png": {
       "height": 420,
       "width": 420
      }
     },
     "output_type": "display_data"
    }
   ],
   "source": [
    "par(mfrow=c(1,3))\n",
    "#options(repr.plot.width=4, repr.plot.height=3)\n",
    "lapply(list(mumax_rcm,mumax_mgam,mumax_mmcb), function(x) boxplot(x)) #supressing the stats output?? How to?"
   ]
  },
  {
   "cell_type": "markdown",
   "metadata": {},
   "source": [
    "All the max growthrates in one graph."
   ]
  },
  {
   "cell_type": "code",
   "execution_count": 22,
   "metadata": {},
   "outputs": [
    {
     "data": {
      "text/html": [
       "<table>\n",
       "<caption>A data.frame: 9 × 2</caption>\n",
       "<thead>\n",
       "\t<tr><th></th><th scope=col>value</th><th scope=col>medium</th></tr>\n",
       "\t<tr><th></th><th scope=col>&lt;dbl&gt;</th><th scope=col>&lt;fct&gt;</th></tr>\n",
       "</thead>\n",
       "<tbody>\n",
       "\t<tr><th scope=row>rcm1</th><td>0.004622228</td><td>rcm </td></tr>\n",
       "\t<tr><th scope=row>rcm2</th><td>0.004685832</td><td>rcm </td></tr>\n",
       "\t<tr><th scope=row>rcm3</th><td>0.004622775</td><td>rcm </td></tr>\n",
       "\t<tr><th scope=row>mgam1</th><td>0.003528677</td><td>mgam</td></tr>\n",
       "\t<tr><th scope=row>mgam2</th><td>0.004097784</td><td>mgam</td></tr>\n",
       "\t<tr><th scope=row>mgam3</th><td>0.003784994</td><td>mgam</td></tr>\n",
       "\t<tr><th scope=row>1</th><td>0.005429886</td><td>mmcb</td></tr>\n",
       "\t<tr><th scope=row>2</th><td>0.004636779</td><td>mmcb</td></tr>\n",
       "\t<tr><th scope=row>3</th><td>0.004636779</td><td>mmcb</td></tr>\n",
       "</tbody>\n",
       "</table>\n"
      ],
      "text/latex": [
       "A data.frame: 9 × 2\n",
       "\\begin{tabular}{r|ll}\n",
       "  & value & medium\\\\\n",
       "  & <dbl> & <fct>\\\\\n",
       "\\hline\n",
       "\trcm1 & 0.004622228 & rcm \\\\\n",
       "\trcm2 & 0.004685832 & rcm \\\\\n",
       "\trcm3 & 0.004622775 & rcm \\\\\n",
       "\tmgam1 & 0.003528677 & mgam\\\\\n",
       "\tmgam2 & 0.004097784 & mgam\\\\\n",
       "\tmgam3 & 0.003784994 & mgam\\\\\n",
       "\t1 & 0.005429886 & mmcb\\\\\n",
       "\t2 & 0.004636779 & mmcb\\\\\n",
       "\t3 & 0.004636779 & mmcb\\\\\n",
       "\\end{tabular}\n"
      ],
      "text/markdown": [
       "\n",
       "A data.frame: 9 × 2\n",
       "\n",
       "| <!--/--> | value &lt;dbl&gt; | medium &lt;fct&gt; |\n",
       "|---|---|---|\n",
       "| rcm1 | 0.004622228 | rcm  |\n",
       "| rcm2 | 0.004685832 | rcm  |\n",
       "| rcm3 | 0.004622775 | rcm  |\n",
       "| mgam1 | 0.003528677 | mgam |\n",
       "| mgam2 | 0.004097784 | mgam |\n",
       "| mgam3 | 0.003784994 | mgam |\n",
       "| 1 | 0.005429886 | mmcb |\n",
       "| 2 | 0.004636779 | mmcb |\n",
       "| 3 | 0.004636779 | mmcb |\n",
       "\n"
      ],
      "text/plain": [
       "      value       medium\n",
       "rcm1  0.004622228 rcm   \n",
       "rcm2  0.004685832 rcm   \n",
       "rcm3  0.004622775 rcm   \n",
       "mgam1 0.003528677 mgam  \n",
       "mgam2 0.004097784 mgam  \n",
       "mgam3 0.003784994 mgam  \n",
       "1     0.005429886 mmcb  \n",
       "2     0.004636779 mmcb  \n",
       "3     0.004636779 mmcb  "
      ]
     },
     "metadata": {},
     "output_type": "display_data"
    }
   ],
   "source": [
    "medium<-c(\"rcm\",\"rcm\",\"rcm\",\"mgam\",\"mgam\",\"mgam\", \"mmcb\", \"mmcb\", \"mmcb\")\n",
    "mumax_high<-rbind(melt(coef.list[3,]), melt(mumax_mmcb))\n",
    "mumax_high<-cbind(mumax_high, medium)\n",
    "mumax_high"
   ]
  },
  {
   "cell_type": "code",
   "execution_count": 23,
   "metadata": {},
   "outputs": [
    {
     "data": {
      "image/png": "[encoded data removed]",
      "text/plain": [
       "plot without title"
      ]
     },
     "metadata": {
      "image/png": {
       "height": 420,
       "width": 420
      }
     },
     "output_type": "display_data"
    }
   ],
   "source": [
    "ggplot(mumax_high, aes(x = medium, y = value, color=medium)) + \n",
    "  geom_boxplot() +\n",
    "  ggtitle(\"Max growth rates\")"
   ]
  },
  {
   "cell_type": "markdown",
   "metadata": {},
   "source": [
    "RCM and mMCB contain acetate (said it wrong in presentation). Also look at standard deviations:"
   ]
  },
  {
   "cell_type": "code",
   "execution_count": 24,
   "metadata": {},
   "outputs": [
    {
     "data": {
      "text/html": [
       "0.000285019929665384"
      ],
      "text/latex": [
       "0.000285019929665384"
      ],
      "text/markdown": [
       "0.000285019929665384"
      ],
      "text/plain": [
       "[1] 0.0002850199"
      ]
     },
     "metadata": {},
     "output_type": "display_data"
    },
    {
     "data": {
      "text/html": [
       "0.000457900513975631"
      ],
      "text/latex": [
       "0.000457900513975631"
      ],
      "text/markdown": [
       "0.000457900513975631"
      ],
      "text/plain": [
       "[1] 0.0004579005"
      ]
     },
     "metadata": {},
     "output_type": "display_data"
    },
    {
     "data": {
      "text/html": [
       "3.65645869949259e-05"
      ],
      "text/latex": [
       "3.65645869949259e-05"
      ],
      "text/markdown": [
       "3.65645869949259e-05"
      ],
      "text/plain": [
       "[1] 3.656459e-05"
      ]
     },
     "metadata": {},
     "output_type": "display_data"
    }
   ],
   "source": [
    "sd(mumax_mgam)\n",
    "sd(mumax_mmcb)\n",
    "sd(mumax_rcm) #very low dispersion, can see it in the boxplot"
   ]
  },
  {
   "cell_type": "markdown",
   "metadata": {},
   "source": [
    "### First mean per time step (instead of mean of the maximum growth rate)\n",
    "It should be the same. First do the mean for each time step for each medium and then fit the linear regression to those data points."
   ]
  },
  {
   "cell_type": "code",
   "execution_count": null,
   "metadata": {},
   "outputs": [],
   "source": []
  },
  {
   "cell_type": "code",
   "execution_count": null,
   "metadata": {},
   "outputs": [],
   "source": []
  },
  {
   "cell_type": "code",
   "execution_count": null,
   "metadata": {},
   "outputs": [],
   "source": []
  }
 ],
 "metadata": {
  "kernelspec": {
   "display_name": "R",
   "language": "R",
   "name": "ir"
  },
  "language_info": {
   "codemirror_mode": "r",
   "file_extension": ".r",
   "mimetype": "text/x-r-source",
   "name": "R",
   "pygments_lexer": "r",
   "version": "3.6.1"
  }
 },
 "nbformat": 4,
 "nbformat_minor": 4
}
